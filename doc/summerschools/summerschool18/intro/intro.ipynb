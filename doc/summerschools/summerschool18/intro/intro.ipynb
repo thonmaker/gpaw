{
 "cells": [
  {
   "cell_type": "markdown",
   "metadata": {},
   "source": [
    "# Introduction to Python and ASE and some useful libraries"
   ]
  },
  {
   "cell_type": "markdown",
   "metadata": {},
   "source": [
    "## What is Python?\n",
    "#### An interpretted language\n",
    "You can google stuff, we mainly need simple things and \n",
    "\n",
    "some links for reference:\n",
    "* [Python](https://www.python.org/) \n",
    "* Numerical package [NumPy](http://www.numpy.org/) \n",
    "* Scientific package [Scipy](https://www.scipy.org/) \n",
    "* Plotting package [Matplotlib](https://matplotlib.org/)"
   ]
  },
  {
   "cell_type": "markdown",
   "metadata": {},
   "source": [
    "# Lets try and run some stuff\n",
    "(hit shift + enter to run a cell)"
   ]
  },
  {
   "cell_type": "code",
   "execution_count": null,
   "metadata": {},
   "outputs": [],
   "source": [
    "2 + 3"
   ]
  },
  {
   "cell_type": "code",
   "execution_count": null,
   "metadata": {},
   "outputs": [],
   "source": [
    "print('Hello')"
   ]
  },
  {
   "cell_type": "code",
   "execution_count": null,
   "metadata": {},
   "outputs": [],
   "source": [
    "print('Hello ' * 5)"
   ]
  },
  {
   "cell_type": "code",
   "execution_count": null,
   "metadata": {},
   "outputs": [],
   "source": [
    "# help is useful for getting help of af method\n",
    "help(print)"
   ]
  },
  {
   "cell_type": "markdown",
   "metadata": {},
   "source": [
    "## Some datastructures\n",
    "#### A `list` is an ordered collection of arbitrary objects"
   ]
  },
  {
   "cell_type": "code",
   "execution_count": null,
   "metadata": {},
   "outputs": [],
   "source": [
    "# a list\n",
    "l = [1, ('gg', 7), 'hmm', 1.2]\n",
    "print(l)\n",
    "print(l[1])   # Python counts from zero, so this is the second element\n",
    "print(l[-2])  # indexing with negative numbers counts from the end"
   ]
  },
  {
   "cell_type": "markdown",
   "metadata": {},
   "source": [
    "#### A `dict`  is a mapping from keys to values "
   ]
  },
  {
   "cell_type": "code",
   "execution_count": null,
   "metadata": {},
   "outputs": [],
   "source": [
    "d = {'s': 0, 'p': 1}\n",
    "print(d)\n",
    "print(d['p'])\n",
    "del d['s']\n",
    "print(d)"
   ]
  },
  {
   "cell_type": "markdown",
   "metadata": {},
   "source": [
    "#### A `tuple`  is an ordered collection like a list but is *immutable*\n",
    "useful for keywords in `dict`"
   ]
  },
  {
   "cell_type": "code",
   "execution_count": null,
   "metadata": {},
   "outputs": [],
   "source": [
    "# with a list we can reassign values\n",
    "x = [2, 3]\n",
    "x[0] = 100\n",
    "print(x)\n",
    "# this it not possible with a tuple\n",
    "y = (2, 3)\n",
    "print('y = ', y)\n",
    "try:\n",
    "    y[0] = 100\n",
    "except Exception as x:\n",
    "    print(x)\n",
    "print('y = ', y)"
   ]
  },
  {
   "cell_type": "code",
   "execution_count": null,
   "metadata": {},
   "outputs": [],
   "source": [
    "# lets try and use a namedtuple as keys for a dict\n",
    "from collections import namedtuple\n",
    "SKN = namedtuple('IndexSKN', ('spin', 'kpt', 'band'))\n",
    "d = {}\n",
    "d[SKN(0, 10, 5)] = 3.14\n",
    "d[SKN(0, 1, 3)] = 2.72\n",
    "print(d)"
   ]
  },
  {
   "cell_type": "code",
   "execution_count": null,
   "metadata": {},
   "outputs": [],
   "source": [
    "key = SKN(spin=0, kpt=1, band=3)\n",
    "print(d[key])\n",
    "print(d[(0, 1, 3)])  # one can also use a normal tuple as key"
   ]
  },
  {
   "cell_type": "markdown",
   "metadata": {},
   "source": [
    "# NumPy\n",
    "#### NumPy arrays are heavely used in [ASE](https://wiki.fysik.dtu.dk/ase/)\n",
    "ASE makes heavy use of an extension to Python called NumPy. The NumPy module defines an `ndarray` type that can hold large arrays of uniform multidimensional numeric data. An array is similar to a `list` or a `tuple`, but it is a lot more powerful and efficient."
   ]
  },
  {
   "cell_type": "code",
   "execution_count": null,
   "metadata": {},
   "outputs": [],
   "source": [
    "import numpy as np\n",
    "x = np.array([1, 2, 3])\n",
    "print(x)\n",
    "print(x.mean())"
   ]
  },
  {
   "cell_type": "code",
   "execution_count": null,
   "metadata": {},
   "outputs": [],
   "source": [
    "# Multidimensional array\n",
    "a = np.zeros((3, 2))\n",
    "a[:, 1] = 1.0\n",
    "a[1, :] = 1.0\n",
    "print(a.shape)\n",
    "print(a.ndim)\n",
    "print(a.dtype)\n",
    "print(a)"
   ]
  },
  {
   "cell_type": "code",
   "execution_count": null,
   "metadata": {},
   "outputs": [],
   "source": [
    "# Matrix muliplication\n",
    "print('shape of a', a.shape)\n",
    "print('shape of a.T', a.T.shape)  # .T transpose a matrix\n",
    "b = np.dot(a, a.T)\n",
    "print(b)\n",
    "# in a more READABLE way one can use @ to dot matrices together\n",
    "c = a @ a.T\n",
    "print('is c equal to b:', np.alltrue(c == b))"
   ]
  },
  {
   "cell_type": "code",
   "execution_count": null,
   "metadata": {},
   "outputs": [],
   "source": [
    "# Elementwise multiplication\n",
    "d = a * a\n",
    "print(d)"
   ]
  },
  {
   "cell_type": "code",
   "execution_count": null,
   "metadata": {},
   "outputs": [],
   "source": [
    "# Random Hermitian matrix\n",
    "rand = np.random.rand\n",
    "H = rand(6, 6) + 1j * rand(6, 6)  # 1j = sqrt(-1)\n",
    "H = H + H.T.conj()\n",
    "\n",
    "# Eigenvalues and eigenvectors\n",
    "eps, U = np.linalg.eig(H)\n",
    "\n",
    "#  Make print of numpy arrays less messy:\n",
    "np.set_printoptions(precision=3, suppress=True)\n",
    "print(eps.real)\n",
    "\n",
    "# lets try and sort them\n",
    "sorted_indices = eps.real.argsort()\n",
    "eps = eps[sorted_indices]\n",
    "U = U[:, sorted_indices]\n",
    "print('after sorting: ', eps.real)\n",
    "\n",
    "# Check that U diagonalizes H\n",
    "D1 = np.diag(eps)  # Diagonal matrix\n",
    "D2 = U.T.conj() @ H @ U  # Diagonalized H matrix\n",
    "print(D2 - D1)\n",
    "print(np.allclose(D2, D1)) # are the numbers in the two matrices close to each other?"
   ]
  },
  {
   "cell_type": "markdown",
   "metadata": {},
   "source": [
    "\n",
    "# Plotting with matplotlib\n",
    " see here for more details [Matplotlib](https://matplotlib.org/)"
   ]
  },
  {
   "cell_type": "code",
   "execution_count": null,
   "metadata": {},
   "outputs": [],
   "source": [
    "# In a Jupyter Notebook, this magic line gives nice inline figures, with interactive possibilities.\n",
    "# This line MUST appear before you import matplotlib or a package using matplotlib (e.g. ase)\n",
    "%matplotlib notebook\n",
    "import matplotlib.pyplot as plt\n",
    "import numpy as np\n",
    "# Start a new figure\n",
    "plt.figure()\n",
    "# lets plot a line\n",
    "x = [0, 1]\n",
    "y = [0, 1]\n",
    "plt.plot(x, y)"
   ]
  },
  {
   "cell_type": "code",
   "execution_count": null,
   "metadata": {},
   "outputs": [],
   "source": [
    "# more advanced example\n",
    "fig, axs = plt.subplots(1, 2, sharey=True)\n",
    "x = np.linspace(0, 2 * np.pi, 100)\n",
    "axs[0].plot(x, np.cos(x), label='cos')\n",
    "axs[1].plot(x, np.sin(x), label='sin')\n",
    "axs[0].legend()\n",
    "axs[1].legend()\n",
    "plt.show()"
   ]
  },
  {
   "cell_type": "code",
   "execution_count": null,
   "metadata": {},
   "outputs": [],
   "source": [
    "# plotting a countour\n",
    "x = np.linspace(-1, 1, 100)\n",
    "y = np.linspace(-2, 2, 100)\n",
    "X, Y = np.meshgrid(x, y)\n",
    "Z = X**2 + Y**2\n",
    "N = 15\n",
    "\n",
    "fig, ax = plt.subplots(1, 1)\n",
    "ax.contour(X, Y, Z, N)\n",
    "ax.set_aspect('equal')"
   ]
  },
  {
   "cell_type": "markdown",
   "metadata": {},
   "source": [
    "# Benzene tight-binding exercise \n",
    "#### 1. Setup a nearest neighbour Huckel model (aka tight-binding model) for the pi system of a benzene molecule with a hopping\n",
    "parameter t=-1\n",
    "#### 2. Use matplotlib to try and visualize the Huckel wave-functions by using plt.scatter"
   ]
  },
  {
   "cell_type": "code",
   "execution_count": null,
   "metadata": {},
   "outputs": [],
   "source": [
    "t = -1\n",
    "H = np.eye(6, 6, 1) + np.eye(6, 6, -1)\n",
    "H[0, -1]  = H[-1, 0] = 1\n",
    "H *= t\n",
    "# H[0, 0] = 1.0e-5  # small pertubation\n",
    "eps, U = np.linalg.eigh(H)"
   ]
  },
  {
   "cell_type": "markdown",
   "metadata": {},
   "source": [
    "If the lines above are not 100% transparent to you, make a new notebook cell and check what the functions do!\n",
    "\n",
    "What does ``np.eye()`` do?\n",
    "\n",
    "What does ``np.linalg.eigh()`` do?"
   ]
  },
  {
   "cell_type": "code",
   "execution_count": null,
   "metadata": {},
   "outputs": [],
   "source": [
    "# positions of carbon atoms in the xy plane\n",
    "angles = np.arange(6) * 2 * np.pi / 6\n",
    "x_positions = np.cos(angles)\n",
    "y_positions = np.sin(angles)\n",
    "\n",
    "# lets visualize the wave functions with a\n",
    "# simple scatter plot\n",
    "fig, axs = plt.subplots(1, 6)\n",
    "fig.set_figwidth(10)\n",
    "for ax, wfs in zip(axs, U.T):\n",
    "    ax.scatter(x_positions, y_positions, c='k', zorder=2)  # carbon atoms postions\n",
    "    ax.scatter(x_positions, y_positions, s=abs(wfs) * 1000, c=np.sign(wfs))\n",
    "    ax.set_aspect('equal', 'box')\n",
    "    ax.set_axis_off()\n",
    "    ax.set_ylim(y_positions.min() * 1.5, y_positions.max() * 1.5)"
   ]
  },
  {
   "cell_type": "code",
   "execution_count": null,
   "metadata": {},
   "outputs": [],
   "source": [
    "plt.figure()\n",
    "plt.plot(eps, 'o')\n",
    "plt.xlabel('band index')\n",
    "plt.ylabel('Eigenvalue')"
   ]
  },
  {
   "cell_type": "markdown",
   "metadata": {},
   "source": [
    "# ASE (atomic simulation environment)\n",
    "## more details can be found here: https://wiki.fysik.dtu.dk/ase/index.html"
   ]
  },
  {
   "cell_type": "markdown",
   "metadata": {},
   "source": [
    "## Everything starts with a structure!\n",
    "In ASE the most important ingredients is the `Atom` amd `Atoms` objects used to setup an atomic structure\n",
    "### Setting op a molecule using the `Atoms` object"
   ]
  },
  {
   "cell_type": "code",
   "execution_count": null,
   "metadata": {},
   "outputs": [],
   "source": [
    "from ase import Atoms\n",
    "d = 1.1\n",
    "co = Atoms('CO', positions=[[0, 0, 0], [0, 0, d]])"
   ]
  },
  {
   "cell_type": "code",
   "execution_count": null,
   "metadata": {},
   "outputs": [],
   "source": [
    "# lets try and visualize it using the build in viewer in ase\n",
    "from ase.visualize import view\n",
    "view(co)"
   ]
  },
  {
   "cell_type": "markdown",
   "metadata": {},
   "source": [
    "### Setting up a periodic structure"
   ]
  },
  {
   "cell_type": "code",
   "execution_count": null,
   "metadata": {},
   "outputs": [],
   "source": [
    "d = 2.9\n",
    "L = 10\n",
    "wire = Atoms('Au', positions=[[0, L / 2, L / 2]],\n",
    "             cell=[d, L, L], pbc=[1, 0, 0])\n",
    "#lets try and repeat it and visualize primitive and repeated\n",
    "wire10 = wire * (10, 1, 1)\n",
    "view([wire, wire10])"
   ]
  },
  {
   "cell_type": "markdown",
   "metadata": {},
   "source": [
    "## Nitrogen on copper\n",
    "### Exercise of the relaxation of a molecule on a surface\n",
    "This section gives a quick (and incomplete) overview of what ASE can do.\n",
    "\n",
    "We will calculate the adsorption energy of a nitrogen molecule on a copper surface. This is done by calculating the total energy for the isolated slab and for the isolated molecule. The adsorbate is then added to the slab and relaxed, and the total energy for this composite system is calculated. The adsorption energy is obtained as the sum of the isolated energies minus the energy of the composite system.\n",
    "\n",
    "You can read more about the optimizers in ASE here: https://wiki.fysik.dtu.dk/ase/ase/optimize.html\n",
    "#### 1.  Calculate the adsorption energy of N2 on a 4x4x2 fcc111 slab (result= 0.324 eV)\n",
    "#### 2. Try a couple of different optimizers and see which one is the fastest"
   ]
  },
  {
   "cell_type": "code",
   "execution_count": null,
   "metadata": {},
   "outputs": [],
   "source": [
    "from ase import Atoms\n",
    "from ase.calculators.emt import EMT\n",
    "from ase.constraints import FixAtoms\n",
    "from ase.optimize import QuasiNewton\n",
    "from ase.build import fcc111, add_adsorbate\n",
    "from ase.visualize import view\n",
    "\n",
    "h = 2.85\n",
    "d = 1.10\n",
    "\n",
    "slab = fcc111('Cu', size=(4, 4, 2), vacuum=10.0)\n",
    "slab.set_calculator(EMT())\n",
    "e_slab = slab.get_potential_energy()\n",
    "# setup a molecule\n",
    "molecule = Atoms('2N', positions=[(0., 0., 0.), (0., 0., d)])\n",
    "molecule.set_calculator(EMT())\n",
    "e_N2 = molecule.get_potential_energy()\n",
    "\n",
    "add_adsorbate(slab, molecule, h, 'ontop')\n",
    "constraint = FixAtoms(mask=[a.symbol != 'N' for a in slab])\n",
    "slab.set_constraint(constraint)\n",
    "dyn = QuasiNewton(slab, trajectory='N2Cu.traj')\n",
    "dyn.run(fmax=0.05)\n",
    "\n",
    "print('Adsorption energy:', e_slab + e_N2 - slab.get_potential_energy())"
   ]
  },
  {
   "cell_type": "code",
   "execution_count": null,
   "metadata": {},
   "outputs": [],
   "source": [
    "# Visualize the trajectory\n",
    "!ase gui N2Cu.traj"
   ]
  },
  {
   "cell_type": "markdown",
   "metadata": {},
   "source": [
    "## Band structure\n",
    "#### Using ASE to setup band structures"
   ]
  },
  {
   "cell_type": "code",
   "execution_count": null,
   "metadata": {},
   "outputs": [],
   "source": [
    "# simple free electron calculator\n",
    "from ase.build import bulk\n",
    "from ase.calculators.test import FreeElectrons\n",
    "\n",
    "a = bulk('Al')\n",
    "kpts = {'path': 'GXWLGK', 'npoints': 100}\n",
    "\n",
    "# Simple FreeElectron model calculator\n",
    "a.calc = FreeElectrons(nvalence=3,\n",
    "                       kpts=kpts)\n",
    "a.get_potential_energy()\n",
    "bs = a.calc.band_structure()\n",
    "bs.plot(emax=10, filename='al-free-electron.png')"
   ]
  },
  {
   "cell_type": "code",
   "execution_count": null,
   "metadata": {},
   "outputs": [],
   "source": [
    "# setup a DFT calculation with GPAW and repeat\n",
    "from gpaw import GPAW, PW\n",
    "# calc the self-consistent electron density\n",
    "a.calc = GPAW(kpts=(3, 3, 3), mode=PW(200), txt=None)\n",
    "a.get_potential_energy()\n",
    "# band-structure calculation for a fixed density\n",
    "a.calc.set(fixdensity=True,\n",
    "           kpts=kpts,\n",
    "           symmetry='off',\n",
    "           nbands=-10,\n",
    "           convergence={'bands': -5})\n",
    "a.get_potential_energy()\n",
    "bs = a.calc.band_structure()\n",
    "bs.plot(emax=10, filename='al-dft.png')"
   ]
  }
 ],
 "metadata": {
  "kernelspec": {
   "display_name": "Python 3",
   "language": "python",
   "name": "python3"
  },
  "language_info": {
   "codemirror_mode": {
    "name": "ipython",
    "version": 3
   },
   "file_extension": ".py",
   "mimetype": "text/x-python",
   "name": "python",
   "nbconvert_exporter": "python",
   "pygments_lexer": "ipython3",
   "version": "3.6.5"
  }
 },
 "nbformat": 4,
 "nbformat_minor": 2
}
