{
 "cells": [
  {
   "cell_type": "markdown",
   "metadata": {},
   "source": [
    "## Introduction to Nudged Elastic Band (NEB) calculations\n",
    "This tutorial describes how to use the NEB method to calculate the diffusion barrier for an Au atom on Al(001). If you are not familiar with the NEB method some relevant references are listed [here.](https://wiki.fysik.dtu.dk/ase/ase/neb.html) \n",
    "\n",
    "The tutorial uses the EMT potential in stead of DFT, as this is a lot faster. It is based on a [tutorial found on the ASE webpage](https://wiki.fysik.dtu.dk/ase/tutorials/neb/diffusion.html#diffusion-tutorial).\n"
   ]
  },
  {
   "cell_type": "code",
   "execution_count": null,
   "metadata": {},
   "outputs": [],
   "source": [
    "%matplotlib notebook\n",
    "import matplotlib.pyplot as plt\n",
    "from ase.build import fcc100, add_adsorbate\n",
    "from ase.constraints import FixAtoms\n",
    "from ase.calculators.emt import EMT\n",
    "from ase.optimize import BFGS\n",
    "from ase.visualize import view\n",
    "from ase.neb import NEB\n",
    "from ase.io import read"
   ]
  },
  {
   "cell_type": "markdown",
   "metadata": {},
   "source": [
    "First we set up the initial state and check that it looks ok:"
   ]
  },
  {
   "cell_type": "code",
   "execution_count": null,
   "metadata": {},
   "outputs": [],
   "source": [
    "# 2x2-Al(001) surface with 3 layers and an\n",
    "# Au atom adsorbed in a hollow site:\n",
    "slab = fcc100('Al', size=(2, 2, 3))\n",
    "add_adsorbate(slab, 'Au', 1.7, 'hollow')\n",
    "slab.center(axis=2, vacuum=4.0)\n",
    "view(slab)"
   ]
  },
  {
   "cell_type": "markdown",
   "metadata": {},
   "source": [
    "Then we optimise the structure and save it"
   ]
  },
  {
   "cell_type": "code",
   "execution_count": null,
   "metadata": {},
   "outputs": [],
   "source": [
    "# Fix second and third layers:\n",
    "mask = [atom.tag > 1 for atom in slab]\n",
    "slab.set_constraint(FixAtoms(mask=mask))\n",
    "\n",
    "# Use EMT potential:\n",
    "slab.set_calculator(EMT())\n",
    "\n",
    "# Optimise initial state:\n",
    "qn = BFGS(slab, trajectory='initial.traj')\n",
    "qn.run(fmax=0.05)"
   ]
  },
  {
   "cell_type": "markdown",
   "metadata": {},
   "source": [
    "We make the final state by moving the Au atom one lattice constant and optimise again."
   ]
  },
  {
   "cell_type": "code",
   "execution_count": null,
   "metadata": {},
   "outputs": [],
   "source": [
    "# Optimise final state:\n",
    "slab[-1].x += slab.get_cell()[0, 0] / 2\n",
    "qn = BFGS(slab, trajectory='final.traj')\n",
    "qn.run(fmax=0.05)"
   ]
  },
  {
   "cell_type": "markdown",
   "metadata": {},
   "source": [
    "Now we make a NEB calculation with 3 images between the inital and final states. The images are initially made as copies of the initial state and the command `interpolate()` makes a linear interpolation between the initial and final state. As always, we check that everything looks ok before we run the calculation.\n",
    "\n",
    "NOTE: The linear interpolation works well in this case but not for e.g. rotations. In this case an improved starting guess can be made with the [IDPP method.](https://wiki.fysik.dtu.dk/ase/tutorials/neb/idpp.html#idpp-tutorial)  "
   ]
  },
  {
   "cell_type": "code",
   "execution_count": null,
   "metadata": {},
   "outputs": [],
   "source": [
    "initial = read('initial.traj')\n",
    "final = read('final.traj')\n",
    "\n",
    "constraint = FixAtoms(mask=[atom.tag > 1 for atom in initial])\n",
    "\n",
    "n_im = 3 #Number of images\n",
    "images = [initial]\n",
    "for i in range(n_im):\n",
    "    image = initial.copy()\n",
    "    image.set_calculator(EMT())\n",
    "    image.set_constraint(constraint)\n",
    "    images.append(image)\n",
    "\n",
    "images.append(final)\n",
    "\n",
    "neb = NEB(images)\n",
    "neb.interpolate()\n",
    "view(images)"
   ]
  },
  {
   "cell_type": "code",
   "execution_count": null,
   "metadata": {},
   "outputs": [],
   "source": [
    "qn = BFGS(neb, trajectory='neb.traj')\n",
    "qn.run(fmax=0.05)"
   ]
  },
  {
   "cell_type": "markdown",
   "metadata": {},
   "source": [
    "We visualize the final path with:"
   ]
  },
  {
   "cell_type": "code",
   "execution_count": null,
   "metadata": {},
   "outputs": [],
   "source": [
    "view(images)"
   ]
  },
  {
   "cell_type": "markdown",
   "metadata": {},
   "source": [
    "You can find the barrier by selecting Tools->NEB in the gui (unfortunately, the gui cannot show graphs when started from a notebook), or you can make a script using [NEBTools](https://wiki.fysik.dtu.dk/ase/ase/neb.html#ase.neb.NEBTools), e.g.:"
   ]
  },
  {
   "cell_type": "code",
   "execution_count": null,
   "metadata": {},
   "outputs": [],
   "source": [
    "from ase.neb import NEBTools\n",
    "\n",
    "images = read('neb.traj@-5:')\n",
    "\n",
    "nebtools = NEBTools(images)\n",
    "\n",
    "# Get the calculated barrier and the energy change of the reaction.\n",
    "Ef, dE = nebtools.get_barrier()\n",
    "print('Barrier:', Ef)\n",
    "print('Reaction energy:', dE)\n",
    "\n",
    "fig, ax = plt.subplots()   # Generate new matplotlib axis - otherwise nebtools plot double.\n",
    "nebtools.plot_band(ax)"
   ]
  },
  {
   "cell_type": "markdown",
   "metadata": {},
   "source": [
    "## Exercise\n",
    "\n",
    "Now you should make your own NEB using the configuration with N<sub>2</sub> lying down as the initial state and the configuration with two N atoms adsorbed on the surface as the final state. The NEB needs to run in parallel so you should make it as a python script, however you can use the Notebook to test your configurations (but not the parallelisation) if you like and export it as a script in the end. \n",
    "\n",
    "### Parallelisation\n",
    "The NEB should be parallelised over images. An example can be found in [this GPAW tutorial](https://wiki.fysik.dtu.dk/gpaw/tutorials/neb/neb.html). The script enumerates the cpu's and uses this number (``rank``) along with the total number of cpu's (``size``) to distribute the tasks. "
   ]
  },
  {
   "cell_type": "code",
   "execution_count": null,
   "metadata": {},
   "outputs": [],
   "source": [
    "# This code is just for illustration \n",
    "from ase.parallel import rank, size\n",
    "n_im = 4              # Number of images\n",
    "n = size // n_im      # number of cpu's per image\n",
    "j = 1 + rank // n     # image number on this cpu\n",
    "assert n_im * n == size"
   ]
  },
  {
   "cell_type": "markdown",
   "metadata": {},
   "source": [
    "For each image we assign a set of cpu's identified by their rank. The rank numbers are given to the calculator associated with this image. "
   ]
  },
  {
   "cell_type": "code",
   "execution_count": null,
   "metadata": {},
   "outputs": [],
   "source": [
    "# This code is just for illustration\n",
    "from gpaw import GPAW, PW \n",
    "images = [initial]\n",
    "for i in range(n_im):\n",
    "    ranks = range(i * n, (i + 1) * n)\n",
    "    image = initial.copy()\n",
    "    image.set_constraint(constraint)\n",
    "    if rank in ranks:\n",
    "        calc = GPAW(mode=PW(350),\n",
    "                    nbands='130%',\n",
    "                    xc='PBE',  # student: ...,\n",
    "                    txt='{}.txt'.format(i),\n",
    "                    communicator=ranks)\n",
    "        image.set_calculator(calc)\n",
    "    images.append(image)\n",
    "images.append(final)"
   ]
  },
  {
   "cell_type": "markdown",
   "metadata": {},
   "source": [
    "When running the parallel NEB, you should choose the number of CPU cores properly.  Let Ncore = N_im * Nk where N_im is the number of images, and Nk is a divisor of the number of k-points; i.e. if there are 6 irreducible k-point, Nk should be 1, 2, 3 or 6.  Keep the total number of cores to 24 or less, or your job will wait too long in the queue."
   ]
  },
  {
   "cell_type": "markdown",
   "metadata": {},
   "source": [
    "### Input parameters\n",
    "Some suitable parameters for the NEB are given below:\n",
    "* Use the same calculator and constraints as for the initial and final images, but remember to set the `communicator` as described above\n",
    "* Use 6 images. This gives a reasonable description of the energy landscape and can be run e.g. on 12 cores.\n",
    "* Use a spring constant of 1.0 between the images. A lower value will slow the convergence\n",
    "* Relax the initial NEB until `fmax=0.1eV/Å`, then switch on the climbing image and relax until `fmax=0.05eV/Å`."
   ]
  },
  {
   "cell_type": "code",
   "execution_count": null,
   "metadata": {},
   "outputs": [],
   "source": [
    "# teacher:\n",
    "from gpaw import GPAW, PW \n",
    "from ase.visualize import view \n",
    "from ase.optimize import BFGS \n",
    "from ase.io import Trajectory \n",
    "from ase.parallel import rank, size \n",
    "\n",
    "initial = read('N2Ru.traj')\n",
    "final = read('2Nads.traj') \n",
    "\n",
    "images = [initial] \n",
    "N = 4  # No. of images \n",
    "\n",
    "z = initial.positions[:, 2] \n",
    "constraint = FixAtoms(mask=(z < z.min() + 1.0)) \n",
    "\n",
    "j = rank * N // size\n",
    "n = size // N  # number of cpu's per image \n",
    "\n",
    "for i in range(N):\n",
    "    ranks = range(i * n, (i + 1) * n)\n",
    "    image = initial.copy() \n",
    "    image.set_constraint(constraint) \n",
    "    if rank in ranks:\n",
    "        calc = GPAW(xc='PBE',\n",
    "                    mode=PW(350),\n",
    "                    nbands='130%',\n",
    "                    communicator=ranks,\n",
    "                    txt='{}.txt'.format(i),\n",
    "                    kpts={'size': (4, 4, 1), 'gamma': True},\n",
    "                    convergence={'eigenstates': 1e-7})\n",
    "        image.set_calculator(calc) \n",
    "    images.append(image) \n",
    "images.append(final) \n",
    "\n",
    "neb = NEB(images, k=1.0, parallel=True)\n",
    "neb.interpolate()\n",
    "qn = BFGS(neb, logfile='neb.log', trajectory='neb.traj')\n",
    "qn.run(fmax=0.1) \n",
    "neb.climb = True\n",
    "qn.run(fmax=0.05)"
   ]
  },
  {
   "cell_type": "markdown",
   "metadata": {},
   "source": [
    "Once the calculation is done you should check that the final path looks reasonable. What is the N-N distance at the saddle point? Use NEBTools to calculate the barrier. Is N<sub>2</sub> likely to dissociate on the surface at room temperature?"
   ]
  },
  {
   "cell_type": "code",
   "execution_count": null,
   "metadata": {},
   "outputs": [],
   "source": [
    "# teacher:\n",
    "# Check results:\n",
    "images[1:5] = read('neb.traj@-5:-1')\n",
    "energies = [image.get_potential_energy() for image in images]\n",
    "emax = max(energies)\n",
    "assert energies[2] == emax\n",
    "assert abs(emax - energies[0] - 1.335) < 0.01\n",
    "d = images[2].get_distance(-1, -2)\n",
    "assert abs(d - 1.772) < 0.004"
   ]
  }
 ],
 "metadata": {
  "kernelspec": {
   "display_name": "Python 3",
   "language": "python",
   "name": "python3"
  },
  "language_info": {
   "codemirror_mode": {
    "name": "ipython",
    "version": 3
   },
   "file_extension": ".py",
   "mimetype": "text/x-python",
   "name": "python",
   "nbconvert_exporter": "python",
   "pygments_lexer": "ipython3",
   "version": "3.6.5"
  }
 },
 "nbformat": 4,
 "nbformat_minor": 1
}
