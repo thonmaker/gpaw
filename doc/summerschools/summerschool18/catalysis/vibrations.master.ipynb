{
 "cells": [
  {
   "cell_type": "markdown",
   "metadata": {},
   "source": [
    "## Extra exercise - vibrational energy\n",
    "The energy calculated with DFT is the electronic energy at 0K. However, to model catalytic reactions we are usually intereseted in the energy landscape at finite temperature. In this exercise we will calculate the energy contributions from vibrations and see how they affect the splitting of N<sub>2</sub> on Ru.\n",
    "\n",
    "We calculate the vibrational energy in the harmonic approximation using the finite displacement method. For further reading see for example:\n",
    "\n",
    "* [Stoffel et al, Angewandte Chemie Int. Ed., 49, 5242-5266 (2010)](https://onlinelibrary.wiley.com/doi/abs/10.1002/anie.200906780) \n",
    "* [Togo and Tanaka, Scripta Materialia 108, 1-5 (2015)](https://www.sciencedirect.com/science/article/pii/S1359646215003127) \n",
    "\n",
    "### Vibrational energy of the initial and final states\n",
    "a) Calculating vibrations requires tighter convergence than normal energy calculations. Therefore you should first take your already optimised initial and final state geometries from the NEB calculations and relax them further to `fmax=0.01eV/Å` with the QuasiNewton optimiser and an energy cutoff of 450eV. Converge the eigenstates to 1e-8. (Note that for other systems you might need even tighter convergence!)\n",
    "\n",
    "Submit the structures to the queue. The optimisation should take 10-15 mins for each structure on 8 cores."
   ]
  },
  {
   "cell_type": "code",
   "execution_count": null,
   "metadata": {},
   "outputs": [],
   "source": [
    "# teacher:\n",
    "# Script for reading previous structure and converging  \n",
    "from gpaw import GPAW, PW\n",
    "from ase.constraints import FixAtoms\n",
    "from ase.optimize import QuasiNewton\n",
    "import numpy as np\n",
    "from ase.io import read, write\n",
    "\n",
    "for name in ['N2Ru.traj', '2Nads.traj']:\n",
    "    slab = read(name)\n",
    "\n",
    "    z = slab.positions[:, 2]\n",
    "    constraint = FixAtoms(mask=(z < z.min() + 1.0))\n",
    "    slab.set_constraint(constraint)\n",
    "\n",
    "    calc = GPAW(xc='PBE',\n",
    "                mode=PW(450),\n",
    "                txt='tight-' + name[:-4] + 'txt',\n",
    "                kpts={'size': (4, 4, 1), 'gamma': True}, \n",
    "                convergence={'eigenstates': 1e-8})\n",
    "    slab.calc = calc\n",
    "    \n",
    "    dyn = QuasiNewton(slab,\n",
    "                      trajectory='tight-' + name,\n",
    "                      maxstep = 0.02,\n",
    "                      logfile='tight-' + name[:-4] + 'log')\n",
    "    dyn.run(fmax=0.01)"
   ]
  },
  {
   "cell_type": "markdown",
   "metadata": {
    "collapsed": true
   },
   "source": [
    "b) Once you have done this you can calculate the vibrations using the [vibrations module in ASE](https://wiki.fysik.dtu.dk/ase/ase/vibrations/vibrations.html) following the template below. We only calculate the vibrations of the adsorbate and assume that the frequencies of the substrate are unchanged - this is a common assumption. Use 4 displacements to fit the frequencies and the same calculator parameters as in a).  \n",
    "Submit the calculations for the initial and the final state to the queue. It will take a while to run, but you can start preparing your analysis (part c and d) or read some of the references in the meantime."
   ]
  },
  {
   "cell_type": "code",
   "execution_count": null,
   "metadata": {},
   "outputs": [],
   "source": [
    "# You can't run this cell - use it as a starting point for your python script!\n",
    "from ase.io import read\n",
    "from ase.vibrations import Vibrations\n",
    "from gpaw import GPAW, PW\n",
    "\n",
    "slab = read('tight-N2Ru.traj')  # student: slab = read('path_to_your_structure')\n",
    "calc = GPAW(xc='PBE',\n",
    "            mode=PW(450),  # student: mode=PW(450),\n",
    "            kpts={'size': (4, 4, 1), 'gamma': True},  # student: kpts=?,\n",
    "            convergence={'eigenstates': 1e-8},  # student; convergence=?,\n",
    "            symmetry={'point_group': False},\n",
    "            txt='vib.txt')\n",
    "slab.set_calculator(calc)\n",
    "Uini = slab.get_potential_energy()\n",
    "\n",
    "vib = Vibrations(slab,\n",
    "                 name='vib',\n",
    "                 indices=[8, 9],  # student: indices=[?, ?],\n",
    "                 nfree=4)\n",
    "vib.run()\n",
    "vib.summary(log='vib_summary.log')\n",
    "for i in range(6):\n",
    "    vib.write_mode(i)"
   ]
  },
  {
   "cell_type": "code",
   "execution_count": null,
   "metadata": {},
   "outputs": [],
   "source": [
    "from ase.io import read\n",
    "from ase.vibrations import Vibrations\n",
    "from gpaw import GPAW, PW\n",
    "\n",
    "slab = read('tight-2Nads.traj')\n",
    "calc = GPAW(xc='PBE',\n",
    "            mode=PW(450),  # student: mode=PW(450),\n",
    "            kpts={'size': (4, 4, 1), 'gamma': True},  # student: kpts=?,\n",
    "            convergence={'eigenstates': 1e-8},  # student; convergence=?,\n",
    "            symmetry={'point_group': False},\n",
    "            txt='vib2.txt')\n",
    "slab.set_calculator(calc)\n",
    "Ufin = slab.get_potential_energy()\n",
    "\n",
    "vib2 = Vibrations(slab,\n",
    "                  name='vib2',\n",
    "                  indices=[8, 9],  # student: indices=[?, ?],\n",
    "                  nfree=4)\n",
    "vib2.run()\n",
    "vib2.summary(log='vib2_summary.log')\n",
    "for i in range(6):\n",
    "    vib2.write_mode(i)"
   ]
  },
  {
   "cell_type": "markdown",
   "metadata": {},
   "source": [
    "The final three lines write out the frequencies and `.traj` files with animations of the different modes in order of their energy. Take a look at the vibrational modes in the files. Do you understand why the first mode has a low energy, while the last one has a high energy?"
   ]
  },
  {
   "cell_type": "markdown",
   "metadata": {},
   "source": [
    "c) Analyse the frequencies in the harmonic approximation: "
   ]
  },
  {
   "cell_type": "code",
   "execution_count": null,
   "metadata": {},
   "outputs": [],
   "source": [
    "from ase.thermochemistry import HarmonicThermo\n",
    "\n",
    "T = 300  # Kelvin\n",
    "energies = [0.01, 0.05, 0.10]  # An example only - insert your calculated energy levels here - in eV!\n",
    "vibs = HarmonicThermo(energies)\n",
    "Efree = vibs.get_helmholtz_energy(T, verbose=True)\n",
    "print('Free energy at 300 K: ', Efree)"
   ]
  },
  {
   "cell_type": "markdown",
   "metadata": {},
   "source": [
    "The `verbose` keyword gives a detailed description of the different contributions to the free energy. For more information on what the different contributions are see the [ASE background webpage](https://wiki.fysik.dtu.dk/ase/ase/thermochemistry/thermochemistry.html#background) (go to the **Harmonic limit** sub-heading).\n",
    "Now try to calculate how the different contributions change with temperature. You can for example make a `for` loop and use the `get_entropy()` and `get_internal_energy()` methods [(see description here)](https://wiki.fysik.dtu.dk/ase/ase/thermochemistry/thermochemistry.html#ase.thermochemistry.IdealGasThermo.get_enthalpy)."
   ]
  },
  {
   "cell_type": "markdown",
   "metadata": {},
   "source": [
    "d) Calculate how the vibrational energy affects the overall reaction energy. How does it change with temperature? Which contribution is important for the change in reaction energy?"
   ]
  },
  {
   "cell_type": "code",
   "execution_count": null,
   "metadata": {},
   "outputs": [],
   "source": [
    "# teacher:\n",
    "# Script for analysing energy contributions from vibrations\n",
    "from ase.io import read, write\n",
    "from ase.thermochemistry import HarmonicThermo\n",
    "import numpy as np\n",
    "from matplotlib import pyplot as plt\n",
    "\n",
    "energies = vib.get_energies()  # initial vib. energy levels\n",
    "energiesfin = vib2.get_energies()  # final vib. energy levels\n",
    "\n",
    "# The actual analysis\n",
    "ads = HarmonicThermo(energies)\n",
    "adsfin = HarmonicThermo(energiesfin)\n",
    "print('DFT reaction energy: ', Ufin - Uini)\n",
    "Sini = []\n",
    "Sfin = []\n",
    "U = []\n",
    "U2 = []\n",
    "temp = [10, 50, 100, 150, 200, 250, 300, 350, 400, 450, 500]\n",
    "for T in temp:\n",
    "    Sini.append(-T * ads.get_entropy(T, verbose=False))\n",
    "    U.append(ads.get_internal_energy(T, verbose=False))\n",
    "    Sfin.append(-T * adsfin.get_entropy(T, verbose=False))\n",
    "    U2.append(adsfin.get_internal_energy(T, verbose=False))\n",
    "    Efree = ads.get_helmholtz_energy(T, verbose=False)\n",
    "    Efreefin = adsfin.get_helmholtz_energy(T, verbose=False)\n",
    "    print('Reaction free energy at {} K: '.format(T),\n",
    "          Ufin + Efreefin - (Uini + Efree))\n",
    "plt.plot(temp, Sini, 'r', label='-T*S ini')\n",
    "plt.plot(temp, U, 'b', label='U ini')\n",
    "plt.plot(temp, Sfin, 'r--', label='-T*S fin')\n",
    "plt.plot(temp, U2, 'b--', label='U fin')\n",
    "plt.plot(temp, np.array(U) + np.array(Sini), 'm', label='Efree ini')\n",
    "plt.plot(temp, np.array(U2) + np.array(Sfin), 'm--', label='Efree fin')\n",
    "plt.legend()\n",
    "plt.savefig('vib.png')"
   ]
  },
  {
   "cell_type": "markdown",
   "metadata": {},
   "source": [
    "e) To make sure that your NEB is converged you should also calculate the vibrational energy of the transition state. Again, this requires tighter convergence than we have used in the NEB exercise. This takes a while to run so to save time, we provide the transition state geometry from a reasonably converged NEB (i.e. `fmax=0.01`, a cutoff energy of 500eV and eigenstates converged to 1e-8) in the file `TS.xyz`. Calculate the vibrations with these parameters. How many imaginary modes do you get and how do they look? What does this mean? "
   ]
  },
  {
   "cell_type": "code",
   "execution_count": null,
   "metadata": {},
   "outputs": [],
   "source": [
    "# teacher:\n",
    "from ase.optimize import BFGS\n",
    "from ase.neb import NEB\n",
    "from ase.io import Trajectory\n",
    "\n",
    "initial = read('N2Ru.traj')\n",
    "final = read('2Nads.traj')\n",
    "\n",
    "images = read('neb.traj@-5:-2')\n",
    "constraint = FixAtoms(indices=list(range(4)))\n",
    "ts = images[1]\n",
    "ts.set_constraint(constraint)\n",
    "calc = GPAW(xc='PBE',\n",
    "            mode=PW(500),\n",
    "            txt='ts.txt',\n",
    "            kpts={'size': (4, 4, 1), 'gamma': True},\n",
    "            convergence={'eigenstates': 1e-8})\n",
    "ts.set_calculator(calc)\n",
    "\n",
    "neb = NEB(images, k=1.0, climb=True)\n",
    "qn = BFGS(neb, logfile='neb.log')\n",
    "traj = Trajectory('ts.traj', 'w', ts)\n",
    "qn.attach(traj)\n",
    "qn.run(fmax=0.01)\n",
    "write('TS.xyz', ts)\n"
   ]
  },
  {
   "cell_type": "code",
   "execution_count": null,
   "metadata": {},
   "outputs": [],
   "source": [
    "# teacher:\n",
    "ts.calc = GPAW(xc='PBE',\n",
    "               mode=PW(500),\n",
    "               txt='vibts.txt',\n",
    "               kpts={'size': (4, 4, 1), 'gamma': True},\n",
    "               symmetry={'point_group': False},\n",
    "               convergence={'eigenstates': 1e-8})\n",
    "vib = Vibrations(ts, name='vibts', indices=(8, 9), nfree=4, delta=0.02)\n",
    "vib.run()\n",
    "vib.summary(log='vibts_summary.log')\n",
    "for i in range(6):\n",
    "    vib.write_mode(i)\n",
    "    \n",
    "#---------------------\n",
    "#  #    meV     cm^-1\n",
    "#---------------------\n",
    "#  0   73.7i    594.2i\n",
    "#  1    7.8      63.0\n",
    "#  2   39.6     319.6\n",
    "#  3   46.0     371.1\n",
    "#  4   67.9     547.4\n",
    "#  5   68.8     554.8\n",
    "#---------------------\n",
    "#Zero-point energy: 0.115 eV\n",
    "#The imaginary mode is beautifully along the reaction coordinate!"
   ]
  }
 ],
 "metadata": {
  "kernelspec": {
   "display_name": "Python 3",
   "language": "python",
   "name": "python3"
  },
  "language_info": {
   "codemirror_mode": {
    "name": "ipython",
    "version": 3
   },
   "file_extension": ".py",
   "mimetype": "text/x-python",
   "name": "python",
   "nbconvert_exporter": "python",
   "pygments_lexer": "ipython3",
   "version": "3.6.5"
  }
 },
 "nbformat": 4,
 "nbformat_minor": 1
}
