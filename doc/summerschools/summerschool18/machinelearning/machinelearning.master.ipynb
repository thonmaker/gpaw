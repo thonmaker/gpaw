{
 "cells": [
  {
   "cell_type": "markdown",
   "metadata": {
    "ein.tags": "worksheet-0",
    "slideshow": {
     "slide_type": "-"
    }
   },
   "source": [
    "# Introduction\n",
    "\n",
    "In this series of excercises, you will learn how to work with ase databases, and do some simple machine learning for electronic structure properties. The driving idea is to predict complex properties of compounds from simpler properties, under the slogan that the fastest calculation is the one you don't have to run. We start by importing some relevant packages for scientific python and ase in particular."
   ]
  },
  {
   "cell_type": "code",
   "execution_count": null,
   "metadata": {
    "autoscroll": false,
    "collapsed": true,
    "ein.hycell": false,
    "ein.tags": "worksheet-0",
    "slideshow": {
     "slide_type": "-"
    }
   },
   "outputs": [],
   "source": [
    "%matplotlib inline\n",
    "import numpy as np\n",
    "import matplotlib.pyplot as plt\n",
    "from ase.db import connect"
   ]
  },
  {
   "cell_type": "markdown",
   "metadata": {
    "ein.tags": "worksheet-0",
    "slideshow": {
     "slide_type": "-"
    }
   },
   "source": [
    "In current directory, there is an ase database file called 'organometal.db'. It contains information about organometallic perovskites, and the goal is to predict properties for these. Along with the perovskite compounds, there are also reference calculations of the elements in their standard states. We start by connecting to the database (more info on the `ase db` module can be found [here]( https://wiki.fysik.dtu.dk/ase/ase/db/db.html#module-ase.db)), and inspecting a single row:"
   ]
  },
  {
   "cell_type": "code",
   "execution_count": null,
   "metadata": {
    "autoscroll": false,
    "ein.hycell": false,
    "ein.tags": "worksheet-0",
    "slideshow": {
     "slide_type": "-"
    }
   },
   "outputs": [],
   "source": [
    "db = connect('organometal.db')\n",
    "row = next(db.select(project='organometal'))\n",
    "vars(row)"
   ]
  },
  {
   "cell_type": "markdown",
   "metadata": {
    "ein.tags": "worksheet-0",
    "slideshow": {
     "slide_type": "-"
    }
   },
   "source": [
    "Each row of the database has some key-value pairs, which are stored explicitly, as well as some basic information which is always stored, recording how the data was calculated. Can you identify what each of the keys below refers to?\n",
    "\n",
    "calculator:\n",
    "calculator_parameters:\n",
    "cell:\n",
    "ctime:\n",
    "energy:\n",
    "gllbsc_dir_gap:\n",
    "gllbsc_disc:\n",
    "gllbsc_ind_gap:\n",
    "id:\n",
    "initial_magmoms:\n",
    "mtime:\n",
    "name:\n",
    "numbers:\n",
    "pbc:\n",
    "positions:\n",
    "project:\n",
    "space_group:\n",
    "symmetry:\n",
    "unique_id:\n",
    "user:"
   ]
  },
  {
   "cell_type": "markdown",
   "metadata": {
    "ein.tags": "worksheet-0",
    "slideshow": {
     "slide_type": "-"
    }
   },
   "source": [
    "Each row also has a `toatoms()` method, which lets us extract an ase atoms object from the row."
   ]
  },
  {
   "cell_type": "code",
   "execution_count": null,
   "metadata": {
    "autoscroll": false,
    "collapsed": true,
    "ein.hycell": false,
    "ein.tags": "worksheet-0",
    "slideshow": {
     "slide_type": "-"
    }
   },
   "outputs": [],
   "source": [
    "from ase.visualize import view\n",
    "view(row.toatoms())"
   ]
  },
  {
   "cell_type": "markdown",
   "metadata": {
    "ein.tags": "worksheet-0",
    "slideshow": {
     "slide_type": "-"
    }
   },
   "source": [
    "When doing any kind of data analysis, the first step is always to become familiar with the data in question, on a basic level. The `select()` method of the database applies a query to the database and returns an iterator of all the rows matching that query. To select all rows with a user of `einstein`, we would type `db.select(user='einstein')`. To select all rows with a gllbsc direct gap greater than 0.5 eV, we would type `db.select('gllbsc_dir_gap>0.5')`.\n",
    "Counting the number of hits can be be done using `db.count(key=value)` for some key-value pair.\n",
    "\n",
    "How many rows are there in the database? \n",
    "How many belong to the `organometal` project? And how many to the `references` subproject?"
   ]
  },
  {
   "cell_type": "code",
   "execution_count": null,
   "metadata": {
    "autoscroll": false,
    "ein.hycell": false,
    "ein.tags": "worksheet-0",
    "slideshow": {
     "slide_type": "-"
    }
   },
   "outputs": [],
   "source": [
    "# teacher\n",
    "print(db.count())\n",
    "print(db.count(project='organometal'))\n",
    "print(db.count(subproject='references'))"
   ]
  },
  {
   "cell_type": "markdown",
   "metadata": {
    "ein.tags": "worksheet-0",
    "slideshow": {
     "slide_type": "-"
    }
   },
   "source": [
    "The structures in the database were generated from the general formula ABX, and then varying A, B and X. X represents a combination of 3 halogen atoms, chosen from [\"Cl\", \"Br\", \"I\"].\n",
    "The A, B and X is encoded in value for the key `name`, i.e. `row.name -> 'CsPbI3'`.\n",
    "We have also distorted some of the structures, giving four different symmetry types for each atomic composition.\n",
    "\n",
    "1. Try to identity the possible values of A and B. (Hint: A and B is labeled with two characters `row.name`, i.e `A='Cs'` and `B='Pb'` in `'CsPbI3'`)\n",
    "2. Can you identify the four different symmetry classes?\n",
    "3. By making all possible combinations of both A, B, X, and symmetires, how many structures could be generated in total? And how many unique are there, i.e. without considering the different symmetries?"
   ]
  },
  {
   "cell_type": "code",
   "execution_count": null,
   "metadata": {
    "autoscroll": false,
    "ein.hycell": false,
    "ein.tags": "worksheet-0",
    "slideshow": {
     "slide_type": "-"
    }
   },
   "outputs": [],
   "source": [
    "# teacher\n",
    "# general formula ABX \n",
    "print('example of a name: {}'.format((next(db.select('project')).name)))\n",
    "As = {r.name[:2] for r in db.select('project')}\n",
    "Bs = {r.name[2:4] for r in db.select('project')}\n",
    "symclasses = {r.symmetry for r in db.select('project')}\n",
    "Xs = ['I3', 'Br3', 'Cl3', 'I2Br', 'IBr2', 'I2Cl', 'ICl2', 'IBrCl', 'Br2Cl', 'BrCl2']\n",
    "print('{} As: {}'.format(len(As), As))\n",
    "print('{} Bs: {}'.format(len(Bs), Bs))\n",
    "print('{} Xs: {}'.format(len(Xs), Xs))\n",
    "print('{} symclasses: {}'.format(len(symclasses), symclasses))\n",
    "NA = len(As)\n",
    "NB = len(Bs)\n",
    "NS = len(symclasses)\n",
    "NH = len(Xs)\n",
    "print('possible structures:', NA * NB * NS * NH)\n",
    "print('possible structures without symmetry:', NA * NB * NH)"
   ]
  },
  {
   "cell_type": "markdown",
   "metadata": {
    "ein.tags": "worksheet-0",
    "slideshow": {
     "slide_type": "-"
    }
   },
   "source": [
    "As you can see from the exercise above, two organic molecules (methylammonium MA, formula CH$_6$N and formamidinium FA, formula CH$_5$N$_2$) can be used instead of Cs as cations in the inorganic perovskite template. Print the structure of MA and FA from the reference subproject in the database."
   ]
  },
  {
   "cell_type": "code",
   "execution_count": null,
   "metadata": {
    "autoscroll": false,
    "collapsed": true,
    "ein.hycell": false,
    "ein.tags": "worksheet-0",
    "slideshow": {
     "slide_type": "-"
    }
   },
   "outputs": [],
   "source": [
    "# teacher\n",
    "formulas = ['CH6N', 'CH5N2']\n",
    "view([db.get(formula=f).toatoms() for f in formulas])"
   ]
  },
  {
   "cell_type": "markdown",
   "metadata": {
    "ein.tags": "worksheet-0",
    "slideshow": {
     "slide_type": "-"
    }
   },
   "source": [
    "Two good ideas are to plot distributions of interesting quantities, and to calculate some summary statistics of numeric quantities, such as the mean and the variance."
   ]
  },
  {
   "cell_type": "code",
   "execution_count": null,
   "metadata": {
    "autoscroll": false,
    "ein.hycell": false,
    "ein.tags": "worksheet-0",
    "slideshow": {
     "slide_type": "-"
    }
   },
   "outputs": [],
   "source": [
    "organometal_rows = [x for x in db.select(project='organometal')]\n",
    "plt.hist([x.gllbsc_disc for x in organometal_rows])\n",
    "plt.xlabel('Energy (eV)');\n",
    "plt.show()"
   ]
  },
  {
   "cell_type": "markdown",
   "metadata": {
    "ein.tags": "worksheet-0",
    "slideshow": {
     "slide_type": "-"
    }
   },
   "source": [
    "Make a histogram for each of the numeric quantities in the database, and calculate the mean and variance of these quantities. You can also make scatter plots of one quantitity against another by using the `scatter` method of pyplot, `plt.scatter()`. How do these distributions vary with the `symmetry` keyword of the database?"
   ]
  },
  {
   "cell_type": "code",
   "execution_count": null,
   "metadata": {
    "autoscroll": false,
    "ein.hycell": false,
    "ein.tags": "worksheet-0",
    "slideshow": {
     "slide_type": "-"
    }
   },
   "outputs": [],
   "source": [
    "# teacher\n",
    "attributeNames = ['energy','gllbsc_dir_gap','gllbsc_disc','gllbsc_ind_gap']\n",
    "M = len(attributeNames)\n",
    "N = db.count(project='organometal')\n",
    "classes = [r.symmetry for r in db.select('project')]\n",
    "y = np.array(classes)\n",
    "x1  = [x.ctime for x in organometal_rows];x2 = [x.energy for x in organometal_rows];x3 = [x.gllbsc_dir_gap for x in organometal_rows];\n",
    "x4 = [x.gllbsc_disc for x in organometal_rows];x5 = [x.gllbsc_ind_gap for x in organometal_rows]; x6 = [x.mtime for x in organometal_rows];\n",
    "X = np.zeros((N,len(attributeNames)))\n",
    "for i,x in enumerate([x2,x3,x4,x5]):\n",
    "    X[:,i] = np.array(x)\n",
    "# now plot that \n",
    "plt.figure(figsize=(10,8))\n",
    "u = np.floor(np.sqrt(M)); v = np.ceil(float(M)/u)\n",
    "for i in range(M):\n",
    "    plt.subplot(u,v,i+1)\n",
    "    for c in set(classes):\n",
    "        class_mask = (y==c)\n",
    "        plt.hist(X[class_mask,i])\n",
    "    plt.xlabel(attributeNames[i])\n",
    "plt.legend(list(set(classes)))\n",
    "\n",
    "\n",
    "plt.figure(figsize=(16,12))\n",
    "for m1 in range(M):\n",
    "    for m2 in range(M):\n",
    "        plt.subplot(M, M, m1*M + m2 + 1)\n",
    "        for c in set(classes):\n",
    "            class_mask = (y==c)\n",
    "            plt.plot(np.array(X[class_mask,m2]), np.array(X[class_mask,m1]), '.')\n",
    "            if m1==M-1:\n",
    "                plt.xlabel(attributeNames[m2])\n",
    "            else:\n",
    "                plt.xticks([])\n",
    "            if m2==0:\n",
    "                plt.ylabel(attributeNames[m1])\n",
    "            else:\n",
    "                plt.yticks([])\n",
    "plt.legend(list(set(classes)));"
   ]
  },
  {
   "cell_type": "markdown",
   "metadata": {
    "ein.tags": "worksheet-0",
    "slideshow": {
     "slide_type": "-"
    }
   },
   "source": [
    "The energy contained in each row is an energy with respect to some arbitrary reference, which was set in the original calculation. A more sensible reference is provided by the materials with `subproject == 'references'`. We can calculate the heat for formation per unit cell of the 'MAPbI3' compound as follows:"
   ]
  },
  {
   "cell_type": "code",
   "execution_count": null,
   "metadata": {
    "autoscroll": false,
    "ein.hycell": false,
    "ein.tags": "worksheet-0",
    "slideshow": {
     "slide_type": "-"
    }
   },
   "outputs": [],
   "source": [
    "row = db.get(name='MAPbI3', symmetry='cubic')\n",
    "en_cubic = row.energy\n",
    "en_refs = {}\n",
    "for row in db.select(subproject='references'):\n",
    "    en_refs[row.element] = row.energy / row.natoms\n",
    "    \n",
    "E_standard = en_cubic - (8 * en_refs['MA'] + en_refs['Pb'] + 3 * en_refs['I'])\n",
    "print('hof={:.3f} eV/atom'.format(E_standard / row.natoms))"
   ]
  },
  {
   "cell_type": "markdown",
   "metadata": {
    "ein.tags": "worksheet-0",
    "slideshow": {
     "slide_type": "-"
    }
   },
   "source": [
    "Based on this, can you calculate the heat of formation per formula unit of MAPbI$_3$ in the tetragonal phase versus the cubic phase? What about the heat of formation of FASnBr$_2$Cl in the orthorhombic_1 phase versus the cubic phase of the FASnBr$_3$ and FASnCl$_3$. (hint: tetragonal and orthorhombic phases have a unit cell larger than the cubic structure)."
   ]
  },
  {
   "cell_type": "code",
   "execution_count": null,
   "metadata": {
    "autoscroll": false,
    "ein.hycell": false,
    "ein.tags": "worksheet-0",
    "slideshow": {
     "slide_type": "-"
    }
   },
   "outputs": [],
   "source": [
    "# teacher\n",
    "row_c = db.get(name='MAPbI3', symmetry='cubic')\n",
    "view(row_c.toatoms())\n",
    "row_t = db.get(name='MAPbI3', symmetry='tetragonal') \n",
    "de = row_c.energy / row_c.natoms - row_t.energy / row_t.natoms\n",
    "de_form = 12 * de  # 12 atoms per formula unit\n",
    "print('E(cubic) - E(tetragonal)={:.4f} eV/Fu'.format(de_form))"
   ]
  },
  {
   "cell_type": "markdown",
   "metadata": {
    "ein.tags": "worksheet-0",
    "slideshow": {
     "slide_type": "-"
    }
   },
   "source": [
    "# Machine Learning\n",
    "\n",
    "Machine Learning is the science of getting computers to learn and act like humans do, and improve their learning over time in autonomous fashion, by feeding them data and information in the form of observations and real-world interactions. The crucial idea is that the computer should be able to improve its performance at a given task as we give it more information. A tutorial on machine learning in general can be found [here](http://scikit-learn.org/stable/tutorial/basic/tutorial.html).\n",
    "\n",
    "In this workbook we will be carrying  out a supervised learning task, where we attempt to predict a particular (known) attribute of a given structure, based on other attributes of the structure. This can be useful if it allows us to use easy-to-calculate properties to say something about quantities which are difficult to calculate. This approach to learning, where we attempt to find a map $f$ from the attributes, $X$, of our data to some target property, $y$, is known as supervised learning. See [here](https://en.wikipedia.org/wiki/Supervised_learning) for more general information on the topic.\n",
    "\n",
    "The two most important ingredients in the supervised learning approach are which attributes of the data we feed into the machine learning process, and which model we then apply on the data.\n",
    "\n",
    "## Input Vectors\n",
    "\n",
    "To start, we use a one-hot encoding of each of the different categories of data as our input vector. Later, you will be asked to see if you can find a better set of features to describe the data."
   ]
  },
  {
   "cell_type": "code",
   "execution_count": null,
   "metadata": {
    "autoscroll": false,
    "collapsed": true,
    "ein.hycell": false,
    "ein.tags": "worksheet-0",
    "slideshow": {
     "slide_type": "-"
    }
   },
   "outputs": [],
   "source": [
    "def calculate_input_vector(row):\n",
    "    symm_vec = [0, 0, 0, 0]\n",
    "    A_vec = [0, 0, 0]\n",
    "    B_vec = [0, 0]     \n",
    "    X_vec = [0, 0, 0]  # i.e I3->[0, 3, 0], I2Cl->[1, 2, 0], Br3->[0, 0, 3]\n",
    "    constant = [1,]\n",
    "    symm_vec[['cubic',\n",
    "              'tetragonal',\n",
    "              'orthorhombic_1',\n",
    "              'orthorhombic_2'].index(row.symmetry)] = 1\n",
    "    A_vec[['Cs', 'FA', 'MA'].index(row.name[:2])] = 1\n",
    "    B_vec[0] = 1 if 'Pb' in row.name else 0\n",
    "    B_vec[1] = 1 if 'Sn' in row.name else 0\n",
    "    \n",
    "    Xs = ['Cl', 'I', 'Br']\n",
    "    nhalo = sum([s in Xs for s in row.symbols])\n",
    "    for i, X in enumerate(Xs):\n",
    "        X_vec[i] = 3 * sum([s == X for s in row.symbols]) // nhalo\n",
    "    \n",
    "    vec = symm_vec + A_vec + B_vec + X_vec + constant\n",
    "    return vec"
   ]
  },
  {
   "cell_type": "markdown",
   "metadata": {
    "ein.tags": "worksheet-0",
    "slideshow": {
     "slide_type": "-"
    }
   },
   "source": [
    "In a one-hot encoding, assign the data into different categorical classes, and then have one feature for each class. For example, there are four different symmetries in the data, so the first four features of the input vector describe which symmetry the material lies in. A '1' in a given position indicates that the material falls into that class, while a '0' indicates that it does not.\n",
    "\n",
    "As an example, we apply the encoding to the first few rows of the database with cubic symmetry, and show the formula and the name:"
   ]
  },
  {
   "cell_type": "code",
   "execution_count": null,
   "metadata": {
    "autoscroll": false,
    "ein.hycell": false,
    "ein.tags": "worksheet-0",
    "slideshow": {
     "slide_type": "-"
    }
   },
   "outputs": [],
   "source": [
    "for row in db.select(symmetry='cubic', limit=5):\n",
    "    print('name={} formula={} symmetry={}'.format(row.name, row.formula, row.symmetry))\n",
    "    print('vec={}'.format(calculate_input_vector(row)))\n",
    "    print('-'*79)"
   ]
  },
  {
   "cell_type": "markdown",
   "metadata": {
    "ein.tags": "worksheet-0",
    "slideshow": {
     "slide_type": "-"
    }
   },
   "source": [
    "We see that as expected, the row has a '1' in the first position, indicating that it has a cubic symmetry.\n",
    "\n",
    "We are now ready to generate the input matrix $X$ that we will use in the machine learning process"
   ]
  },
  {
   "cell_type": "code",
   "execution_count": null,
   "metadata": {
    "autoscroll": false,
    "ein.hycell": false,
    "ein.tags": "worksheet-0",
    "slideshow": {
     "slide_type": "-"
    }
   },
   "outputs": [],
   "source": [
    "X = []\n",
    "y = []\n",
    "for row in db.select('project'):\n",
    "    X.append(calculate_input_vector(row))\n",
    "    y.append(row.gllbsc_ind_gap)\n",
    "\n",
    "X = np.array(X)\n",
    "y = np.array(y).reshape(-1, 1)\n",
    "print('X.shape = ', np.shape(X))\n",
    "print('Y.shape =', np.shape(y))"
   ]
  },
  {
   "cell_type": "markdown",
   "metadata": {
    "ein.tags": "worksheet-0",
    "slideshow": {
     "slide_type": "-"
    }
   },
   "source": [
    "## Modelling\n",
    "\n",
    "With the input and output in place, we are ready to do some first machine learning. All supervised machine learning processes do the following, in a generalized sense:\n",
    "\n",
    "    - Select a general functional form for the model, parametrized in a suitable way.\n",
    "    - Find a loss function to evaluate the performance of a given set of parameters.\n",
    "    - Optimize the parameters of the model to minimize the loss.\n",
    "\n",
    "All the hard work is usually in the last step, since for complex models the relationship between the parameters and the loss function can be very difficult. However, for simpler models, we can sometimes find a closed form for the loss function.\n",
    "    \n",
    "The very simplest class of machine learning models are just generalized linear models, where the target, $y$, is assumed to be a linear function of the input variables. You can read more about them [here](http://scikit-learn.org/stable/modules/linear_model.html#ordinary-least-squares). For a linear function, we guess a functional form $f(\\mathbf{x}) = \\sum_n w_n x_n = \\mathbf w \\cdot \\mathbf x$, and seek to optimize the weight vector, $\\mathbf w$.\n",
    "\n",
    "If we choose the loss function $L = \\sum_i (f(\\mathbf{x}_i) - y_i))^2 = \\sum_{i} (\\sum_{n}w_i x_{in} - y_i)^2$, we will recover ordinary least squares regression. In matrix terms, the loss corresponds to the norm $ L = \\left\\| \\mathbf{y} - \\mathbf{X} \\mathbf{w} \\right\\|^2$. The loss is minimal when the derivative with respect to the weight vector is zero. A bit of rearranging gives that this is true when\n",
    "$\\mathbf w = (\\mathbf{X}^T\\mathbf{X}) ^ {-1} \\mathbf{X}^T \\mathbf{y}$\n",
    "\n",
    "Here $\\mathbf w$ is an (n_features, 1) weight vector that we are trying to find, $\\mathbf{X}$ is an (n_samples , n_features) matrix of our observed inputs and $\\mathbf y$ is the (n_samples, 1) output vector that we are trying to predict.\n",
    "                                                                   \n",
    "Write a function `fit`, which takes as input a matrix $\\mathbf X$, and a target vector $\\mathbf y$, and performs this linear regression, returning the list of weights and an estimate of the loss for this list of weights.\n",
    "\n",
    "Hint: useful functions are `np.dot()` and `np.linalg.inv()`, which calculate the dot product and inverse, respectively, of their arguments."
   ]
  },
  {
   "cell_type": "code",
   "execution_count": null,
   "metadata": {
    "autoscroll": false,
    "collapsed": true,
    "ein.hycell": false,
    "ein.tags": "worksheet-0",
    "slideshow": {
     "slide_type": "-"
    }
   },
   "outputs": [],
   "source": [
    "def fit(X, y):\n",
    "    '''\n",
    "    code goes here\n",
    "    '''\n",
    "# teacher\n",
    "    w = np.linalg.inv(X.T @ X) @ X.T @ y\n",
    "    loss = np.linalg.norm(y - X @ w)**2\n",
    "    return w, loss"
   ]
  },
  {
   "cell_type": "markdown",
   "metadata": {
    "ein.tags": "worksheet-0",
    "slideshow": {
     "slide_type": "-"
    }
   },
   "source": [
    "You can test your code on the following toy input - hopefully the weight vector you find is close to [1, 2, 3, 4, 5]"
   ]
  },
  {
   "cell_type": "code",
   "execution_count": null,
   "metadata": {
    "autoscroll": false,
    "ein.hycell": false,
    "ein.tags": "worksheet-0",
    "slideshow": {
     "slide_type": "-"
    }
   },
   "outputs": [],
   "source": [
    "nsamples = 50\n",
    "nfeatures = 5\n",
    "X_toy = np.random.rand(250).reshape(nsamples, nfeatures)\n",
    "coefficients = np.arange(1, nfeatures + 1).reshape(-1, 1)\n",
    "noise = np.random.normal(scale=0.2, size=nsamples).reshape(-1, 1)\n",
    "y_toy = np.dot(X_toy, coefficients) + noise\n",
    "w, loss = fit(X_toy, y_toy)\n",
    "plt.scatter(np.dot(X_toy, w), y_toy)\n",
    "plt.show()\n",
    "print(w)"
   ]
  },
  {
   "cell_type": "markdown",
   "metadata": {
    "ein.tags": "worksheet-0",
    "slideshow": {
     "slide_type": "-"
    }
   },
   "source": [
    "Once that is working, try it on the original data! (hint: you have already calculated the materix $x$ and y above) Does everything work as it should?"
   ]
  },
  {
   "cell_type": "code",
   "execution_count": null,
   "metadata": {
    "autoscroll": false,
    "ein.hycell": false,
    "ein.tags": "worksheet-0",
    "slideshow": {
     "slide_type": "-"
    }
   },
   "outputs": [],
   "source": [
    "# teacher\n",
    "try:\n",
    "    w, loss = fit(X, y)\n",
    "    plt.scatter(np.dot(X, w), y)\n",
    "except np.linalg.LinAlgError:\n",
    "    pass\n",
    "else:\n",
    "    assert abs(w).max() > 1e10\n",
    "    \n",
    "plt.show()\n",
    "print(w)"
   ]
  },
  {
   "cell_type": "markdown",
   "metadata": {
    "ein.tags": "worksheet-0",
    "slideshow": {
     "slide_type": "-"
    }
   },
   "source": [
    "One of the assumptions made in the derivation of the linear model is that the matrix $(\\mathbf{X}^T\\mathbf{X})$ is invertible. Unfortunately, that's not true for our case. That's because of the encoding we have chosen, which means for example that for any row, the first four columns must sum to one. The fourth column can therefore always be written as 1 - the sum of the first three.\n",
    "\n",
    "We can alleviate this by adding a regularization term to our loss function, which penalises large weights. The new loss is can then be written as  $L = \\left\\| \\mathbf{y} - \\mathbf{X} \\mathbf{w} \\right\\|^2 + \\alpha \\left\\| w\\right\\|^2$. Luckily, there is still a closed-form solution for this, namely $\\mathbf w = (\\mathbf{X}^T\\mathbf{X} + \\alpha \\mathbf{I}) ^ {-1} \\mathbf{X}^T \\mathbf{y}$. Modify your `fit()` function to take an extra argument $\\alpha$, and apply regularization to the original problem. Does everything work now? Do the weights of your model make sense? Try few different values for $\\alpha$. How does the fit changes with $\\alpha$?"
   ]
  },
  {
   "cell_type": "code",
   "execution_count": null,
   "metadata": {
    "autoscroll": false,
    "ein.hycell": false,
    "ein.tags": "worksheet-0",
    "slideshow": {
     "slide_type": "-"
    }
   },
   "outputs": [],
   "source": [
    "# teacher\n",
    "def fit2(X, y, alpha):\n",
    "    alpha2 = alpha * X.shape[0]  # why scale it with the number of samples?\n",
    "    I = np.identity(X.shape[1])\n",
    "    w2 = np.linalg.inv(X.T @ X + alpha2 * I) @  X.T @ y  # solve would be more stable\n",
    "    loss2 = np.linalg.norm(y - X @ w2)**2 + alpha2 * np.linalg.norm(w2)**2\n",
    "    return w2, loss2\n",
    "\n",
    "w, loss = fit2(X, y, 0.01)\n",
    "print(w.T , loss)\n",
    "print('yes e.g. first value == cubic is negative -> gives smaller bandgaps')\n",
    "plt.scatter(np.dot(X, w),y)\n",
    "plt.plot(plt.xlim(),plt.ylim(),ls = '--', color='k')\n",
    "plt.plot()\n",
    "plt.show()"
   ]
  },
  {
   "cell_type": "markdown",
   "metadata": {
    "ein.tags": "worksheet-0",
    "slideshow": {
     "slide_type": "-"
    }
   },
   "source": [
    "We can do all the things above in scikit-learn, which is a python software package for doing many different kinds of modelling."
   ]
  },
  {
   "cell_type": "code",
   "execution_count": null,
   "metadata": {
    "autoscroll": false,
    "ein.hycell": false,
    "ein.tags": "worksheet-0",
    "slideshow": {
     "slide_type": "-"
    }
   },
   "outputs": [],
   "source": [
    "from sklearn import linear_model\n",
    "linear = linear_model.LinearRegression()\n",
    "\n",
    "linear.fit(X, y)\n",
    "ybar = linear.predict(X)\n",
    "ymax = np.array((y, ybar)).max() + 0.1\n",
    "plt.scatter(ybar, y)\n",
    "plt.xlim(0, ymax)\n",
    "plt.ylim(0, ymax)\n",
    "plt.plot([0, ymax], [0, ymax], 'k--')\n",
    "plt.xlabel('Predicted Band Gap [eV]')\n",
    "plt.ylabel('Actual Band Gap [eV]')\n",
    "\n",
    "# We can wrap the above in a function, to avoid typing that same code again later\n",
    "def make_comparison_plot(X, y, model):\n",
    "    model.fit(X, y)\n",
    "    ybar = model.predict(X)\n",
    "    ymax = np.array((y, ybar)).max() + 0.1\n",
    "    ymin = np.array((y, ybar)).min() - 0.1\n",
    "    plt.scatter(ybar, y)\n",
    "    plt.xlim(ymin, ymax)\n",
    "    plt.ylim(ymin, ymax)\n",
    "    plt.plot([ymin, ymax], [ymin, ymax], 'k--')\n",
    "    plt.xlabel('Predicted Band Gap [eV]')\n",
    "    plt.ylabel('Actual Band Gap [eV]')"
   ]
  },
  {
   "cell_type": "markdown",
   "metadata": {
    "ein.tags": "worksheet-0",
    "slideshow": {
     "slide_type": "-"
    }
   },
   "source": [
    "All the models in scikit-learn have a `fit` method, which expects an $X$ matrix and a $y$ vector as inputs, and then trains the model. They also have a `predict` method, which takes an $X$ matrix as input and returns the $y$ values predicted by the model. We use this to plot the true vs the predicted band gap."
   ]
  },
  {
   "cell_type": "markdown",
   "metadata": {
    "ein.tags": "worksheet-0",
    "slideshow": {
     "slide_type": "-"
    }
   },
   "source": [
    "We can also inspect the parameters of the model to see which elements of the input vector are important to the model:"
   ]
  },
  {
   "cell_type": "code",
   "execution_count": null,
   "metadata": {
    "autoscroll": false,
    "ein.hycell": false,
    "ein.tags": "worksheet-0",
    "slideshow": {
     "slide_type": "-"
    }
   },
   "outputs": [],
   "source": [
    "print(linear.coef_)\n",
    "print(linear.intercept_)"
   ]
  },
  {
   "cell_type": "markdown",
   "metadata": {
    "ein.tags": "worksheet-0",
    "slideshow": {
     "slide_type": "-"
    }
   },
   "source": [
    "We see that despite the singular matrix, sklearn is able to do a linear fit, and returns sensible coefficients. Relying on this behaviour is rather brittle, and a better idea is to do as before and add a regularization parameter to the original loss function, which is done in the `linear_model.Ridge` model:"
   ]
  },
  {
   "cell_type": "code",
   "execution_count": null,
   "metadata": {
    "autoscroll": false,
    "ein.hycell": false,
    "ein.tags": "worksheet-0",
    "slideshow": {
     "slide_type": "-"
    }
   },
   "outputs": [],
   "source": [
    "from sklearn import linear_model\n",
    "\n",
    "linear_regularized = linear_model.Ridge(alpha = .5)\n",
    "make_comparison_plot(X, y, linear_regularized)"
   ]
  },
  {
   "cell_type": "code",
   "execution_count": null,
   "metadata": {
    "autoscroll": false,
    "ein.hycell": false,
    "ein.tags": "worksheet-0",
    "slideshow": {
     "slide_type": "-"
    }
   },
   "outputs": [],
   "source": [
    "print(linear_regularized.coef_)\n",
    "print(linear_regularized.intercept_)"
   ]
  },
  {
   "cell_type": "markdown",
   "metadata": {
    "ein.tags": "worksheet-0",
    "slideshow": {
     "slide_type": "-"
    }
   },
   "source": [
    "From visual inspection, it seems that the regularized model performs about as well as the original linear model.\n",
    "\n",
    "To proceed with the machine learning, we need some way of evaluating the performance of a model which is better than visual inspection of predicted versus actual values, and an assessment of the reasonableness of model parameters. Scikit-learn provides a `score()' method for each model, which evaluates how good the fit is."
   ]
  },
  {
   "cell_type": "code",
   "execution_count": null,
   "metadata": {
    "autoscroll": false,
    "ein.hycell": false,
    "ein.tags": "worksheet-0",
    "slideshow": {
     "slide_type": "-"
    }
   },
   "outputs": [],
   "source": [
    "linear_regularized.score(X, y)"
   ]
  },
  {
   "cell_type": "markdown",
   "metadata": {
    "ein.tags": "worksheet-0",
    "slideshow": {
     "slide_type": "-"
    }
   },
   "source": [
    "To truly compare between models, we should ideally train on some data, and evaluate the model on a different set of data. Otherwise, we could create a perfect model just by storing all the input data, and looking up the correct answer. The way to do this is by cross-validation, where the data is randomly split into a number of buckets, and for each bucket, the model is trained on all the other data, and then tested on the data in the bucket. Since the data might have a meaningful order in the database, it is important that the assignment of the data to each bucket is done at random. This is accomplished by `shuffle` argument to `KFold`.\n",
    "\n",
    "This approach to evaluating the performance of a model is very general and can also be used to optimize the so-called hyperparameters of a model, such as the regularization parameter alpha. Here, we will not optimize alpha, but only compare the performance of the alpha=0 and alpha=0.5 model. The score has been chosen so that the closer it is to 1, the better."
   ]
  },
  {
   "cell_type": "code",
   "execution_count": null,
   "metadata": {
    "autoscroll": false,
    "ein.hycell": false,
    "ein.tags": "worksheet-0",
    "slideshow": {
     "slide_type": "-"
    }
   },
   "outputs": [],
   "source": [
    "from sklearn import model_selection\n",
    "folds = model_selection.KFold(n_splits=2, shuffle=True, random_state=1)\n",
    "print(model_selection.cross_val_score(linear_regularized, X, y, cv=folds, scoring='explained_variance'))\n",
    "print(model_selection.cross_val_score(linear, X, y, cv=folds, scoring='explained_variance'))"
   ]
  },
  {
   "cell_type": "markdown",
   "metadata": {
    "ein.tags": "worksheet-0",
    "slideshow": {
     "slide_type": "-"
    }
   },
   "source": [
    "## Modelling the heat of formation\n",
    "\n",
    "Having looked at the band gap, we turn now to the heat of formation, which was defined further up. Try using the heat of formation as a target vector $\\mathbf y$ instead of the band gap. See if it is possible to predict the heat of formation using (regularized) linear regression and the simple input vector defined above. You can use the following code to calculate the heat of formation of all the compounds in the database. Can you explain what it does?"
   ]
  },
  {
   "cell_type": "code",
   "execution_count": null,
   "metadata": {
    "autoscroll": false,
    "ein.hycell": false,
    "ein.tags": "worksheet-0",
    "slideshow": {
     "slide_type": "-"
    }
   },
   "outputs": [],
   "source": [
    "plt.close()\n",
    "en_refs = {}\n",
    "for row in db.select(subproject='references'):\n",
    "    en_refs[row.element] = row.energy/len(row.symbols)\n",
    "HoF = []\n",
    "for row in db.select(project='organometal'):\n",
    "        energy = row.energy\n",
    "        # how many units are in there!?\n",
    "        n_units = len([True for symbol in row.symbols if symbol == 'Pb' or symbol == 'Sn'])\n",
    "        energy_standard = 0\n",
    "        for symbol in row.symbols:\n",
    "            if symbol in ['Cs','Pb','Sn','I','Br','Cl']:\n",
    "                energy_standard += en_refs[symbol]\n",
    "        if 'FA' in row.name:\n",
    "            energy_standard += n_units * en_refs['FA'] * 8\n",
    "        if 'MA' in row.name:\n",
    "            energy_standard += n_units * en_refs['MA'] * 8\n",
    "        HoF.append((energy-energy_standard) / n_units)"
   ]
  },
  {
   "cell_type": "code",
   "execution_count": null,
   "metadata": {
    "autoscroll": false,
    "ein.hycell": false,
    "ein.tags": "worksheet-0",
    "slideshow": {
     "slide_type": "-"
    }
   },
   "outputs": [],
   "source": [
    "# teacher\n",
    "from sklearn import linear_model\n",
    "linear_regularized = linear_model.Ridge(alpha=.5)\n",
    "\n",
    "HoF = np.array(HoF)\n",
    "w, loss = fit2(X, HoF, 0.01)\n",
    "ybar2 = X @ w\n",
    "plt.scatter(np.dot(X, w), HoF)\n",
    "ymax = np.array((HoF, ybar2)).max() + 0.1\n",
    "ymin = np.array((HoF, ybar2)).min() - 0.1\n",
    "plt.xlim(ymin, ymax)\n",
    "plt.ylim(ymin, ymax)\n",
    "plt.plot([ymin, ymax], [ymin, ymax], ls='--', color='k')\n",
    "plt.show()\n",
    "plt.figure()\n",
    "linear_regularized.fit(X, HoF)\n",
    "ybar = linear_regularized.predict(X)\n",
    "plt.xlim(ymin, ymax)\n",
    "plt.ylim(ymin, ymax)\n",
    "plt.plot([ymin, ymax], [ymin, ymax], 'k--')\n",
    "plt.xlabel('Predicted Heat of Formation [eV]')\n",
    "plt.ylabel('Actual Heat of Formation [eV]')\n",
    "plt.scatter(ybar, HoF)\n",
    "plt.show()"
   ]
  },
  {
   "cell_type": "markdown",
   "metadata": {
    "ein.tags": "worksheet-0",
    "slideshow": {
     "slide_type": "-"
    }
   },
   "source": [
    "When searching for new materials, we would like to find only stable materials. These should have a negative heat of formation, and be in the most stable symmetry class of the four we are considering. The model we have just made will tell us whether a given compound has a negative heat of formation, but it won't tell us whether a different symmetry class would have a lower energy.\n",
    "\n",
    "Predicting which symmetry class of the four is most stable for a given composition is a typical example of a classification problem: we would like to map a given composition, to which of the four symmetry classes is most stable. We start by creating the new output vector corresponding to our data. The output vector should have dimensions (n_compositions, 1), where n_compositions is the total number of different possible compositions without considering symmetries. For each composition, the output should indicate which of the symmetries in the database gives the lowest energy. An idea could be to reuse the `symmetry map` from further up.\n",
    "\n",
    "For the input vector, we can use the same one as before, only with the first four entries (corresponding to the symmetry class) removed.\n",
    "\n",
    "You should start by creating the target vector, which describes which symmetry is most stable for each composition:"
   ]
  },
  {
   "cell_type": "code",
   "execution_count": null,
   "metadata": {
    "autoscroll": false,
    "collapsed": true,
    "ein.hycell": false,
    "ein.tags": "worksheet-0",
    "slideshow": {
     "slide_type": "-"
    }
   },
   "outputs": [],
   "source": [
    "# teacher\n",
    "from operator import itemgetter\n",
    "symmetry_map = {'cubic': 0,\n",
    "                'tetragonal': 1,\n",
    "                'orthorhombic_1': 2,\n",
    "                'orthorhombic_2': 3}\n",
    "names = []\n",
    "zipped = []\n",
    "for i,row in enumerate(db.select(project='organometal')):\n",
    "    names.append(row.name)\n",
    "    zipped.append([row.name, row.symmetry, HoF[i], row.gllbsc_ind_gap])\n",
    "out = []\n",
    "test = []\n",
    "for comp in set(names):\n",
    "    energies = [entry for entry in zipped if entry[0]==comp]\n",
    "    pref_sym = sorted(energies, key=itemgetter(2))[0][1]\n",
    "    out.append([comp, pref_sym])\n",
    "    test.append([comp, sorted(energies, key=itemgetter(2))[0][3]])\n",
    "y_hof = []\n",
    "print(test)\n",
    "for row in db.select(project='organometal'):\n",
    "    preferred = [x[1] for x in out if x[0] == row.name]\n",
    "    y_hof.append(symmetry_map[preferred[0]])\n",
    "X_hof = X[:,4:]\n",
    "y_hof = np.array(y_hof)\n",
    "print(y_hof.shape,X_hof.shape)"
   ]
  },
  {
   "cell_type": "markdown",
   "metadata": {
    "ein.tags": "worksheet-0",
    "slideshow": {
     "slide_type": "-"
    }
   },
   "source": [
    "Once you have that, we can start modelling this data. To try something different, we will be using a decision tree to classify the data. This can be imported as follows:"
   ]
  },
  {
   "cell_type": "code",
   "execution_count": null,
   "metadata": {
    "autoscroll": false,
    "collapsed": true,
    "ein.hycell": false,
    "ein.tags": "worksheet-0",
    "slideshow": {
     "slide_type": "-"
    }
   },
   "outputs": [],
   "source": [
    "from sklearn import tree\n",
    "clf = tree.DecisionTreeClassifier()\n",
    "clf = clf.fit(X_hof, y_hof)  # student: clf = clf.fit(XXX)\n"
   ]
  },
  {
   "cell_type": "markdown",
   "metadata": {
    "ein.tags": "worksheet-0",
    "slideshow": {
     "slide_type": "-"
    }
   },
   "source": [
    "We can visualize the tree using `graphviz`. Can you explain it?"
   ]
  },
  {
   "cell_type": "code",
   "execution_count": null,
   "metadata": {
    "autoscroll": false,
    "collapsed": true,
    "ein.hycell": false,
    "ein.tags": "worksheet-0",
    "slideshow": {
     "slide_type": "-"
    }
   },
   "outputs": [],
   "source": [
    "import graphviz\n",
    "feature_names = ['first_cs','first_FA','first_MA','lead','tin','chlorine','iodine','bromine','reg']\n",
    "target_names = ['cubic', 'tetragonal', 'orthorhombic_1', 'orthorhombic_2']\n",
    "dot_data = tree.export_graphviz(clf, out_file=None,\n",
    "                                feature_names = feature_names,  \n",
    "                                class_names = target_names,  \n",
    "                                filled=True, rounded=True,  \n",
    "                                special_characters=True)  \n",
    "graph = graphviz.Source(dot_data)  \n",
    "graph"
   ]
  },
  {
   "cell_type": "markdown",
   "metadata": {
    "ein.tags": "worksheet-0",
    "slideshow": {
     "slide_type": "-"
    }
   },
   "source": [
    "One issue with decision trees is that it's often easy to overfit the data, by making the depth of the tree too large. To see if this is occurring, we can compute the cross-validation score of the model for different sets of maximum depths:"
   ]
  },
  {
   "cell_type": "code",
   "execution_count": null,
   "metadata": {
    "autoscroll": false,
    "collapsed": true,
    "ein.hycell": false,
    "ein.tags": "worksheet-0",
    "slideshow": {
     "slide_type": "-"
    }
   },
   "outputs": [],
   "source": [
    "folds = model_selection.KFold(n_splits=4, shuffle=True, random_state=0)\n",
    "scores = []\n",
    "for max_depth in range(1, 10):\n",
    "    clf = tree.DecisionTreeClassifier(max_depth=max_depth)\n",
    "    score = model_selection.cross_val_score(clf, X_hof, y_hof, cv=folds)\n",
    "    print(max_depth, score)\n",
    "    scores.append(score.mean())\n",
    "plt.plot(range(1, 10), scores)\n",
    "plt.xlabel('Maximum depth')\n",
    "plt.ylabel('Cross-validation score')\n",
    "plt.show()"
   ]
  },
  {
   "cell_type": "markdown",
   "metadata": {
    "ein.tags": "worksheet-0",
    "slideshow": {
     "slide_type": "-"
    }
   },
   "source": [
    "## Improving the input vector\n",
    "\n",
    "There is much more information we could include in the input vector, which might increase our predictive power of our model. An example could be the covalent radius of tin vs lead, or of the halogens, which will tend to increase or decrease the lattice constant of the whole crystal, and hence the energy. The covalent radii are available in `ase.data`, and can be imported as `from ase.data import covalent_radii`. Another example could be the electronegativities of the halogens, which will play a role in the character of the bonds. The mulliken electronegativities of chlorine, bromine and iodine are 8.3, 7.59 and 6.76 respectively\n",
    "\n",
    "Start by redoing a basic examination of the data: plot the band gap and heats of formation against some of the quantities you might add, and see if there is any correlation. For the quantities that do have a correlation, try adding them to the input vector, and see which (if any) result in an improved model for either the heat of formation, the relative energetic ordering of the symmetry classes, or the band gap.\n"
   ]
  },
  {
   "cell_type": "code",
   "execution_count": null,
   "metadata": {
    "autoscroll": false,
    "collapsed": true,
    "ein.hycell": false,
    "ein.tags": "worksheet-0",
    "slideshow": {
     "slide_type": "-"
    }
   },
   "outputs": [],
   "source": [
    "# teacher\n",
    "from ase.data import covalent_radii,atomic_numbers\n",
    "# use average covalent radii?\n",
    "covalent_radii[atomic_numbers['Cl']]\n",
    "X_add = []\n",
    "for row in db.select(project='organometal'):\n",
    "    cov_av = 0\n",
    "    n = 0\n",
    "    for sym in row.symbols:\n",
    "        if sym in ['Cl','Br','I']:\n",
    "            cov_av += covalent_radii[atomic_numbers[sym]]\n",
    "            n += 1\n",
    "    X_add.append(cov_av/n)\n",
    "print(X.shape)\n",
    "X_more = np.concatenate((X,np.array(X_add).reshape(len(X_add),1)),axis=1)\n",
    "print(X_more.shape)\n",
    "HoF = np.array(HoF)\n",
    "print(linear_regularized.score(X, HoF))\n",
    "#print(linear_regularized.score(X_more, HoF))\n",
    "w, loss1 = fit2(X_more, HoF,0.5)\n",
    "plt.scatter(np.dot(X_more, w),HoF)\n",
    "\n",
    "plt.plot(plt.xlim(),plt.ylim(),ls = '--', color='k')\n",
    "plt.show()\n",
    "w, loss2 = fit2(X, HoF,0.5)\n",
    "print('Loss with covalent: ',loss1)\n",
    "print('Loss without: ', loss2)\n",
    "print('yes, loss is better')"
   ]
  },
  {
   "cell_type": "markdown",
   "metadata": {
    "ein.tags": "worksheet-0",
    "slideshow": {
     "slide_type": "-"
    }
   },
   "source": [
    "## Improving the models\n",
    "\n",
    "Most phenomena we encounter don't have nice linear relationships between inputs and outputs. We model nonlinear relationships in two different ways: we either introduce nonlinearity in our features, or in our model. The first\n",
    "is known as feature engineering, and requires a good method. The second makes optimizing the parameters of our model slightly more difficult, as we can lose many of the nice properties of the linear model, such as the closed-form solution.\n",
    "\n",
    "Here we will focus on gaussian process regression as a case study. You can read more about it here: http://scikit-learn.org/stable/modules/gaussian_process.html#gaussian-process. This lets us fit nonlinear functions and also provides a confidence interval indicating how well the machine is doing.\n",
    "\n",
    "Similar to the linear_regression, we can import it as from sklearn and create an example of the model with `model = GaussianProcessRegressor(kernel=YYY)`, where `YYY` is the kernel used. as a start, we should use a radial basis function, which is also available from sklearn. As usual, the model has a `fit()` and a `predict()` method, which sets the parameters of the model, and tries to predict outputs based on inputs"
   ]
  },
  {
   "cell_type": "code",
   "execution_count": null,
   "metadata": {
    "autoscroll": false,
    "collapsed": true,
    "ein.hycell": false,
    "ein.tags": "worksheet-0",
    "slideshow": {
     "slide_type": "-"
    }
   },
   "outputs": [],
   "source": [
    "from sklearn.gaussian_process import GaussianProcessRegressor\n",
    "from sklearn.gaussian_process.kernels import RBF\n",
    "\n",
    "kernel = RBF(length_scale=0.1)\n",
    "model = GaussianProcessRegressor(kernel=kernel)\n",
    "model.fit(X, y)\n",
    "fit = model.predict(X)\n",
    "model.score(X, y)"
   ]
  },
  {
   "cell_type": "markdown",
   "metadata": {
    "ein.tags": "worksheet-0",
    "slideshow": {
     "slide_type": "-"
    }
   },
   "source": [
    "The model we have chosen is very dependent on the length scale we set for the kernel, and it is not given that the value chosen above (0.1). The fact that we have a score of 1.0 is an indication that we may be overfitting. The trick to selecting the best value of this parameter is again cross-validation. We can loop over different possible values of the hyperparameter to make different classes of models, and then evaluate the cross-validation score of each to see which performs best. Try this!"
   ]
  },
  {
   "cell_type": "code",
   "execution_count": null,
   "metadata": {
    "autoscroll": false,
    "collapsed": true,
    "ein.hycell": false,
    "ein.tags": "worksheet-0",
    "slideshow": {
     "slide_type": "-"
    }
   },
   "outputs": [],
   "source": [
    "# teacher\n",
    "lengths = [0.1, 0.5, 1.0, 1.5, 2.0, 5.0, 10.0, 20.0]\n",
    "folds = model_selection.KFold(n_splits=4, shuffle=True, random_state=1)\n",
    "for length in lengths:\n",
    "    kernel = RBF(length_scale=length)\n",
    "    model = GaussianProcessRegressor(kernel=kernel)\n",
    "    print(length, model_selection.cross_val_score(model, X, y, cv=folds))\n",
    "    "
   ]
  },
  {
   "cell_type": "markdown",
   "metadata": {
    "ein.tags": "worksheet-0",
    "slideshow": {
     "slide_type": "-"
    }
   },
   "source": [
    "Ideally you should find that length scales of ~1.0 perform best according to this scoring metric. In general, scikit has many tools for finding optimized hyperparameters for a given model - an example is [GridSearchCV](http://scikit-learn.org/stable/auto_examples/model_selection/plot_grid_search_digits.html), which automatically goes through all possible combinations of hyperparameters, finding the best one. You should note that there is a problem with using the Cross-validation scores we compute here to evaluate the performance of a given set of hyperparameters, which is very similar to the original problem of overfitting. Can you see what it is?"
   ]
  },
  {
   "cell_type": "code",
   "execution_count": null,
   "metadata": {
    "autoscroll": false,
    "collapsed": true,
    "ein.hycell": false,
    "ein.tags": "worksheet-0",
    "slideshow": {
     "slide_type": "-"
    }
   },
   "outputs": [],
   "source": [
    "# teacher\n",
    "# The hyperparameters have become parameters of our final model, and so by fitting the hyperparameters to the same data that we use to evaluate the model, we artificially increase the score of our model"
   ]
  },
  {
   "cell_type": "markdown",
   "metadata": {
    "ein.tags": "worksheet-0",
    "slideshow": {
     "slide_type": "-"
    }
   },
   "source": [
    "# Testing and evaluating the model\n",
    "\n",
    "Now we've reached the stage where we start actually doing electronic structure calculations!\n",
    "\n",
    "We would like to test the models we have made by comparing the predicted quantities to calculated quantities. We are looking for materials which have a negative heat of formation, which are the most stable ones in their composition class out of all the different symmetry types, and which have a band gap of approximately 1.5 eV. Can you find a material matching the above criteria?"
   ]
  },
  {
   "cell_type": "code",
   "execution_count": null,
   "metadata": {
    "autoscroll": false,
    "collapsed": true,
    "ein.hycell": false,
    "ein.tags": "worksheet-0",
    "slideshow": {
     "slide_type": "-"
    }
   },
   "outputs": [],
   "source": [
    "from sklearn.gaussian_process import GaussianProcessRegressor\n",
    "from sklearn.gaussian_process.kernels import RBF\n",
    "\n",
    "kernel = RBF()\n",
    "model = GaussianProcessRegressor(kernel=kernel)\n",
    "model.fit(X, y)\n",
    "y_bar = model.predict(X)\n",
    "print('KRR: ', model.score(X,y))\n",
    "print('Linear Reg:', linear_regularized.score(X, y))\n",
    "plt.scatter(y_bar,y)\n",
    "plt.plot(plt.xlim(), plt.ylim(), ls = '--', color='k')\n",
    "plt.show()"
   ]
  },
  {
   "cell_type": "markdown",
   "metadata": {
    "ein.tags": "worksheet-0",
    "slideshow": {
     "slide_type": "-"
    }
   },
   "source": [
    "Ideally there is a structure similar to it in the database. To generate the new structure, we can therefore start with the atoms object of the similar structure. Suppose the identical structure is already present, only with lead instead of tin in the structure. We can then generate an initial guess for the starting structure by doing"
   ]
  },
  {
   "cell_type": "code",
   "execution_count": null,
   "metadata": {
    "autoscroll": false,
    "collapsed": true,
    "ein.hycell": false,
    "ein.tags": "worksheet-0",
    "slideshow": {
     "slide_type": "-"
    }
   },
   "outputs": [],
   "source": [
    "row = next(db.select(name='MAPbI3', symmetry='cubic'))  # student: row = next(db.select(name='similar name', symmetry='similar symmetry'))\n",
    "atoms = row.toatoms()\n",
    "symbols = atoms.get_chemical_symbols()\n",
    "new_symbols = ['Sn' if symbol == 'Pb' else symbol\n",
    "               for symbol in symbols]\n",
    "atoms.set_chemical_symbols(new_symbols)\n",
    "view(atoms)"
   ]
  },
  {
   "cell_type": "markdown",
   "metadata": {
    "ein.tags": "worksheet-0",
    "slideshow": {
     "slide_type": "-"
    }
   },
   "source": [
    "Hopefully, you should see that the structure looks as expected! Unfortunately, the new structure is not in a relaxed configuration - by changing some of the atoms, we've also changed the forces on each atom. Before we calculate the energies and band gaps, we need to relax the structure. Note: because of the computational cost, select a cubic structure.\n",
    "\n",
    "**Tip**: You can save the following cell to a file, say `myrelax.py`, by uncommenting the first line and using the next cell to submit it to the cluster by writing the following in a cell:\n",
    "~~~\n",
    "!qsub.py -p 8 -t 4 myrelax.py\n",
    "~~~"
   ]
  },
  {
   "cell_type": "code",
   "execution_count": null,
   "metadata": {
    "autoscroll": false,
    "collapsed": true,
    "ein.hycell": false,
    "ein.tags": "worksheet-0",
    "slideshow": {
     "slide_type": "-"
    }
   },
   "outputs": [],
   "source": [
    "#%%writefile myrelax.py\n",
    "from gpaw import GPAW, FermiDirac, PW\n",
    "from ase.optimize.bfgs import BFGS\n",
    "from ase.constraints import UnitCellFilter\n",
    "\n",
    "name = atoms.get_chemical_formula()\n",
    "calc = GPAW(mode=PW(500),\n",
    "            kpts={'size': (4, 4, 4), 'gamma': True},\n",
    "            xc='PBE',\n",
    "            txt=name + '_relax.out',\n",
    "            occupations=FermiDirac(width=0.05))\n",
    "\n",
    "atoms.set_calculator(calc)\n",
    "uf = UnitCellFilter(atoms, mask=[1, 1, 1, 0, 0, 0])\n",
    "relax = BFGS(uf,logfile=name + '_relax.log',trajectory=name + '_relax.traj')\n",
    "relax.run(fmax=0.05)  # force is really a stress here"
   ]
  },
  {
   "cell_type": "markdown",
   "metadata": {
    "ein.tags": "worksheet-0",
    "slideshow": {
     "slide_type": "-"
    }
   },
   "source": [
    "Once we have the relaxed structure, we are ready to roll! We need to calculate the heat of formation and band gap of this structure, and compare with our predicted values. Time permitting, we should also calculate the heat of formation of the three competing crystal symmetries, to really confirm that we are looking at the correct state. Standard DFT seriously underestimates the band gap. We thus use a more accurate method which includes the calculation of the derivative discontinuity, called GLLBSC. You can find more information about it [here](https://journals.aps.org/prb/abstract/10.1103/PhysRevB.82.115106) and a benchmark of different methodologies [here](https://onlinelibrary.wiley.com/doi/abs/10.1002/aenm.201400915)."
   ]
  },
  {
   "cell_type": "code",
   "execution_count": null,
   "metadata": {
    "autoscroll": false,
    "collapsed": true,
    "ein.hycell": false,
    "ein.tags": "worksheet-0",
    "slideshow": {
     "slide_type": "-"
    }
   },
   "outputs": [],
   "source": [
    "#%%writefile dft-gllb.py\n",
    "from ase.io import read\n",
    "\n",
    "atoms = read(name + '_relax.traj')\n",
    "calc = GPAW(mode=PW(500),\n",
    "            kpts={'size': (8, 8, 8), 'gamma': True},\n",
    "            xc='GLLBSC',\n",
    "            occupations=FermiDirac(width=0.05))\n",
    "\n",
    "atoms.set_calculator(calc)\n",
    "energy = atoms.get_potential_energy()\n",
    "\n",
    "response = calc.hamiltonian.xc.xcs['RESPONSE']\n",
    "response.calculate_delta_xc()\n",
    "EKs, Dxc = response.calculate_delta_xc_perturbation()\n",
    "gap = EKs + Dxc"
   ]
  },
  {
   "cell_type": "markdown",
   "metadata": {
    "ein.tags": "worksheet-0",
    "slideshow": {
     "slide_type": "-"
    }
   },
   "source": [
    "Do the resulting energies match your predictions?"
   ]
  }
 ],
 "metadata": {
  "kernelspec": {
   "display_name": "Python 3",
   "language": "python",
   "name": "python3"
  },
  "language_info": {
   "codemirror_mode": {
    "name": "ipython",
    "version": 3
   },
   "file_extension": ".py",
   "mimetype": "text/x-python",
   "name": "python",
   "nbconvert_exporter": "python",
   "pygments_lexer": "ipython3",
   "version": "3.6.4"
  },
  "name": "machinelearning.ipynb"
 },
 "nbformat": 4,
 "nbformat_minor": 2
}
