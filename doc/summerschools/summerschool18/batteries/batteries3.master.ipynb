{
 "cells": [
  {
   "cell_type": "markdown",
   "metadata": {},
   "source": [
    "# Battery Project\n",
    "\n",
    "## Day 4 - Transport barriers and Voltage profile"
   ]
  },
  {
   "cell_type": "markdown",
   "metadata": {},
   "source": [
    "Today you will calculate the energy barriers for transport of Li intercalated in the graphite anode. You will examine how sensitive this barrier is to the interlayer distance in graphite.  You will also examine the energy of intermediate states during the charge/discharge process. This will allow some basic discussion of the voltage profile of the battery.\n",
    "\n",
    "You will in general be provided less code than yesterday, especially towards the end of this notebook. You will have to use what you have already seen and learned so far. \n",
    "\n",
    "There will be some natural pauses while you wait for calculations to finish. If you do not finish this entire notebook today, do not despair. "
   ]
  },
  {
   "cell_type": "markdown",
   "metadata": {},
   "source": [
    "## Initialize"
   ]
  },
  {
   "cell_type": "code",
   "execution_count": null,
   "metadata": {},
   "outputs": [],
   "source": [
    "%matplotlib notebook\n",
    "from ase import Atom\n",
    "from ase.visualize import view\n",
    "import matplotlib.pyplot as plt\n",
    "from ase.io import read, write\n",
    "from ase.neb import NEB\n",
    "from ase.optimize import BFGS\n",
    "from ase.parallel import paropen\n",
    "from gpaw import GPAW, FermiDirac, Mixer, PW\n",
    "from ase.constraints import FixAtoms"
   ]
  },
  {
   "cell_type": "markdown",
   "metadata": {},
   "source": [
    "## Transport barrier of Li in graphite"
   ]
  },
  {
   "cell_type": "markdown",
   "metadata": {},
   "source": [
    "You will now calculate the energy barrier for Li diffusion in the graphite anode. You will do this using the [Nudged Elastic Band (NEB) method](https://wiki.fysik.dtu.dk/ase/ase/neb.html#module-ase.neb)\n",
    "\n",
    "You can use your work from Day 2, but for simplicity you are advised to load in the initial atomic configuration from file. "
   ]
  },
  {
   "cell_type": "code",
   "execution_count": null,
   "metadata": {},
   "outputs": [],
   "source": [
    "initial = read('NEB_init.traj')"
   ]
  },
  {
   "cell_type": "markdown",
   "metadata": {},
   "source": [
    "Visualize the structure."
   ]
  },
  {
   "cell_type": "code",
   "execution_count": null,
   "metadata": {},
   "outputs": [],
   "source": [
    "view(initial)"
   ]
  },
  {
   "cell_type": "markdown",
   "metadata": {},
   "source": [
    "You will now make a final structure, where the Li atom has been moved to a neighbouring equivalent site. The [`get_positions`](https://wiki.fysik.dtu.dk/ase/ase/atoms.html?highlight=get_positions#ase.Atoms.get_positions), [`set_positions`](https://wiki.fysik.dtu.dk/ase/ase/atoms.html?highlight=get_positions#ase.Atoms.set_positions) and [`get_cell`](https://wiki.fysik.dtu.dk/ase/ase/atoms.html?highlight=get_positions#ase.Atoms.get_cell) functions are highly useful for such a task. HINT: Displace the Li atom $\\frac{1}{n} (\\vec{a}+\\vec{b})$"
   ]
  },
  {
   "cell_type": "code",
   "execution_count": null,
   "metadata": {},
   "outputs": [],
   "source": [
    "final = initial.copy()"
   ]
  },
  {
   "cell_type": "code",
   "execution_count": null,
   "metadata": {},
   "outputs": [],
   "source": [
    "# ...\n",
    "# ...\n",
    "\n",
    "# teacher\n",
    "cell = final.get_cell()\n",
    "pos = final.get_positions()\n",
    "pos[6] = pos[6] + cell[1] / 3 + cell[0] / 3\n",
    "final.set_positions(pos)"
   ]
  },
  {
   "cell_type": "markdown",
   "metadata": {},
   "source": [
    "Visualize that you have made the final strcuture correctly."
   ]
  },
  {
   "cell_type": "code",
   "execution_count": null,
   "metadata": {},
   "outputs": [],
   "source": [
    "view(final)"
   ]
  },
  {
   "cell_type": "markdown",
   "metadata": {},
   "source": [
    "Make a band consisting of 7 images including the initial and final. "
   ]
  },
  {
   "cell_type": "code",
   "execution_count": null,
   "metadata": {},
   "outputs": [],
   "source": [
    "images = [initial]\n",
    "images += [initial.copy() for i in range(5)]  # These will become the minimum energy path images.\n",
    "images += [final]"
   ]
  },
  {
   "cell_type": "markdown",
   "metadata": {},
   "source": [
    "It this point `images` consist of 6 copies of `initial` and one entry of `final`. Use the `NEB` method to create an initial guess for the minimum energy path (MEP). In the cell below a simple interpolation between the `initial` and `final` image is used as initial guess."
   ]
  },
  {
   "cell_type": "code",
   "execution_count": null,
   "metadata": {},
   "outputs": [],
   "source": [
    "neb = NEB(images)\n",
    "neb.interpolate()"
   ]
  },
  {
   "cell_type": "markdown",
   "metadata": {},
   "source": [
    "Visualize the NEB images."
   ]
  },
  {
   "cell_type": "code",
   "execution_count": null,
   "metadata": {},
   "outputs": [],
   "source": [
    "view(images)"
   ]
  },
  {
   "cell_type": "markdown",
   "metadata": {},
   "source": [
    "It turns out, that while running the NEB calculation, the largest amount of resources will be spend translating the carbon layer without any noticeable buckling. You will thus [constrain](https://wiki.fysik.dtu.dk/ase/ase/constraints.html#constraints) the positions of the carbon atoms to save computational time. \n",
    "\n",
    "Each image in the NEB requires a unique calculator.\n",
    "\n",
    "This very simple case is highly symmetric. To better illustrate how the NEB method works, the symmetry is broken using the [rattle](https://wiki.fysik.dtu.dk/ase/ase/atoms.html#ase.Atoms.rattle) function."
   ]
  },
  {
   "cell_type": "raw",
   "metadata": {},
   "source": [
    "# for image in images[0:7]:\n",
    "#     calc = GPAW(mode=PW(500), kpts=(5, 5, 6), xc='LDA', txt=None, symmetry={'point_group': False})\n",
    "#     image.set_calculator(calc)\n",
    "#     image.set_constraint(FixAtoms(mask=[atom.symbol == 'C' for atom in image]))\n",
    "\n",
    "# images[3].rattle(stdev=0.05, seed=42)"
   ]
  },
  {
   "cell_type": "markdown",
   "metadata": {},
   "source": [
    "Start by calculating the energy and forces of the first (`initial`) and last (`final`) images as this is not done during the actual NEB calculation. \n",
    "\n",
    "Note, that this can take a while if you opt to do it inside the notebook."
   ]
  },
  {
   "cell_type": "raw",
   "metadata": {},
   "source": [
    "# images[0].get_potential_energy()\n",
    "# images[0].get_forces()\n",
    "# images[6].get_potential_energy()\n",
    "# images[6].get_forces()"
   ]
  },
  {
   "cell_type": "markdown",
   "metadata": {},
   "source": [
    "You can run the NEB calculation by running an optimization on the NEB object the same way you would on an atoms object. Note the `fmax` is larger for this tutorial example than you would normally use. "
   ]
  },
  {
   "cell_type": "raw",
   "metadata": {},
   "source": [
    "# optimizer = BFGS(neb, trajectory='neb.traj', logfile='neb.log' )\n",
    "# optimizer.run(fmax=0.10)"
   ]
  },
  {
   "cell_type": "markdown",
   "metadata": {},
   "source": [
    "Submit the calculation to the HPC cluster. Do this by first building a complete script in the cell below using the cells above (minus the `view()` commands). Make sure the cell runs and then interrupt the kernel. "
   ]
  },
  {
   "cell_type": "code",
   "execution_count": null,
   "metadata": {},
   "outputs": [],
   "source": [
    "#from ase.io import read, write\n",
    "#from ase.neb import NEB\n",
    "#from ase.optimize import BFGS\n",
    "#from ase.parallel import paropen\n",
    "#from gpaw import GPAW, FermiDirac, Mixer, PW\n",
    "#from ase.constraints import FixAtoms\n",
    "\n",
    "# initial = read('NEB_init.traj')\n",
    "\n",
    "# final = ...\n",
    "\n",
    "# ...\n",
    "# ...\n",
    "\n",
    "# optimizer.run(fmax=0.10)\n",
    "\n",
    "# teacher\n",
    "from ase.io import read, write\n",
    "from ase.neb import NEB\n",
    "from ase.optimize import BFGS\n",
    "from ase.parallel import paropen\n",
    "from gpaw import GPAW, FermiDirac, Mixer, PW\n",
    "from ase.constraints import FixAtoms\n",
    "\n",
    "initial=read('NEB_init.traj')\n",
    "\n",
    "final=initial.copy()\n",
    "cell=final.get_cell()\n",
    "pos=final.get_positions()\n",
    "pos[6]=pos[6]+cell[1]/3.+cell[0]/3.\n",
    "final.set_positions(pos)\n",
    "\n",
    "images = [initial]\n",
    "images += [initial.copy() for i in range(5)]  #These will become the minimum energy path images.\n",
    "images += [final]\n",
    "\n",
    "neb = NEB(images)\n",
    "neb.interpolate()\n",
    "\n",
    "for image in images[0:7]:\n",
    "    calc = GPAW(mode=PW(500), kpts=(5, 5, 6), xc='LDA', symmetry={'point_group': False})\n",
    "    image.set_calculator(calc)\n",
    "    image.set_constraint(FixAtoms(mask=[atom.symbol == 'C' for atom in image]))\n",
    "    \n",
    "images[3].rattle(stdev=0.05, seed=42)\n",
    "\n",
    "images[0].get_potential_energy()\n",
    "images[0].get_forces()\n",
    "images[6].get_potential_energy()\n",
    "images[6].get_forces()\n",
    "\n",
    "optimizer = BFGS(neb, trajectory = 'neb.traj', logfile = 'neb.log' )\n",
    "optimizer.run(fmax = 0.10)"
   ]
  },
  {
   "cell_type": "markdown",
   "metadata": {},
   "source": [
    "You can use the cell below to submit the calculation in the same way as on earlier days."
   ]
  },
  {
   "cell_type": "code",
   "execution_count": null,
   "metadata": {},
   "outputs": [],
   "source": [
    "!qsub.py -p 8 -t 1 NEB.py  # submits the calculation to 8 cores, 1 hour "
   ]
  },
  {
   "cell_type": "markdown",
   "metadata": {},
   "source": [
    "Run the below cell to examine the status of your calculation. If no output is returned, the calculation has either finished or failed."
   ]
  },
  {
   "cell_type": "code",
   "execution_count": null,
   "metadata": {},
   "outputs": [],
   "source": [
    "!qstat -u $USER"
   ]
  },
  {
   "cell_type": "markdown",
   "metadata": {},
   "source": [
    "You can run the cells below to open the error log and output of the calculation in a new window. This can be done while the calculation is running."
   ]
  },
  {
   "cell_type": "code",
   "execution_count": null,
   "metadata": {},
   "outputs": [],
   "source": [
    "!gedit \"$(ls -t NEB.py.e* | head -1)\""
   ]
  },
  {
   "cell_type": "code",
   "execution_count": null,
   "metadata": {},
   "outputs": [],
   "source": [
    "!gedit \"$(ls -t NEB.py.o* | head -1)\""
   ]
  },
  {
   "cell_type": "markdown",
   "metadata": {},
   "source": [
    "The optimiziation progress can be seen by running the below cell."
   ]
  },
  {
   "cell_type": "code",
   "execution_count": null,
   "metadata": {},
   "outputs": [],
   "source": [
    "!gedit neb.log"
   ]
  },
  {
   "cell_type": "markdown",
   "metadata": {},
   "source": [
    "You can move on while you wait for the calculation to finish.\n",
    "\n",
    "Once the maximum force (`fmax`) in the log is below 0.1, the calculation is finished.\n",
    "Load in the full trajectory."
   ]
  },
  {
   "cell_type": "code",
   "execution_count": null,
   "metadata": {},
   "outputs": [],
   "source": [
    "full_neb = read('neb.traj@:')"
   ]
  },
  {
   "cell_type": "markdown",
   "metadata": {},
   "source": [
    "You will use the `ase gui` to inspect the result. The below line reads in the last 7 images in the file. In this case the MEP images."
   ]
  },
  {
   "cell_type": "code",
   "execution_count": null,
   "metadata": {},
   "outputs": [],
   "source": [
    "!ase gui neb.traj@-7:"
   ]
  },
  {
   "cell_type": "markdown",
   "metadata": {},
   "source": [
    "In the GUI use `Tools` $\\rightarrow$ `NEB`.\n",
    "\n",
    "Now inspect how the TS image has developed."
   ]
  },
  {
   "cell_type": "code",
   "execution_count": null,
   "metadata": {},
   "outputs": [],
   "source": [
    "!ase gui neb.traj@3::7"
   ]
  },
  {
   "cell_type": "markdown",
   "metadata": {},
   "source": [
    "For more complicated MEP's, use the [climbing image method](https://wiki.fysik.dtu.dk/ase/ase/neb.html?highlight=neb#climbing-image) to determine the transition state. Why is it not required here?"
   ]
  },
  {
   "cell_type": "markdown",
   "metadata": {},
   "source": [
    "## Bonus\n",
    "\n",
    "You will now study the influence of changing the interlayer graphite distance on the energy barrier. Due to the high degree of symmetry, this can be done easily in this case. Load in the initial state (IS) and transition state (TS) images from the converged MEP. "
   ]
  },
  {
   "cell_type": "code",
   "execution_count": null,
   "metadata": {},
   "outputs": [],
   "source": [
    "IS_image = images[0]\n",
    "TS_image = images[3]"
   ]
  },
  {
   "cell_type": "markdown",
   "metadata": {},
   "source": [
    "Now calculate the energy of the initial state (IS) image and the transition state (TS) image using [`get_potential_energy()`](https://wiki.fysik.dtu.dk/ase/ase/atoms.html?highlight=get_potential_energy#ase.Atoms.get_potential_energy)"
   ]
  },
  {
   "cell_type": "code",
   "execution_count": null,
   "metadata": {},
   "outputs": [],
   "source": [
    "epot_IS = IS_image.get_potential_energy()\n",
    "#epot_TS= ...\n",
    "\n",
    "# teacher\n",
    "epot_TS = TS_image.get_potential_energy()"
   ]
  },
  {
   "cell_type": "code",
   "execution_count": null,
   "metadata": {},
   "outputs": [],
   "source": [
    "barrier = epot_TS - epot_IS\n",
    "print('Energy barrier:', barrier)"
   ]
  },
  {
   "cell_type": "markdown",
   "metadata": {},
   "source": [
    "Why does this not fully align with what you found before? New reduce the graphite layer distance by change the the size of the unit cell in the *z* direction by 3 %."
   ]
  },
  {
   "cell_type": "code",
   "execution_count": null,
   "metadata": {},
   "outputs": [],
   "source": [
    "cell = IS_image.get_cell()\n",
    "IS_image97 = IS_image.copy()\n",
    "IS_image97.set_cell([cell[0], cell[1], cell[2] * 0.97], scale_atoms=True)\n",
    "TS_image97 = TS_image.copy()\n",
    "TS_image97.set_cell([cell[0], cell[1], cell[2] * 0.97], scale_atoms=True)"
   ]
  },
  {
   "cell_type": "markdown",
   "metadata": {},
   "source": [
    "Use the same calculator object as you did above and calculate the potential energy of the compressed initial and final state."
   ]
  },
  {
   "cell_type": "code",
   "execution_count": null,
   "metadata": {},
   "outputs": [],
   "source": [
    "# calc = ...\n",
    "# ...\n",
    "\n",
    "# teacher\n",
    "calc = GPAW(mode=PW(500), kpts=(5, 5, 6), xc='LDA', symmetry={'point_group': False})\n",
    "TS_image97.set_calculator(calc)\n",
    "calc = GPAW(mode=PW(500), kpts=(5, 5, 6), xc='LDA', symmetry={'point_group': False})\n",
    "IS_image97.set_calculator(calc)"
   ]
  },
  {
   "cell_type": "markdown",
   "metadata": {},
   "source": [
    "Now calculate the energy of the compressed IS and TS."
   ]
  },
  {
   "cell_type": "code",
   "execution_count": null,
   "metadata": {},
   "outputs": [],
   "source": [
    "# epot_TS97 = ...\n",
    "\n",
    "# teacher\n",
    "epot_TS97 = TS_image97.get_potential_energy()\n",
    "epot_IS97 = IS_image97.get_potential_energy()"
   ]
  },
  {
   "cell_type": "markdown",
   "metadata": {},
   "source": [
    "What is the energy barrier now?"
   ]
  },
  {
   "cell_type": "code",
   "execution_count": null,
   "metadata": {},
   "outputs": [],
   "source": [
    "# barrier97 = ...\n",
    "# print('Energy barrier:', barrier97)\n",
    "\n",
    "# teacher\n",
    "barrier97=epot_TS97-epot_IS97\n",
    "print(\"Energy barrier:\", barrier97)"
   ]
  },
  {
   "cell_type": "markdown",
   "metadata": {},
   "source": [
    "Now repeat the procedure but expanding the intergraphite distance by 3 %."
   ]
  },
  {
   "cell_type": "code",
   "execution_count": null,
   "metadata": {},
   "outputs": [],
   "source": [
    "# IS_image103 = IS_image.copy()\n",
    "# IS_image103.set_cell(...\n",
    "\n",
    "# calc ...\n",
    "\n",
    "\n",
    "# epot_TS103 = ...\n",
    "# ...\n",
    "\n",
    "# teacher\n",
    "IS_image103=IS_image.copy()\n",
    "IS_image103.set_cell([cell[0],cell[1],cell[2]*1.03], scale_atoms=True)\n",
    "TS_image103=TS_image.copy()\n",
    "TS_image103.set_cell([cell[0],cell[1],cell[2]*1.03], scale_atoms=True)\n",
    "\n",
    "calc = GPAW(mode=PW(500), kpts=(5, 5, 6), xc='LDA', symmetry={'point_group': False})\n",
    "TS_image103.set_calculator(calc)\n",
    "calc = GPAW(mode=PW(500), kpts=(5, 5, 6), xc='LDA', symmetry={'point_group': False})\n",
    "IS_image103.set_calculator(calc)\n",
    "\n",
    "epot_TS103=TS_image103.get_potential_energy()\n",
    "epot_IS103=IS_image103.get_potential_energy()"
   ]
  },
  {
   "cell_type": "markdown",
   "metadata": {},
   "source": [
    "What is the energy barrier now?"
   ]
  },
  {
   "cell_type": "code",
   "execution_count": null,
   "metadata": {},
   "outputs": [],
   "source": [
    "# barrier103 = ...\n",
    "# print('Energy barrier:', barrier103)\n",
    "\n",
    "# teacher\n",
    "barrier103 = epot_TS103 - epot_IS103\n",
    "print('Energy barrier:', barrier103)"
   ]
  },
  {
   "cell_type": "markdown",
   "metadata": {},
   "source": [
    "## FePO$_4$ with one Li"
   ]
  },
  {
   "cell_type": "markdown",
   "metadata": {},
   "source": [
    "You will now calculate the energy gain of adding a single Li atom into the FePO$_4$ cell you made on Day 3. This corresponds to a charge of 25 %. You can compare this energy to the equilibrium potential. \n",
    "\n",
    "Load in the FePO$_4$ structure you wrote to file on in a previous exercise and add Li. Assume that the cell dimension remain unchanged. "
   ]
  },
  {
   "cell_type": "code",
   "execution_count": null,
   "metadata": {},
   "outputs": [],
   "source": [
    "#fepo4=read('fepo4.traj')\n",
    "#fepo4_1li=fepo4.copy()\n",
    "\n",
    "# teacher\n",
    "from ase import Atoms\n",
    "fepo4=Atoms('FeFeFeFeOOOOOOOOOOOOOOOOPPPP',\n",
    "             positions=[[2.73015081, 1.46880951, 4.56541172],\n",
    "                [2.23941067, 4.40642872, 2.14957739],\n",
    "                [7.20997230, 4.40642925, 0.26615813],\n",
    "                [7.70070740, 1.46880983, 2.68199421],\n",
    "                [1.16033403, 1.46881052, 3.40240205],\n",
    "                [3.80867172, 4.40642951, 0.98654342],\n",
    "                [8.77981469, 4.40642875, 1.42923946],\n",
    "                [6.13142032, 1.46881092, 3.84509827],\n",
    "                [4.37288562, 1.46880982, 0.81812712],\n",
    "                [0.59764596, 4.40643021, 3.23442747],\n",
    "                [5.56702590, 4.40642886, 4.01346264],\n",
    "                [9.34268360, 1.46880929, 1.59716233],\n",
    "                [1.64001691, 0.26061277, 1.17298291],\n",
    "                [3.32931769, 5.61463705, 3.58882629],\n",
    "                [8.30013707, 3.19826250, 3.65857000],\n",
    "                [6.61076951, 2.67698811, 1.24272700],\n",
    "                [8.30013642, 5.61459688, 3.65856912],\n",
    "                [6.61076982, 0.26063178, 1.24272567],\n",
    "                [1.64001666, 2.67700652, 1.17298270],\n",
    "                [3.32931675, 3.19822249, 3.58882660],\n",
    "                [0.90585688, 1.46880966, 1.89272372],\n",
    "                [4.06363530, 4.40642949, 4.30853266],\n",
    "                [9.03398503, 4.40642957, 2.93877879],\n",
    "                [5.87676435, 1.46881009, 0.52297232]\n",
    "                        ],\n",
    "             cell=[9.94012, 5.87524, 4.83157],\n",
    "             pbc=[1, 1, 1])\n",
    "\n",
    "for atom in fepo4:\n",
    "    if atom.symbol == 'Fe':\n",
    "        atom.magmom = 5.0 \n",
    "        \n",
    "fepo4_1li = fepo4.copy()"
   ]
  },
  {
   "cell_type": "code",
   "execution_count": null,
   "metadata": {},
   "outputs": [],
   "source": [
    "# fepo4_1li.append(...)\n",
    "\n",
    "# teacher\n",
    "fepo4_1li.append('Li')"
   ]
  },
  {
   "cell_type": "markdown",
   "metadata": {},
   "source": [
    "Visualize the structure you made."
   ]
  },
  {
   "cell_type": "code",
   "execution_count": null,
   "metadata": {},
   "outputs": [],
   "source": [
    "view(fepo4_1li)"
   ]
  },
  {
   "cell_type": "markdown",
   "metadata": {},
   "source": [
    "Adjust the total magnetic moment of the cell such that it is 19."
   ]
  },
  {
   "cell_type": "code",
   "execution_count": null,
   "metadata": {},
   "outputs": [],
   "source": [
    "for atom in fepo4_1li:\n",
    "    if atom.symbol == 'Fe':\n",
    "        atom.magmom = 4.75  \n",
    "\n",
    "print(sum(fepo4_1li.get_initial_magnetic_moments()))"
   ]
  },
  {
   "cell_type": "markdown",
   "metadata": {},
   "source": [
    "Write your atoms object to file giving it the name `fepo4_1li.traj`."
   ]
  },
  {
   "cell_type": "code",
   "execution_count": null,
   "metadata": {},
   "outputs": [],
   "source": [
    "write('fepo4_1li.traj', fepo4_1li)"
   ]
  },
  {
   "cell_type": "markdown",
   "metadata": {},
   "source": [
    "Make a full script in the cell below similar to those you made yesterday. Make sure the cell runs before interupting the notebook kernel. "
   ]
  },
  {
   "cell_type": "code",
   "execution_count": null,
   "metadata": {},
   "outputs": [],
   "source": [
    "# %%writefile 'fepo4_1li.py'\n",
    "#from ase.parallel import paropen\n",
    "#from ase.io import read, write\n",
    "#from ase.dft.bee import BEEFEnsemble\n",
    "#from gpaw import GPAW, FermiDirac, Mixer, PW\n",
    "\n",
    "# Read in the structure you made and wrote to file above\n",
    "fepo4_1li = read('fepo4_1li.traj')   \n",
    "    \n",
    "#...\n",
    "#...\n",
    "\n",
    "# write('fepo4_1li_out.traj', fepo4_1li)\n",
    "\n",
    "# ens = BEEFEnsemble(calc) \n",
    "# with paropen('ensemble_fepo4_1li.dat', 'a') as result:\n",
    "#     for e in dE:\n",
    "#         print(e, file=result)\n",
    "\n",
    "# teacher\n",
    "from ase.parallel import paropen\n",
    "from ase.io import read\n",
    "from ase.dft.bee import BEEFEnsemble\n",
    "from gpaw import GPAW, FermiDirac, Mixer, PW\n",
    "\n",
    "#Read in the structure you made and wrote to file above\n",
    "fepo4_1li=read('fepo4_1li.traj')   \n",
    "    \n",
    "params_GPAW = {}\n",
    "params_GPAW['mode']        = PW(500)                     #The used plane wave energy cutoff\n",
    "params_GPAW['nbands']      = -40                           #The number on empty bands had the system been spin-paired \n",
    "params_GPAW['kpts']        = {'size':  (2,4,5),            #The k-point mesh\n",
    "                              'gamma': True}\n",
    "params_GPAW['spinpol']     = True                          #Performing spin polarized calculations\n",
    "params_GPAW['xc']          = 'BEEF-vdW'                    #The used exchange-correlation functional\n",
    "params_GPAW['occupations'] = FermiDirac(width = 0.1,      #The smearing\n",
    "                                        fixmagmom = True)  #Total magnetic moment fixed to the initial value\n",
    "params_GPAW['convergence'] = {'eigenstates': 1.0e-4,       #eV^2 / electron\n",
    "                              'energy':      2.0e-4,       #eV / electron\n",
    "                              'density':     1.0e-3,}\n",
    "params_GPAW['mixer']       = Mixer(0.1, 5, weight=100.0)   #The mixer used during SCF optimization\n",
    "params_GPAW['setups']      = {'Fe': ':d,4.3'}              #U=4.3 applied to d orbitals\n",
    "\n",
    "calc = GPAW(**params_GPAW)\n",
    "fepo4_1li.set_calculator(calc)\n",
    "epot_fepo4_1li_cell=fepo4_1li.get_potential_energy()\n",
    "print('E_Pot=', epot_fepo4_1li_cell)\n",
    "\n",
    "write('fepo4_1li_out.traj', fepo4_1li)\n",
    "\n",
    "ens = BEEFEnsemble(calc)   \n",
    "dE = ens.get_ensemble_energies(2000)\n",
    "result = paropen('ensemble_fepo4_1li.dat','a')\n",
    "for i in range(0,len(dE)):\n",
    "    print(dE[i], file=result)\n",
    "result.close()"
   ]
  },
  {
   "cell_type": "markdown",
   "metadata": {},
   "source": [
    "Submit this calculation to the HPC cluster as you did on exercise day 3."
   ]
  },
  {
   "cell_type": "code",
   "execution_count": null,
   "metadata": {},
   "outputs": [],
   "source": [
    "!qsub.py -p 8 -t 1 fepo4_1li.py  # submits the calculation to 8 cores, 1 hour "
   ]
  },
  {
   "cell_type": "markdown",
   "metadata": {},
   "source": [
    "Run the below cell to examine the status of your calculation. If no output is returned, the calculation has either finished or failed."
   ]
  },
  {
   "cell_type": "code",
   "execution_count": null,
   "metadata": {},
   "outputs": [],
   "source": [
    "!qstat -u $USER"
   ]
  },
  {
   "cell_type": "markdown",
   "metadata": {},
   "source": [
    "You can run the cells below to open the error log and output of the calculation in a new window. This can be done while the calculation is running."
   ]
  },
  {
   "cell_type": "code",
   "execution_count": null,
   "metadata": {},
   "outputs": [],
   "source": [
    "!gedit \"$(ls -t fepo4_1li.py.e* | head -1)\""
   ]
  },
  {
   "cell_type": "code",
   "execution_count": null,
   "metadata": {},
   "outputs": [],
   "source": [
    "!gedit \"$(ls -t fepo4_1li.py.o* | head -1)\""
   ]
  },
  {
   "cell_type": "markdown",
   "metadata": {},
   "source": [
    "You can move on while you wait for the calculation to finish. Once the calculation is finished load in the structure by running the cell below."
   ]
  },
  {
   "cell_type": "code",
   "execution_count": null,
   "metadata": {},
   "outputs": [],
   "source": [
    "try:\n",
    "    fepo4_1li=read('fepo4_1li_out.traj')\n",
    "    print('Calculation finished')\n",
    "except FileNotFoundError:\n",
    "    print('Calculation has not yet finished')"
   ]
  },
  {
   "cell_type": "markdown",
   "metadata": {},
   "source": [
    "You are now ready to calculate the energy gained by intercalating a single Li ion into the cathode. Start by loading in the relevant reference structures and obtain the potential energies. This should not require any DFT calculations. "
   ]
  },
  {
   "cell_type": "code",
   "execution_count": null,
   "metadata": {},
   "outputs": [],
   "source": [
    "# Loading in files from exercise day 3.\n",
    "li_metal = read('li_metal.traj')\n",
    "fepo4 = read('fepo4_out.traj')\n",
    "\n",
    "epot_li_metal = li_metal.get_potential_energy() / len(li_metal)"
   ]
  },
  {
   "cell_type": "code",
   "execution_count": null,
   "metadata": {},
   "outputs": [],
   "source": [
    "# epot_fepo4 = ...\n",
    "# ...\n",
    "\n",
    "# teacher\n",
    "epot_fepo4=fepo4.get_potential_energy()\n",
    "epot_fepo4_1li=fepo4_1li.get_potential_energy()"
   ]
  },
  {
   "cell_type": "markdown",
   "metadata": {},
   "source": [
    "Calculate the energy of intercalting a single Li in the FePO$_4$ cell. How does this energy compare with the equilibirum potential? What can it tell you about the charge/discharge potential curves?"
   ]
  },
  {
   "cell_type": "code",
   "execution_count": null,
   "metadata": {},
   "outputs": [],
   "source": [
    "# ...\n",
    "# print(...)\n",
    "\n",
    "# teacher\n",
    "li_cost=epot_fepo4_1li-epot_fepo4-epot_li_metal\n",
    "print(li_cost)"
   ]
  },
  {
   "cell_type": "markdown",
   "metadata": {},
   "source": [
    "## Bonus: LiFePO$_4$ with one vacancy"
   ]
  },
  {
   "cell_type": "markdown",
   "metadata": {},
   "source": [
    "If time permits, you will now do a similar calculation but this time with LiFePO$_4$ contraining one vacancy. Once again you should assume that the cell dimension remain unchanged compaired to LiFePO$_4$. \n",
    "\n",
    "There are numerous ways to obtain this structure. You can get inspiration from the way LiFePO$_4$ was made on Exercise day 3, use the [`del` or `pop()` methods](https://wiki.fysik.dtu.dk/ase/ase/atoms.html?highlight=pop#list-methods), or even use the GUI to delete an atom and save the structure afterwards."
   ]
  },
  {
   "cell_type": "code",
   "execution_count": null,
   "metadata": {},
   "outputs": [],
   "source": [
    "# In this cell you create the vacancy in LiFePO4\n",
    "\n",
    "# lifepo4_vac = ...\n",
    "\n",
    "# ...\n",
    "\n",
    "# teacher\n",
    "lifepo4_wo_li=read('lifepo4_wo_li.traj') \n",
    "from numpy import identity\n",
    "cell=lifepo4_wo_li.get_cell()\n",
    "xyzcell = identity(3) \n",
    "lifepo4_wo_li.set_cell(xyzcell, scale_atoms=True)  # Set the unit cell and rescale\n",
    "#lifepo4_wo_li.append(Atom('Li', (0, 0, 0)))\n",
    "lifepo4_wo_li.append(Atom('Li', (0, 0.5, 0)))\n",
    "lifepo4_wo_li.append(Atom('Li', (0.5, 0.5, 0.5)))\n",
    "lifepo4_wo_li.append(Atom('Li', (0.5, 0, 0.5)))\n",
    "lifepo4_wo_li.set_cell(cell, scale_atoms=True) \n",
    "lifepo4_vac=lifepo4_wo_li.copy()"
   ]
  },
  {
   "cell_type": "markdown",
   "metadata": {},
   "source": [
    "Visualize the structure"
   ]
  },
  {
   "cell_type": "code",
   "execution_count": null,
   "metadata": {},
   "outputs": [],
   "source": [
    "view(lifepo4_vac)"
   ]
  },
  {
   "cell_type": "markdown",
   "metadata": {},
   "source": [
    "Now ensure that the total magnetic moment is equal to 17."
   ]
  },
  {
   "cell_type": "code",
   "execution_count": null,
   "metadata": {},
   "outputs": [],
   "source": [
    "for atom in fepo4_1li:\n",
    "    if atom.symbol == 'Fe':\n",
    "        atom.magmom = 4.25  \n",
    "\n",
    "print(sum(fepo4_1li.get_initial_magnetic_moments()))"
   ]
  },
  {
   "cell_type": "markdown",
   "metadata": {},
   "source": [
    "Write your atoms object to file giving it the name `lifepo4_vac.traj`."
   ]
  },
  {
   "cell_type": "code",
   "execution_count": null,
   "metadata": {},
   "outputs": [],
   "source": [
    "# ...\n",
    "\n",
    "# teacher\n",
    "write('lifepo4_vac.traj', lifepo4_vac)"
   ]
  },
  {
   "cell_type": "markdown",
   "metadata": {},
   "source": [
    "Make a full script in the cell below similar to that you made above. Make sure the cell runs before interupting the notebook kernel."
   ]
  },
  {
   "cell_type": "code",
   "execution_count": null,
   "metadata": {},
   "outputs": [],
   "source": [
    "# %%writefile 'lifepo4_vac.py'\n",
    "# from ase.parallel import paropen\n",
    "# from ase.io import read, write\n",
    "# from ase.dft.bee import BEEFEnsemble\n",
    "# from gpaw import GPAW, FermiDirac, Mixer, PW\n",
    "\n",
    "# Read in the structure you made and wrote to file above\n",
    "# lifepo4_vac = read('lifepo4_vac.traj')   \n",
    "\n",
    "\n",
    "# ...\n",
    "\n",
    "# write('lifepo4_vac_out.traj', lifepo4_vac)\n",
    "\n",
    "# ens = BEEFEnsemble(calc) \n",
    "# dE = ens.get_ensemble_energies(2000)\n",
    "# with paropen('ensemble_lifepo4_vac.dat','a') as results:\n",
    "#     for e in dE:\n",
    "#         print(e, file=result)\n",
    "\n",
    "# teacher\n",
    "from ase.parallel import paropen\n",
    "from ase.io import read, write\n",
    "from ase.dft.bee import BEEFEnsemble\n",
    "from gpaw import GPAW, FermiDirac, Mixer, PW\n",
    "\n",
    "# Read in the structure you made and wrote to file above\n",
    "lifepo4_vac=read('lifepo4_vac.traj')   \n",
    "\n",
    "params_GPAW = {}\n",
    "params_GPAW['mode']        = PW(500)                     #The used plane wave energy cutoff\n",
    "params_GPAW['nbands']      = -40                           #The number on empty bands had the system been spin-paired \n",
    "params_GPAW['kpts']        = {'size':  (2,4,5),            #The k-point mesh\n",
    "                              'gamma': True}\n",
    "params_GPAW['spinpol']     = True                          #Performing spin polarized calculations\n",
    "params_GPAW['xc']          = 'BEEF-vdW'                    #The used exchange-correlation functional\n",
    "params_GPAW['occupations'] = FermiDirac(width = 0.1,      #The smearing\n",
    "                                        fixmagmom = True)  #Total magnetic moment fixed to the initial value\n",
    "params_GPAW['convergence'] = {'eigenstates': 1.0e-4,       #eV^2 / electron\n",
    "                              'energy':      2.0e-4,       #eV / electron\n",
    "                              'density':     1.0e-3,}\n",
    "params_GPAW['mixer']       = Mixer(0.1, 5, weight=100.0)   #The mixer used during SCF optimization\n",
    "params_GPAW['setups']      = {'Fe': ':d,4.3'}              #U=4.3 applied to d orbitals\n",
    "\n",
    "calc = GPAW(**params_GPAW)\n",
    "lifepo4_vac.set_calculator(calc)\n",
    "epot_lifepo4_vac_cell=lifepo4_vac.get_potential_energy()\n",
    "print('E_Pot=', epot_lifepo4_vac_cell)\n",
    "\n",
    "write('lifepo4_vac_out.traj', lifepo4_vac)\n",
    "\n",
    "ens = BEEFEnsemble(calc)   \n",
    "dE = ens.get_ensemble_energies(2000)\n",
    "result = paropen('ensemble_lifepo4_vac.dat','a')\n",
    "for i in range(0,len(dE)):\n",
    "    print(dE[i], file=result)\n",
    "result.close()"
   ]
  },
  {
   "cell_type": "markdown",
   "metadata": {},
   "source": [
    "Once you have made sure the cell runs, submit it to the HPC cluster."
   ]
  },
  {
   "cell_type": "code",
   "execution_count": null,
   "metadata": {
    "scrolled": true
   },
   "outputs": [],
   "source": [
    "!qsub.py -p 8 -t 1 lifepo4_vac.py  # submits the calculation to 8 cores, 1 hour "
   ]
  },
  {
   "cell_type": "markdown",
   "metadata": {},
   "source": [
    "Once the calculation has finished, load in the trajectory."
   ]
  },
  {
   "cell_type": "code",
   "execution_count": null,
   "metadata": {},
   "outputs": [],
   "source": [
    "try:\n",
    "    lifepo4_vac=read('lifepo4_vac_out.traj')\n",
    "    print('Calculation finished')\n",
    "except FileNotFoundError:\n",
    "    print('Calculation has not yet finished')"
   ]
  },
  {
   "cell_type": "markdown",
   "metadata": {},
   "source": [
    "Once the calculation has finished you are ready to calculate the energy cost of creating a li vacancy in the fully lithiated LiFePO$_4$. Start by loading in the relevant reference structures and obtain the potential energies. This should not require any calculations. "
   ]
  },
  {
   "cell_type": "code",
   "execution_count": null,
   "metadata": {},
   "outputs": [],
   "source": [
    "# Loading in files from exercise day 3.\n",
    "li_metal = read('li_metal.traj')   # you should have already read this in above\n",
    "lifepo4 = read('lifepo4_out.traj')\n",
    "\n",
    "epot_li_metal = li_metal.get_potential_energy() / len(li_metal)"
   ]
  },
  {
   "cell_type": "code",
   "execution_count": null,
   "metadata": {},
   "outputs": [],
   "source": [
    "# epot_lifepo4 = ...\n",
    "# ...\n",
    "\n",
    "# teacher\n",
    "epot_lifepo4=lifepo4.get_potential_energy()\n",
    "epot_lifepo4_vac=lifepo4_vac.get_potential_energy()"
   ]
  },
  {
   "cell_type": "code",
   "execution_count": null,
   "metadata": {},
   "outputs": [],
   "source": [
    "# vac_cost = ...\n",
    "# print(vac_cost)\n",
    "\n",
    "# teacher\n",
    "vac_cost=epot_lifepo4_vac-epot_lifepo4+epot_li_metal\n",
    "print(vac_cost)"
   ]
  },
  {
   "cell_type": "markdown",
   "metadata": {},
   "source": [
    "How does this energy compare with the equilibirum potential? What can it tell you about the charge/discharge potential curves?"
   ]
  },
  {
   "cell_type": "markdown",
   "metadata": {},
   "source": [
    "## Bonus\n",
    "Calculate the error estimates of the energy for the added Li atom and vacancy formation using the ensembles. "
   ]
  },
  {
   "cell_type": "code",
   "execution_count": null,
   "metadata": {},
   "outputs": [],
   "source": [
    "# Cell for bonus question"
   ]
  },
  {
   "cell_type": "code",
   "execution_count": null,
   "metadata": {},
   "outputs": [],
   "source": [
    "# Cell for bonus question"
   ]
  },
  {
   "cell_type": "code",
   "execution_count": null,
   "metadata": {},
   "outputs": [],
   "source": [
    "# Cell for bonus question"
   ]
  }
 ],
 "metadata": {
  "kernelspec": {
   "display_name": "Python 3",
   "language": "python",
   "name": "python3"
  },
  "language_info": {
   "codemirror_mode": {
    "name": "ipython",
    "version": 3
   },
   "file_extension": ".py",
   "mimetype": "text/x-python",
   "name": "python",
   "nbconvert_exporter": "python",
   "pygments_lexer": "ipython3",
   "version": "3.6.5"
  }
 },
 "nbformat": 4,
 "nbformat_minor": 2
}
