{
 "cells": [
  {
   "cell_type": "markdown",
   "metadata": {
    "ein.tags": "worksheet-0",
    "slideshow": {
     "slide_type": "-"
    }
   },
   "source": [
    "# Battery project"
   ]
  },
  {
   "cell_type": "markdown",
   "metadata": {
    "ein.tags": "worksheet-0",
    "slideshow": {
     "slide_type": "-"
    }
   },
   "source": [
    "## Day 2 - Li intercalation energy"
   ]
  },
  {
   "cell_type": "markdown",
   "metadata": {
    "ein.tags": "worksheet-0",
    "slideshow": {
     "slide_type": "-"
    }
   },
   "source": [
    "Today we will calculate the energy cost/gain associated with intercalating a lithium atom into graphite using approaches at different levels of theory. After today you should be able to:\n",
    "\n",
    "- Setup structures and do relaxations using ASE and GPAW.\n",
    "- Discuss which level of theory is required to predict the Li intercalation energy and why?\n",
    "\n",
    "The Li intercalation reaction is:\n",
    "$$Li(s) + C_x^{graphite} \\rightarrow LiC_x$$\n",
    "and the intercalation energy will then be\n",
    "$$E_{Li@graphite} = E_{LiC_x} - (E_{Li(s)} + E_{C_x^{graphite}})$$\n",
    "Where $x$ is the number of Carbon atoms in your computational cell.\n",
    "\n",
    "We will calculate these energies using Density Functional Theory (DFT) with different exchange-correlation functionals. Graphite is characterised by graphene layers with strongly bound carbon atoms in hexagonal rings and weak long-range van der Waals interactions between the layers.\n",
    "\n",
    "In the sections below we will calculate the lowest energy structures of each compound. This is needed to determine the intercalation energy.\n",
    "\n",
    "- [Graphite](#graphite)\n",
    "- [Li metal](#limetal)\n",
    "- [Li intercalation](#liintercalation)\n",
    "\n"
   ]
  },
  {
   "cell_type": "markdown",
   "metadata": {
    "ein.tags": "worksheet-0",
    "slideshow": {
     "slide_type": "-"
    }
   },
   "source": [
    "<a id='graphite'></a>\n",
    "## Graphite"
   ]
  },
  {
   "cell_type": "markdown",
   "metadata": {
    "ein.tags": "worksheet-0",
    "slideshow": {
     "slide_type": "-"
    }
   },
   "source": [
    "![graphite](C64.png)"
   ]
  },
  {
   "cell_type": "markdown",
   "metadata": {
    "autoscroll": false,
    "ein.hycell": false,
    "ein.tags": "worksheet-0",
    "slideshow": {
     "slide_type": "-"
    }
   },
   "source": [
    "To try some of the methods that we are going to use we will start out by utilizing the interatomic potential [EMT](https://wiki.fysik.dtu.dk/ase/ase/calculators/emt.html) (Effective Medium Theory) calculator. This will allow to quickly test some of the optimization procedures in ASE, and ensure that the scripts do what they are supposed to, before we move on to the more precise and time consuming DFT calculations. Initially we will calculate the C-C distance and interlayer spacing in graphite in a two step procedure."
   ]
  },
  {
   "cell_type": "code",
   "execution_count": null,
   "metadata": {
    "autoscroll": false,
    "ein.hycell": false,
    "ein.tags": "worksheet-0",
    "slideshow": {
     "slide_type": "-"
    }
   },
   "outputs": [],
   "source": [
    "# The graphite structure is set up using a tool in ASE\n",
    "from ase.lattice.hexagonal import Graphite\n",
    "\n",
    "# One has only to provide the lattice constants\n",
    "structure = Graphite('C', latticeconstant={'a': 1.5, 'c': 4.0})"
   ]
  },
  {
   "cell_type": "markdown",
   "metadata": {
    "ein.tags": "worksheet-0",
    "slideshow": {
     "slide_type": "-"
    }
   },
   "source": [
    "To verify that the structures is as expected we can check it visually."
   ]
  },
  {
   "cell_type": "code",
   "execution_count": null,
   "metadata": {
    "autoscroll": false,
    "ein.hycell": false,
    "ein.tags": "worksheet-0",
    "slideshow": {
     "slide_type": "-"
    }
   },
   "outputs": [],
   "source": [
    "from ase.visualize import view\n",
    "\n",
    "view(structure)  # This will pop up the ase gui window"
   ]
  },
  {
   "cell_type": "markdown",
   "metadata": {
    "ein.tags": "worksheet-0",
    "slideshow": {
     "slide_type": "-"
    }
   },
   "source": [
    "Next we will use the EMT calculator to get the energy of graphite. Remember absolute energies are not meaningful, we will only use energy differences."
   ]
  },
  {
   "cell_type": "code",
   "execution_count": null,
   "metadata": {
    "autoscroll": false,
    "ein.hycell": false,
    "ein.tags": "worksheet-0",
    "slideshow": {
     "slide_type": "-"
    }
   },
   "outputs": [],
   "source": [
    "from ase.calculators.emt import EMT\n",
    "\n",
    "calc = EMT()\n",
    "structure.set_calculator(calc)\n",
    "energy = structure.get_potential_energy()\n",
    "print('Energy of graphite: {0:.2f} eV'.format(energy))\n"
   ]
  },
  {
   "cell_type": "markdown",
   "metadata": {
    "ein.tags": "worksheet-0",
    "slideshow": {
     "slide_type": "-"
    }
   },
   "source": [
    "The cell below requires some input. We set up a loop that should calculate the energy of graphite for a series of C-C distances."
   ]
  },
  {
   "cell_type": "code",
   "execution_count": null,
   "metadata": {
    "autoscroll": false,
    "ein.hycell": false,
    "ein.tags": "worksheet-0",
    "slideshow": {
     "slide_type": "-"
    }
   },
   "outputs": [],
   "source": [
    "import numpy as np\n",
    "\n",
    "# Provide some initial guesses on the distances\n",
    "ccdist = 1.3\n",
    "layerdist = 3.7\n",
    "\n",
    "# We will explore distances around the initial guess\n",
    "dists = np.linspace(ccdist * .8, ccdist * 1.2, 10)\n",
    "# The resulting energies are put in the following list\n",
    "energies = []\n",
    "for cc in dists:\n",
    "    # Calculate the lattice parameters a and c from the C-C distance\n",
    "    # and interlayer distance, respectively\n",
    "    a = cc * np.sqrt(3)\n",
    "    c = 2 * layerdist\n",
    "\n",
    "    gra = Graphite('C', latticeconstant={'a': a, 'c': c})\n",
    "\n",
    "    # Set the calculator and attach it to the Atoms object with\n",
    "    # the graphite structure\n",
    "    calc = EMT()\n",
    "    gra.set_calculator(calc)\n",
    "\n",
    "    energy = gra.get_potential_energy()\n",
    "    # Append results to the list\n",
    "    energies.append(energy)\n",
    "    "
   ]
  },
  {
   "cell_type": "markdown",
   "metadata": {
    "ein.tags": "worksheet-0",
    "slideshow": {
     "slide_type": "-"
    }
   },
   "source": [
    "Determine the equilibrium lattice constant. We use a [np.polynomial.Polynomial](https://www.numpy.org/devdocs/reference/generated/numpy.polynomial.polynomial.Polynomial.html#numpy.polynomial.polynomial.Polynomial)"
   ]
  },
  {
   "cell_type": "code",
   "execution_count": null,
   "metadata": {},
   "outputs": [],
   "source": [
    "# Fit a polynomial:\n",
    "poly = np.polynomial.Polynomial.fit(dists, energies, 3)\n",
    "# and plot it:\n",
    "%matplotlib notebook\n",
    "import matplotlib.pyplot as plt\n",
    "fig, ax = plt.subplots(1, 1)\n",
    "ax.plot(dists, energies, '*r')\n",
    "x = np.linspace(1, 2, 100)\n",
    "ax.plot(x, poly(x))\n",
    "ax.set_xlabel('C-C distance [Ang]')\n",
    "ax.set_ylabel('energy [eV]')"
   ]
  },
  {
   "cell_type": "code",
   "execution_count": null,
   "metadata": {},
   "outputs": [],
   "source": [
    "poly1 = poly.deriv()\n",
    "poly1.roots()  # two extrema"
   ]
  },
  {
   "cell_type": "code",
   "execution_count": null,
   "metadata": {},
   "outputs": [],
   "source": [
    "# Find the minimum:\n",
    "emin, ccdist = min((poly(d), d) for d in poly1.roots())\n",
    "ccdist"
   ]
  },
  {
   "cell_type": "code",
   "execution_count": null,
   "metadata": {},
   "outputs": [],
   "source": [
    "# alternatively:\n",
    "poly2 = poly1.deriv()\n",
    "for ccdist in poly1.roots():\n",
    "    if poly2(ccdist) > 0:\n",
    "        break\n",
    "ccdist"
   ]
  },
  {
   "cell_type": "markdown",
   "metadata": {
    "ein.tags": "worksheet-0",
    "slideshow": {
     "slide_type": "-"
    }
   },
   "source": [
    "Make a script that calculates the interlayer distance with EMT in the cell below"
   ]
  },
  {
   "cell_type": "code",
   "execution_count": null,
   "metadata": {
    "autoscroll": false,
    "ein.hycell": false,
    "ein.tags": "worksheet-0",
    "slideshow": {
     "slide_type": "-"
    }
   },
   "outputs": [],
   "source": [
    "# This script will calculate the energy of graphite for a series of inter-layer distances.\n",
    "from ase.calculators.emt import EMT\n",
    "from ase.lattice.hexagonal import Graphite\n",
    "from ase.eos import EquationOfState\n",
    "import numpy as np\n",
    "\n",
    "# ccdist is already defined in the previous cell\n",
    "# Start from a small guess\n",
    "layerdist = 2.0\n",
    "\n",
    "# Teacher\n",
    "dists = np.linspace(layerdist * .8, layerdist * 1.2, 10)\n",
    "# The resulting energies are put in the following list\n",
    "energies = []\n",
    "for ld in dists:\n",
    "    # Calculate the lattice parameters a and c from the C-C distance\n",
    "    # and interlayer distance, respectively\n",
    "    a = ccdist * np.sqrt(3)\n",
    "    c = 2 * ld\n",
    "\n",
    "    gra = Graphite('C', latticeconstant={'a': a, 'c': c})\n",
    "\n",
    "    # Set the calculator and attach it to the Atoms object with\n",
    "    # the graphite structure\n",
    "    calc = EMT()\n",
    "    gra.set_calculator(calc)\n",
    "\n",
    "    energy = gra.get_potential_energy()\n",
    "    # Append results to the list\n",
    "    energies.append(energy)\n",
    "    \n",
    "poly = np.polynomial.Polynomial.fit(dists, energies, 3)\n",
    "layerdist = next (d for d in poly.deriv().roots() if poly.deriv(2)(d) > 0)\n",
    "print(layerdist)\n"
   ]
  },
  {
   "cell_type": "markdown",
   "metadata": {
    "ein.tags": "worksheet-0",
    "slideshow": {
     "slide_type": "-"
    }
   },
   "source": [
    "Now both the optimal C-C distance and the interlayer distance is evaluated with EMT. Try to compare with the experimental numbers provided below.\n",
    "\n",
    "|                                         | Experimental values | EMT | LDA | PBE | BEEF-vdW |\n",
    "|-----------------------------------------|---------------------|-----|-----|-----|----------|\n",
    "| C-C  distance / $\\unicode{x212B}$       |               1.420 |     |     |     |          |\n",
    "| Interlayer distance / $\\unicode{x212B}$ |                3.35 |     |     |     |          |\n"
   ]
  },
  {
   "cell_type": "markdown",
   "metadata": {
    "ein.tags": "worksheet-0",
    "slideshow": {
     "slide_type": "-"
    }
   },
   "source": [
    "Not surprisingly we need to use more sophisticated theory to model this issue. Below we will use DFT as implemented in GPAW to determine the same parameters."
   ]
  },
  {
   "cell_type": "markdown",
   "metadata": {
    "ein.tags": "worksheet-0",
    "slideshow": {
     "slide_type": "-"
    }
   },
   "source": [
    "First we set up an initial guess of the structure as before."
   ]
  },
  {
   "cell_type": "code",
   "execution_count": null,
   "metadata": {
    "autoscroll": false,
    "ein.hycell": false,
    "ein.tags": "worksheet-0",
    "slideshow": {
     "slide_type": "-"
    }
   },
   "outputs": [],
   "source": [
    "import numpy as np\n",
    "from ase.lattice.hexagonal import Graphite\n",
    "\n",
    "ccdist = 1.40\n",
    "layerdist = 3.33\n",
    "a = ccdist * np.sqrt(3)\n",
    "c = 2 * layerdist\n",
    "gra = Graphite('C', latticeconstant={'a': a, 'c': c})\n"
   ]
  },
  {
   "cell_type": "markdown",
   "metadata": {
    "ein.tags": "worksheet-0",
    "slideshow": {
     "slide_type": "-"
    }
   },
   "source": [
    "Then we create the GPAW calculator object. The parameters are explained [here](https://wiki.fysik.dtu.dk/gpaw/documentation/manual.html#parameters), see especially the section regarding [mode](https://wiki.fysik.dtu.dk/gpaw/documentation/manual.html#manual-mode). This graphite structure has a small unit cell, thus plane wave mode, `mode=PW()`, will be faster than the grid mode, `mode='fd'`. Plane wave mode also lets us calculate the strain on the unit cell - useful for optimizing the lattice parameters.\n",
    "\n",
    "We will start by using the LDA exchange-correlation functional. Later you will try other functionals."
   ]
  },
  {
   "cell_type": "code",
   "execution_count": null,
   "metadata": {
    "autoscroll": false,
    "ein.hycell": false,
    "ein.tags": "worksheet-0",
    "slideshow": {
     "slide_type": "-"
    }
   },
   "outputs": [],
   "source": [
    "from gpaw import GPAW, PW\n",
    "\n",
    "xc = 'LDA'\n",
    "calcname = 'graphite-{}'.format(xc)\n",
    "calc = GPAW(mode=PW(500), kpts=(10, 10, 6), xc=xc,\n",
    "            txt=calcname + '.log')\n",
    "\n",
    "gra.set_calculator(calc)  # Connect system and calculator\n",
    "print(gra.get_potential_energy())\n"
   ]
  },
  {
   "cell_type": "markdown",
   "metadata": {
    "ein.tags": "worksheet-0",
    "slideshow": {
     "slide_type": "-"
    }
   },
   "source": [
    "Check out the contents of the output file, all relevant information about the scf cycle are printed therein:"
   ]
  },
  {
   "cell_type": "code",
   "execution_count": null,
   "metadata": {
    "autoscroll": false,
    "ein.hycell": false,
    "ein.tags": "worksheet-0",
    "slideshow": {
     "slide_type": "-"
    }
   },
   "outputs": [],
   "source": [
    "n = calcname + '.log'\n",
    "!cat $n"
   ]
  },
  {
   "cell_type": "markdown",
   "metadata": {
    "ein.tags": "worksheet-0",
    "slideshow": {
     "slide_type": "-"
    }
   },
   "source": [
    "Then we optimize the unit cell of the structure. We will take advantage of the [StrainFilter](https://wiki.fysik.dtu.dk/ase/ase/constraints.html#the-strainfilter-class) class. This allows us to simultaneously optimize both C-C distance and interlayer distance. We employ the [BFGS](http://aria42.com/blog/2014/12/understanding-lbfgs) algorithm to minimize the strain on the unit cell."
   ]
  },
  {
   "cell_type": "code",
   "execution_count": null,
   "metadata": {
    "autoscroll": false,
    "ein.hycell": false,
    "ein.tags": "worksheet-0",
    "slideshow": {
     "slide_type": "-"
    }
   },
   "outputs": [],
   "source": [
    "from ase.constraints import StrainFilter\n",
    "from ase.optimize.bfgs import BFGS\n",
    "from ase.io import Trajectory\n",
    "\n",
    "sf = StrainFilter(gra, mask=[1, 1, 1, 0, 0, 0])\n",
    "opt = BFGS(sf)\n",
    "traj = Trajectory(calcname + '.traj', 'w', gra)\n",
    "opt.attach(traj)\n",
    "opt.run(fmax=0.01)\n"
   ]
  },
  {
   "cell_type": "markdown",
   "metadata": {
    "ein.tags": "worksheet-0",
    "slideshow": {
     "slide_type": "-"
    }
   },
   "source": [
    "Read in the result of the relaxation and determine the C-C and interlayer distances."
   ]
  },
  {
   "cell_type": "code",
   "execution_count": null,
   "metadata": {
    "autoscroll": false,
    "ein.hycell": false,
    "ein.tags": "worksheet-0",
    "slideshow": {
     "slide_type": "-"
    }
   },
   "outputs": [],
   "source": [
    "from ase.io import read\n",
    "import numpy as np\n",
    "\n",
    "atoms = read(calcname + '.traj')\n",
    "a = atoms.cell[0, 0]\n",
    "h = atoms.cell[2, 2]\n",
    "# Determine the rest from here\n",
    "print(a / np.sqrt(3))\n",
    "print(h / 2)"
   ]
  },
  {
   "cell_type": "markdown",
   "metadata": {
    "ein.tags": "worksheet-0",
    "slideshow": {
     "slide_type": "-"
    }
   },
   "source": [
    "Now we need to try a GGA type functional (e.g. PBE) and a functional taking into account van der Waals forces (e.g. BEEF-vdW). These functionals will require more computational time, thus the following might be beneficial to read."
   ]
  },
  {
   "cell_type": "markdown",
   "metadata": {
    "ein.tags": "worksheet-0",
    "slideshow": {
     "slide_type": "-"
    }
   },
   "source": [
    "If the relaxation takes too long time, we can submit it to be run in parallel on the computer cluster. Remember we can then run different calculations simultaneously. There are two ways to achieve this:\n",
    "    \n",
    "A. Log in to the gbar terminal, save a full script in a file (e.g. `calc.py`) and submit that file to be calculated in parallel (e.g. `qsub.py -p 8 -t 5 calc.py` (5 hours on 8 cores)).\n",
    "\n",
    "or\n",
    "\n",
    "B. Stay in the notebook and submit the calculations using some commands we will give you, these are explained in the following cells."
   ]
  },
  {
   "cell_type": "markdown",
   "metadata": {
    "ein.tags": "worksheet-0",
    "slideshow": {
     "slide_type": "-"
    }
   },
   "source": [
    "You need to make a full working script in a cell that does not depend on variables defined in any other cells. Do that in the cell below. Once you are done, run it for a few seconds to make sure there is no error, then stop it by `interrupt the kernel`. This will give you an error message, ignore that and move on, we will submit the calculation in the next cell."
   ]
  },
  {
   "cell_type": "code",
   "execution_count": null,
   "metadata": {
    "autoscroll": false,
    "ein.hycell": false,
    "ein.tags": "worksheet-0",
    "slideshow": {
     "slide_type": "-"
    }
   },
   "outputs": [],
   "source": [
    "# %%writefile graphite_LDA.py\n",
    "\n",
    "# Full script\n",
    "# from ase...\n",
    "\n",
    "# Teacher\n",
    "import numpy as np\n",
    "from ase.lattice.hexagonal import Graphite\n",
    "\n",
    "ccdist = 1.41\n",
    "layerdist = 3.21\n",
    "a = ccdist * np.sqrt(3)\n",
    "c = 2 * layerdist\n",
    "gra = Graphite('C', latticeconstant={'a': a, 'c': c})\n",
    "\n",
    "from gpaw import GPAW, PW\n",
    "\n",
    "xc = 'LDA'\n",
    "calc = GPAW(mode=PW(500), kpts=(10, 10, 6), xc=xc,\n",
    "            txt='graphite-{}.log'.format(xc))\n",
    "\n",
    "gra.set_calculator(calc)  # Connect system and calculator\n",
    "from ase.constraints import StrainFilter\n",
    "from ase.optimize.bfgs import BFGS\n",
    "from ase.io import Trajectory\n",
    "\n",
    "sf = StrainFilter(gra, mask=[1, 1, 1, 0, 0, 0])\n",
    "opt = BFGS(sf)\n",
    "traj = Trajectory('graphite-{}.traj'.format(xc), 'w', gra)\n",
    "opt.attach(traj)\n",
    "opt.run(fmax=0.01)\n"
   ]
  },
  {
   "cell_type": "markdown",
   "metadata": {
    "ein.tags": "worksheet-0",
    "slideshow": {
     "slide_type": "-"
    }
   },
   "source": [
    "The following cell submits a calculation.\n",
    "\n",
    "Note the line `#%%writefile graphite_LDA.py` in the previous cell.  Remove the `#` symbol and execute the cell again.  This will write the cell to a file that you can use submit to the queue:"
   ]
  },
  {
   "cell_type": "code",
   "execution_count": null,
   "metadata": {
    "autoscroll": false,
    "ein.hycell": false,
    "ein.tags": "worksheet-0",
    "slideshow": {
     "slide_type": "-"
    }
   },
   "outputs": [],
   "source": [
    "!qsub.py -p 8 -t 1 graphite_LDA.py # submits the calculation to 8 cores, 1 hour \n"
   ]
  },
  {
   "cell_type": "markdown",
   "metadata": {
    "ein.tags": "worksheet-0",
    "slideshow": {
     "slide_type": "-"
    }
   },
   "source": [
    "Check the status of the calculation by running the cell below. The column with `S` heading gives you a character code of the status: `Q`: still in queue, `R`: running, `C`: finished."
   ]
  },
  {
   "cell_type": "code",
   "execution_count": null,
   "metadata": {
    "autoscroll": false,
    "ein.hycell": false,
    "ein.tags": "worksheet-0",
    "slideshow": {
     "slide_type": "-"
    }
   },
   "outputs": [],
   "source": [
    "!qstat -u $USER\n"
   ]
  },
  {
   "cell_type": "markdown",
   "metadata": {
    "ein.tags": "worksheet-0",
    "slideshow": {
     "slide_type": "-"
    }
   },
   "source": [
    "When the calculation finishes the result can be interpreted by [reading](https://wiki.fysik.dtu.dk/ase/ase/io/io.html#ase.io.read) in the Atoms object. This assumes that the trajectory file is called: `graphite-LDA.traj`, if not change accordingly."
   ]
  },
  {
   "cell_type": "code",
   "execution_count": null,
   "metadata": {
    "autoscroll": false,
    "ein.hycell": false,
    "ein.tags": "worksheet-0",
    "slideshow": {
     "slide_type": "-"
    }
   },
   "outputs": [],
   "source": [
    "from ase.io import read\n",
    "\n",
    "# The full relaxation\n",
    "relaxation = read('graphite-LDA.traj', index=':')\n",
    "# The final image of the relaxation containing the relevant energy\n",
    "atoms = read('graphite-LDA.traj')"
   ]
  },
  {
   "cell_type": "code",
   "execution_count": null,
   "metadata": {
    "autoscroll": false,
    "ein.hycell": false,
    "ein.tags": "worksheet-0",
    "slideshow": {
     "slide_type": "-"
    }
   },
   "outputs": [],
   "source": [
    "# Extract the relevant information from the calculation\n",
    "\n",
    "# Energy\n",
    "print(atoms.get_potential_energy())\n",
    "\n",
    "# Unit cell\n",
    "print(atoms.get_cell())\n",
    "\n",
    "# See the steps of the optimization\n",
    "from ase.visualize import view\n",
    "view(relaxation)"
   ]
  },
  {
   "cell_type": "markdown",
   "metadata": {
    "ein.tags": "worksheet-0",
    "slideshow": {
     "slide_type": "-"
    }
   },
   "source": [
    "<a id='limetal'></a>\n",
    "## Li metal"
   ]
  },
  {
   "cell_type": "markdown",
   "metadata": {
    "ein.tags": "worksheet-0",
    "slideshow": {
     "slide_type": "-"
    }
   },
   "source": [
    "![Li metal](Li2.png)\n",
    "\n",
    "Now we need to calculate the energy of Li metal. We will use the same strategy as for graphite, i.e. first determine the lattice constant, then use the energy of that structure. This time though you will have to do most of the work.\n",
    "\n",
    "Some hints:\n",
    "1. The crystal structure of Li metal is shown in the image above. That structure is easily created with one of the functions in the [ase.build](https://wiki.fysik.dtu.dk/ase/ase/build/build.html) module\n",
    "2. A k-point density of approximately 2.4 points / Angstrom will be sufficient\n",
    "3. See also the [equation of state module](https://wiki.fysik.dtu.dk/ase/ase/eos.html)\n",
    "\n",
    "In the end try to compare the different functionals with experimental values:\n",
    "\n",
    "|                       | Experimental values | LDA | PBE | BEEF-vdW |\n",
    "|-----------------------|---------------------|-----|-----|----------|\n",
    "| a / $\\unicode{x212B}$ |                3.51 |     |     |          |\n",
    "\n"
   ]
  },
  {
   "cell_type": "code",
   "execution_count": null,
   "metadata": {
    "autoscroll": false,
    "ein.hycell": false,
    "ein.tags": "worksheet-0",
    "slideshow": {
     "slide_type": "-"
    }
   },
   "outputs": [],
   "source": [
    "# Teacher\n",
    "\n",
    "from ase import Atoms\n",
    "from gpaw import GPAW, FermiDirac, PW\n",
    "from ase.optimize import QuasiNewton\n",
    "from ase.build import bulk\n",
    "from ase.constraints import StrainFilter\n",
    "from ase.optimize.bfgs import BFGS\n",
    "\n",
    "# This script will optimize lattice constant of metallic lithium\n",
    "xc = 'BEEF-vdW'  # xc-functional. Change to 'PBE' or 'BEEF-vdW' to run with other functionals\n",
    "Li_metal = bulk('Li', crystalstructure='bcc', a=3.3)\n",
    "\n",
    "calc = GPAW(mode=PW(500),\n",
    "            kpts=(8, 8, 8),\n",
    "            nbands=-10,\n",
    "            txt='Li-metal-{}.log'.format(xc),\n",
    "            xc=xc)\n",
    "\n",
    "Li_metal.set_calculator(calc)\n",
    "\n",
    "sf = StrainFilter(Li_metal, mask=[1, 1, 1, 0, 0, 0])\n",
    "opt = BFGS(sf)\n",
    "opt.run(fmax=0.01)\n",
    "\n"
   ]
  },
  {
   "cell_type": "markdown",
   "metadata": {
    "ein.tags": "worksheet-0",
    "slideshow": {
     "slide_type": "-"
    }
   },
   "source": [
    "Get the lattice information and compare with experimental values"
   ]
  },
  {
   "cell_type": "code",
   "execution_count": null,
   "metadata": {
    "autoscroll": false,
    "ein.hycell": false,
    "ein.tags": "worksheet-0",
    "slideshow": {
     "slide_type": "-"
    }
   },
   "outputs": [],
   "source": [
    "a = Li_metal.get_cell()[0][0]  # student: a =\n"
   ]
  },
  {
   "cell_type": "markdown",
   "metadata": {
    "ein.tags": "worksheet-0",
    "slideshow": {
     "slide_type": "-"
    }
   },
   "source": [
    "<a id='liintercalation'></a>\n",
    "## Li intercalation in graphite"
   ]
  },
  {
   "cell_type": "markdown",
   "metadata": {
    "ein.tags": "worksheet-0",
    "slideshow": {
     "slide_type": "-"
    }
   },
   "source": [
    "![Li intercalated in graphite](C144Li18.png)\n",
    "\n",
    "Now we will calculate the intercalation of Li in graphite. For simplicity we will represent the graphite with only one layer. Also try and compare the C-C and interlayer distances to experimental values.\n",
    "\n",
    "|                                         | Experimental values | LDA | PBE | BEEF-vdW |\n",
    "|-----------------------------------------|---------------------|-----|-----|----------|\n",
    "| C-C distance / $\\unicode{x212B}$        |               1.441 |     |     |          |\n",
    "| Interlayer distance / $\\unicode{x212B}$ |               3.706 |     |     |          |\n"
   ]
  },
  {
   "cell_type": "code",
   "execution_count": null,
   "metadata": {
    "autoscroll": false,
    "ein.hycell": false,
    "ein.tags": "worksheet-0",
    "slideshow": {
     "slide_type": "-"
    }
   },
   "outputs": [],
   "source": [
    "# A little help to get you started with the combined structure\n",
    "from ase.lattice.hexagonal import Graphene\n",
    "from ase import Atom\n",
    "\n",
    "# We will have to optimize these distances\n",
    "ccdist = 1.40\n",
    "layerdist = 3.7\n",
    "\n",
    "a = ccdist * np.sqrt(3)\n",
    "c = layerdist\n",
    "\n",
    "# We will require a larger cell, to accomodate the Li\n",
    "Li_gra = Graphene('C', size=(2, 2, 1), latticeconstant={'a': a, 'c': c})\n",
    "# Append an Li atom on top of the graphene layer\n",
    "Li_gra.append(Atom('Li', (a / 2, ccdist / 2, layerdist / 2)))\n"
   ]
  },
  {
   "cell_type": "code",
   "execution_count": null,
   "metadata": {
    "autoscroll": false,
    "ein.hycell": false,
    "ein.tags": "worksheet-0",
    "slideshow": {
     "slide_type": "-"
    }
   },
   "outputs": [],
   "source": [
    "# Teacher\n",
    "\n",
    "from gpaw import GPAW, PW\n",
    "from ase import Atom\n",
    "from ase.optimize.bfgs import BFGS\n",
    "import numpy as np\n",
    "from ase.lattice.hexagonal import Graphene\n",
    "from ase.constraints import StrainFilter\n",
    "\n",
    "xc = 'LDA'\n",
    "ccdist = 1.40\n",
    "layerdist = 3.7\n",
    "\n",
    "a = ccdist * np.sqrt(3)\n",
    "c = layerdist\n",
    "\n",
    "# We will require a larger cell, to accomodate the Li\n",
    "Li_gra = Graphene('C', size=(2, 2, 1), latticeconstant={'a': a, 'c': c})\n",
    "Li_gra.append(Atom('Li', (a / 2, ccdist / 2, layerdist / 2)))\n",
    "\n",
    "calc = GPAW(mode=PW(500), kpts=(5, 5, 6), xc=xc, txt='Li-gra.txt')\n",
    "\n",
    "Li_gra.set_calculator(calc)  # Connect system and calculator\n",
    "\n",
    "sf = StrainFilter(Li_gra, mask=[1, 1, 1, 0, 0, 0])\n",
    "opt = BFGS(sf)\n",
    "opt.run(fmax=0.01)\n"
   ]
  },
  {
   "cell_type": "markdown",
   "metadata": {
    "ein.tags": "worksheet-0",
    "slideshow": {
     "slide_type": "-"
    }
   },
   "source": [
    "Now calculate the intercalation energy of Li in graphite with the following formula:\n",
    "$$E_{Li@graphite} = E_{LiC_x} - (E_{Li(s)} + x * E_{C^{graphite}})$$\n",
    "where $x$ is the number of Carbon atoms in your Li intercalated graphene cell. Remember to adjust the energies so that the correct number of atoms is taken into account.\n",
    "\n",
    "These are the experimental values to compare with\n",
    "In the end try to compare the different functionals with experimental values:\n",
    "\n",
    "|                           | Experimental values | LDA | PBE | BEEF-vdW |\n",
    "|---------------------------|---------------------|-----|-----|----------|\n",
    "| Intercalation energy / eV |              -0.124 |     |     |          |\n",
    "\n"
   ]
  },
  {
   "cell_type": "code",
   "execution_count": null,
   "metadata": {
    "autoscroll": false,
    "ein.hycell": false,
    "ein.tags": "worksheet-0",
    "slideshow": {
     "slide_type": "-"
    }
   },
   "outputs": [],
   "source": [
    "# Teacher\n",
    "e_Li_gra = Li_gra.get_potential_energy()\n",
    "e_Li = Li_metal.get_potential_energy() / len(Li_metal)\n",
    "e_C6 = 6 * gra.get_potential_energy() / len(gra)\n",
    "intercalation_energy = e_Li_gra - (e_Li + e_C6)\n",
    "print('Intercalation energy: {:.2f}eV'.format(intercalation_energy))"
   ]
  },
  {
   "cell_type": "markdown",
   "metadata": {
    "ein.tags": "worksheet-0",
    "slideshow": {
     "slide_type": "-"
    }
   },
   "source": [
    "Great job! When you have made it this far it is time to turn your attention to the cathode. If you have lots of time left though see if you can handle the bonus exercise."
   ]
  },
  {
   "cell_type": "markdown",
   "metadata": {
    "ein.tags": "worksheet-0",
    "slideshow": {
     "slide_type": "-"
    }
   },
   "source": [
    "## Bonus"
   ]
  },
  {
   "cell_type": "markdown",
   "metadata": {
    "ein.tags": "worksheet-0",
    "slideshow": {
     "slide_type": "-"
    }
   },
   "source": [
    "In the calculation of the intercalated Li we used a graphene layer with 8 Carbon atoms per unit cell. We can actually use only 6 Carbon by rotating the x and y cell vectors. This structure will be faster to calculate and still have neglible Li-Li interaction."
   ]
  },
  {
   "cell_type": "code",
   "execution_count": null,
   "metadata": {
    "autoscroll": false,
    "ein.hycell": false,
    "ein.tags": "worksheet-0",
    "slideshow": {
     "slide_type": "-"
    }
   },
   "outputs": [],
   "source": [
    "from ase import Atoms\n",
    "from ase.visualize import view\n",
    "\n",
    "ccdist = 1.40\n",
    "layerdist = 3.7\n",
    "\n",
    "a = ccdist * np.sqrt(3)\n",
    "c = layerdist\n",
    "\n",
    "Li_gra = Atoms('CCCCCCLi')  # Fill out the positions and cell vectors\n",
    "\n",
    "# Teacher\n",
    "Li_gra = Atoms('CCCCCCLi', positions=[(0, 0, 0), (0, ccdist, 0), (a, 0, 0),\n",
    "                                      (-a, 0, 0), (-a / 2, -ccdist / 2, 0),\n",
    "                                      (a / 2, -ccdist / 2, 0), (0, -ccdist, c / 2)],\n",
    "               cell=([1.5 * a, -1.5 * ccdist, 0],\n",
    "                     [1.5 * a, 1.5 * ccdist, 0],\n",
    "                     [0, 0, c]),\n",
    "               pbc=(1, 1, 1))\n"
   ]
  },
  {
   "cell_type": "code",
   "execution_count": null,
   "metadata": {},
   "outputs": [],
   "source": []
  }
 ],
 "metadata": {
  "kernelspec": {
   "display_name": "Python 3",
   "language": "python",
   "name": "python3"
  },
  "language_info": {
   "codemirror_mode": {
    "name": "ipython",
    "version": 3
   },
   "file_extension": ".py",
   "mimetype": "text/x-python",
   "name": "python",
   "nbconvert_exporter": "python",
   "pygments_lexer": "ipython3",
   "version": "3.6.5"
  },
  "name": "batteries1.master.ipynb"
 },
 "nbformat": 4,
 "nbformat_minor": 2
}
