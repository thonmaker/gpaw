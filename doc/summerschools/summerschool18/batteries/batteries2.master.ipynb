{
 "cells": [
  {
   "cell_type": "markdown",
   "metadata": {
    "ein.tags": "worksheet-0",
    "slideshow": {
     "slide_type": "-"
    }
   },
   "source": [
    "# Battery project"
   ]
  },
  {
   "cell_type": "markdown",
   "metadata": {
    "ein.tags": "worksheet-0",
    "slideshow": {
     "slide_type": "-"
    }
   },
   "source": [
    "## Day 3 - Equilibrium potential"
   ]
  },
  {
   "cell_type": "markdown",
   "metadata": {
    "ein.tags": "worksheet-0",
    "slideshow": {
     "slide_type": "-"
    }
   },
   "source": [
    "Today you will study the LiPO$_4$ cathode. You will calculate the equilibrium potential and use Bayesian error estimation to quantify how sensitive the calculated equilibrium potential is towards choice of functional. After today you should be able to discuss:\n",
    "\n",
    "-  The volume change during charge/discharge.\n",
    "\n",
    "-  The maximum gravimetric and volumetric energy density of a FePO$_4$/C battery assuming the majority of weight and volume will be given by the electrodes. \n",
    "\n",
    "-  Uncertainty in the calculations.\n",
    "\n",
    "Some of calculations you will perform today will be tedious to be run in this notebook. You will automatically submit some calculations to the HPC cluster directly from this notebook. When you have to wait for calculations to finish you can get started on addressing the bullet points above."
   ]
  },
  {
   "cell_type": "markdown",
   "metadata": {},
   "source": [
    "## Initialize"
   ]
  },
  {
   "cell_type": "code",
   "execution_count": null,
   "metadata": {},
   "outputs": [],
   "source": [
    "%matplotlib notebook\n",
    "import numpy as np\n",
    "from ase.visualize import view\n",
    "import matplotlib.pyplot as plt\n",
    "from ase.io import read, write, Trajectory\n",
    "from ase.parallel import paropen\n",
    "from gpaw import GPAW, FermiDirac, Mixer, PW\n",
    "from ase.dft.bee import BEEFEnsemble\n",
    "from ase import Atoms"
   ]
  },
  {
   "cell_type": "markdown",
   "metadata": {},
   "source": [
    "## FePO$_4$"
   ]
  },
  {
   "cell_type": "markdown",
   "metadata": {
    "ein.tags": "worksheet-0",
    "slideshow": {
     "slide_type": "-"
    }
   },
   "source": [
    "First we will construct an atoms object for FePO$_4$. ASE can read files from in a large number of different [formats](https://wiki.fysik.dtu.dk/ase/ase/io/io.html?highlight=read%20formats#file-input-and-output). However, in this case you will build it from scratch using the below information:"
   ]
  },
  {
   "cell_type": "raw",
   "metadata": {
    "format": ""
   },
   "source": [
    "# Positions:\n",
    "# Fe      2.73015081       1.46880951       4.56541172\n",
    "# Fe      2.23941067       4.40642872       2.14957739\n",
    "# Fe      7.20997230       4.40642925       0.26615813\n",
    "# Fe      7.70070740       1.46880983       2.68199421\n",
    "# O       1.16033403       1.46881052       3.40240205\n",
    "# O       3.80867172       4.40642951       0.98654342\n",
    "# O       8.77981469       4.40642875       1.42923946\n",
    "# O       6.13142032       1.46881092       3.84509827\n",
    "# O       4.37288562       1.46880982       0.81812712\n",
    "# O       0.59764596       4.40643021       3.23442747\n",
    "# O       5.56702590       4.40642886       4.01346264\n",
    "# O       9.34268360       1.46880929       1.59716233\n",
    "# O       1.64001691       0.26061277       1.17298291\n",
    "# O       3.32931769       5.61463705       3.58882629\n",
    "# O       8.30013707       3.19826250       3.65857000\n",
    "# O       6.61076951       2.67698811       1.24272700\n",
    "# O       8.30013642       5.61459688       3.65856912\n",
    "# O       6.61076982       0.26063178       1.24272567\n",
    "# O       1.64001666       2.67700652       1.17298270\n",
    "# O       3.32931675       3.19822249       3.58882660\n",
    "# P       0.90585688       1.46880966       1.89272372\n",
    "# P       4.06363530       4.40642949       4.30853266\n",
    "# P       9.03398503       4.40642957       2.93877879\n",
    "# P       5.87676435       1.46881009       0.52297232\n",
    "\n",
    "\n",
    "# Unit cell:\n",
    "#            periodic     x          y          z    \n",
    "#   1. axis:    yes    9.94012    0.00000    0.00000\n",
    "#   2. axis:    yes    0.00000    5.87524    0.00000\n",
    "#   3. axis:    yes    0.00000    0.00000    4.83157"
   ]
  },
  {
   "cell_type": "markdown",
   "metadata": {},
   "source": [
    "You *can* use the cell below as a starting point."
   ]
  },
  {
   "cell_type": "code",
   "execution_count": null,
   "metadata": {
    "scrolled": true
   },
   "outputs": [],
   "source": [
    "# fepo4 = Atoms('Fe4O...',\n",
    "#               positions=[[x0, y0, z0],[x1, y1, z1]...],\n",
    "#               cell=[x, y, z],\n",
    "#               pbc=[True, True, True])\n",
    "\n",
    "# Teacher:\n",
    "fepo4 = Atoms('Fe4O16P4',\n",
    "             positions=[[2.73015081, 1.46880951, 4.56541172],\n",
    "                [2.23941067, 4.40642872, 2.14957739],\n",
    "                [7.20997230, 4.40642925, 0.26615813],\n",
    "                [7.70070740, 1.46880983, 2.68199421],\n",
    "                [1.16033403, 1.46881052, 3.40240205],\n",
    "                [3.80867172, 4.40642951, 0.98654342],\n",
    "                [8.77981469, 4.40642875, 1.42923946],\n",
    "                [6.13142032, 1.46881092, 3.84509827],\n",
    "                [4.37288562, 1.46880982, 0.81812712],\n",
    "                [0.59764596, 4.40643021, 3.23442747],\n",
    "                [5.56702590, 4.40642886, 4.01346264],\n",
    "                [9.34268360, 1.46880929, 1.59716233],\n",
    "                [1.64001691, 0.26061277, 1.17298291],\n",
    "                [3.32931769, 5.61463705, 3.58882629],\n",
    "                [8.30013707, 3.19826250, 3.65857000],\n",
    "                [6.61076951, 2.67698811, 1.24272700],\n",
    "                [8.30013642, 5.61459688, 3.65856912],\n",
    "                [6.61076982, 0.26063178, 1.24272567],\n",
    "                [1.64001666, 2.67700652, 1.17298270],\n",
    "                [3.32931675, 3.19822249, 3.58882660],\n",
    "                [0.90585688, 1.46880966, 1.89272372],\n",
    "                [4.06363530, 4.40642949, 4.30853266],\n",
    "                [9.03398503, 4.40642957, 2.93877879],\n",
    "                [5.87676435, 1.46881009, 0.52297232]\n",
    "                        ],\n",
    "             cell=[9.94012, 5.87524, 4.83157],\n",
    "             pbc=[1, 1, 1])"
   ]
  },
  {
   "cell_type": "markdown",
   "metadata": {},
   "source": [
    "Visualize the structure you have made. Explore the different functions in the visualizer and determine the volume of the cell (`View -> Quick Info`)."
   ]
  },
  {
   "cell_type": "code",
   "execution_count": null,
   "metadata": {},
   "outputs": [],
   "source": [
    "view(fepo4)"
   ]
  },
  {
   "cell_type": "markdown",
   "metadata": {},
   "source": [
    "For better convergence of calculations you should specify initial magnetic moments to iron. The iron will in this structure be Fe$^{3+}$ as it donates two *4s* electrons and one *3d* electron to PO$_4$$^{3-}$. What is the magnetic moment of iron? For simplicity you should assume that FePO$_4$ is ferromagnetic."
   ]
  },
  {
   "cell_type": "code",
   "execution_count": null,
   "metadata": {},
   "outputs": [],
   "source": [
    "# Teacher:\n",
    "for atom in fepo4:\n",
    "    if atom.symbol == 'Fe':\n",
    "        atom.magmom = 5.0  # student: atom.magmom = ? "
   ]
  },
  {
   "cell_type": "markdown",
   "metadata": {},
   "source": [
    "Now examine the initial magnetic moments of the system using an [appropriate method](https://wiki.fysik.dtu.dk/ase/ase/atoms.html?highlight=get_initial#list-of-all-methods)."
   ]
  },
  {
   "cell_type": "code",
   "execution_count": null,
   "metadata": {},
   "outputs": [],
   "source": [
    "magmoms = fepo4.get_initial_magnetic_moments()  # student: magmom = fepo4.xxx()\n",
    "print(magmoms)"
   ]
  },
  {
   "cell_type": "markdown",
   "metadata": {},
   "source": [
    "Write your atoms object to file."
   ]
  },
  {
   "cell_type": "code",
   "execution_count": null,
   "metadata": {},
   "outputs": [],
   "source": [
    "write('fepo4.traj', fepo4)"
   ]
  },
  {
   "cell_type": "markdown",
   "metadata": {},
   "source": [
    "For this calculation you will use the BEEF-vdW functional developed by [Wellendorff et al.](https://journals.aps.org/prb/abstract/10.1103/PhysRevB.85.235149) Although there are better alternatives for calculating the energy of bulk systems, the BEEF-vdW has a build-in ensemble for error estimation of calculated energies. In the set-up of this calculator you will append relevant keyword values into a dictionary, which is inputted the calculator object."
   ]
  },
  {
   "cell_type": "raw",
   "metadata": {},
   "source": [
    "# params_GPAW = {}"
   ]
  },
  {
   "cell_type": "markdown",
   "metadata": {},
   "source": [
    "To save computational time while keeping the calculations physically sound, the following should be used:"
   ]
  },
  {
   "cell_type": "raw",
   "metadata": {},
   "source": [
    "# params_GPAW['mode']        = PW(500)                      # The used plane wave energy cutoff\n",
    "# params_GPAW['nbands']      = -40                          # The number on empty bands had the system been spin-paired \n",
    "# params_GPAW['kpts']        = {'size': (2, 4, 5),          # The k-point mesh\n",
    "#                               'gamma': True}\n",
    "# params_GPAW['spinpol']     = True                         # Performing spin polarized calculations\n",
    "# params_GPAW['xc']          = 'BEEF-vdW'                   # The used exchange-correlation functional\n",
    "# params_GPAW['occupations'] = FermiDirac(width=0.1,        # The smearing\n",
    "#                                         fixmagmom=True)   # Total magnetic moment fixed to the initial value\n",
    "# params_GPAW['convergence'] = {'eigenstates': 1.0e-4,      # eV^2 / electron\n",
    "#                               'energy':      2.0e-4,      # eV / electron\n",
    "#                               'density':     1.0e-3}\n",
    "# params_GPAW['mixer']       = Mixer(0.1, 5, weight=100.0)  # The mixer used during SCF optimization"
   ]
  },
  {
   "cell_type": "markdown",
   "metadata": {},
   "source": [
    "DFT suffers from a so-called self-interaction error. An electron interacts with the system electron density, to which it contributes itself. The error is most pronounced for highly localized orbitals. [Hubbard U correction](https://wiki.fysik.dtu.dk/gpaw/tutorials/hubbardu/hubbardu.html#dft-u-theory) is used to mitigate the self-interaction error of the highly localized *3d*-electrons of Fe. This is done in GPAW using the `setups` keyword."
   ]
  },
  {
   "cell_type": "raw",
   "metadata": {},
   "source": [
    "# params_GPAW['setups']      = {'Fe': ':d,4.3'}              # U=4.3 applied to d orbitals"
   ]
  },
  {
   "cell_type": "markdown",
   "metadata": {},
   "source": [
    "Make a GPAW calculator and attach it to the atoms object. Here you will use [get_potential_energy](https://wiki.fysik.dtu.dk/ase/ase/atoms.html#ase.Atoms.get_potential_energy) to start the calculation. "
   ]
  },
  {
   "cell_type": "raw",
   "metadata": {},
   "source": [
    "# calc = GPAW(**params_GPAW)\n",
    "# fepo4.set_calculator(calc)\n",
    "# epot_fepo4_cell = fepo4.get_potential_energy()\n",
    "# print(epot_fepo4_cell)\n",
    "# write('fepo4_out.traj', fepo4)"
   ]
  },
  {
   "cell_type": "markdown",
   "metadata": {},
   "source": [
    "You will use the ensemble capability of the BEEF-vdW functional. You will need this later so you should write it to file so you do not have to start all over again later. Start by obtaining the required data from the calculator, i.e., the individual energy of each term in the BEEF-vdW functional expansion. Get the energy difference compared to BEEF-vdW for 2000 ensemble functionals."
   ]
  },
  {
   "cell_type": "raw",
   "metadata": {},
   "source": [
    "# from ase.dft.bee import BEEFEnsemble\n",
    "\n",
    "# ens = BEEFEnsemble(calc)   \n",
    "# dE = ens.get_ensemble_energies(2000)"
   ]
  },
  {
   "cell_type": "markdown",
   "metadata": {},
   "source": [
    "Print the energy differences to file. This is not the most efficient way of printing to file but can allow easier subsequent data treatment. "
   ]
  },
  {
   "cell_type": "raw",
   "metadata": {},
   "source": [
    "# with paropen('ensemble_fepo4.dat', 'a') as result:\n",
    "#     for e in dE:\n",
    "#         print(e, file=result)"
   ]
  },
  {
   "cell_type": "markdown",
   "metadata": {},
   "source": [
    "You now have what you need to make a full script. Make it in the cell below and execute it to make sure the script runs. Once you have made sure the calculation is able to run, stop it by `interupt the kernel`."
   ]
  },
  {
   "cell_type": "code",
   "execution_count": null,
   "metadata": {},
   "outputs": [],
   "source": [
    "# %%writefile 'fepo4.py'\n",
    "from ase.parallel import paropen\n",
    "from ase.io import read, write\n",
    "from ase.dft.bee import BEEFEnsemble\n",
    "from gpaw import GPAW, FermiDirac, Mixer, PW\n",
    "\n",
    "# Read in the structure you made and wrote to file above\n",
    "fepo4 = read('fepo4.traj')   \n",
    "\n",
    "params_GPAW = {...}\n",
    "\n",
    "# do calculation ...\n",
    "# BEEF ...\n",
    "# write ensemble_fepo4.dat file ...\n",
    "\n",
    "write('fepo4_out.traj', fepo4)\n",
    "\n",
    "\n",
    "# Teacher:\n",
    "from ase.parallel import paropen\n",
    "from ase.io import read, write\n",
    "from ase.io.trajectory import Trajectory\n",
    "from ase.dft.bee import BEEFEnsemble\n",
    "from gpaw import GPAW, FermiDirac, Mixer, PW\n",
    "fepo4 = read('fepo4.traj')   \n",
    "\n",
    "params_GPAW = {}\n",
    "params_GPAW['mode']        = PW(500)                     #The used plane wave energy cutoff\n",
    "params_GPAW['nbands']      = -40                           #The number on empty bands had the system been spin-paired \n",
    "params_GPAW['kpts']        = {'size':  (2,4,5),            #The k-point mesh\n",
    "                              'gamma': True}\n",
    "params_GPAW['spinpol']     = True                          #Performing spin polarized calculations\n",
    "params_GPAW['xc']          = 'BEEF-vdW'                    #The used exchange-correlation functional\n",
    "params_GPAW['occupations'] = FermiDirac(width = 0.1,      #The smearing\n",
    "                                        fixmagmom = True)  #Total magnetic moment fixed to the initial value\n",
    "params_GPAW['convergence'] = {'eigenstates': 1.0e-4,       #eV^2 / electron\n",
    "                              'energy':      2.0e-4,       #eV / electron\n",
    "                              'density':     1.0e-3,}\n",
    "params_GPAW['mixer']       = Mixer(0.1, 5, weight=100.0)   #The mixer used during SCF optimization\n",
    "params_GPAW['setups']      = {'Fe': ':d,4.3'}              #U=4.3 applied to d orbitals\n",
    "\n",
    "calc = GPAW(**params_GPAW)\n",
    "fepo4.set_calculator(calc)\n",
    "epot_fepo4_cell=fepo4.get_potential_energy()\n",
    "print('E_Pot=', epot_fepo4_cell)\n",
    "\n",
    "write('fepo4_out.traj', fepo4)\n",
    "\n",
    "ens = BEEFEnsemble(calc)   \n",
    "dE = ens.get_ensemble_energies(2000)\n",
    "\n",
    "with paropen('ensemble_fepo4.dat', 'a') as result:\n",
    "    for e in dE:\n",
    "        print(e, file=result)"
   ]
  },
  {
   "cell_type": "markdown",
   "metadata": {},
   "source": [
    "Uncomment the `%%writefile` line and execute the cell again and submit the calculation to the HPC cluster. The calculation should take around 10 minutes. "
   ]
  },
  {
   "cell_type": "code",
   "execution_count": null,
   "metadata": {},
   "outputs": [],
   "source": [
    "!qsub.py -p 8 -t 1 fepo4.py  # submits the calculation to 8 cores, 1 hour "
   ]
  },
  {
   "cell_type": "markdown",
   "metadata": {},
   "source": [
    "Run the below cell to examine the status of your calculation. If no output is returned, the calculation has either finished or failed."
   ]
  },
  {
   "cell_type": "code",
   "execution_count": null,
   "metadata": {},
   "outputs": [],
   "source": [
    "!qstat -u $USER"
   ]
  },
  {
   "cell_type": "markdown",
   "metadata": {},
   "source": [
    "Once the calculation begins, you can run the cells below to open the error log and output of the calculation in a new window. This can be done while the calculation is running."
   ]
  },
  {
   "cell_type": "code",
   "execution_count": null,
   "metadata": {},
   "outputs": [],
   "source": [
    "# Error log\n",
    "!gedit \"$(ls -t fepo4.py.e* | head -1)\""
   ]
  },
  {
   "cell_type": "code",
   "execution_count": null,
   "metadata": {},
   "outputs": [],
   "source": [
    "# Output\n",
    "!gedit \"$(ls -t fepo4.py.o* | head -1)\""
   ]
  },
  {
   "cell_type": "markdown",
   "metadata": {},
   "source": [
    "Once the calculation has finished, load in the result. You can skip past this cell and return later."
   ]
  },
  {
   "cell_type": "code",
   "execution_count": null,
   "metadata": {},
   "outputs": [],
   "source": [
    "try:\n",
    "    fepo4 = read('fepo4_out.traj')\n",
    "    print('Calculation finished')\n",
    "except FileNotFoundError:\n",
    "    print('Calculation has not yet finished')"
   ]
  },
  {
   "cell_type": "markdown",
   "metadata": {
    "ein.tags": "worksheet-0",
    "slideshow": {
     "slide_type": "-"
    }
   },
   "source": [
    "## LiFePO$_4$\n",
    "\n"
   ]
  },
  {
   "cell_type": "markdown",
   "metadata": {},
   "source": [
    "You will now do similar for LiFePO$_4$. In this case you will load in a template structure called `lifepo4_wo_li.traj` missing only the Li atoms. It is located in the resources folder. "
   ]
  },
  {
   "cell_type": "code",
   "execution_count": null,
   "metadata": {},
   "outputs": [],
   "source": [
    "lifepo4_wo_li = read('lifepo4_wo_li.traj')     "
   ]
  },
  {
   "cell_type": "markdown",
   "metadata": {},
   "source": [
    "Visualize the structure."
   ]
  },
  {
   "cell_type": "code",
   "execution_count": null,
   "metadata": {},
   "outputs": [],
   "source": [
    "view(lifepo4_wo_li)"
   ]
  },
  {
   "cell_type": "markdown",
   "metadata": {},
   "source": [
    "You should now add Li into the structure using the fractional coordinates below:"
   ]
  },
  {
   "cell_type": "raw",
   "metadata": {},
   "source": [
    "# Li  0\t    0\t    0\n",
    "# Li  0\t    0.5 \t0\n",
    "# Li  0.5\t0.5 \t0.5\n",
    "# Li  0.5\t0\t    0.5"
   ]
  },
  {
   "cell_type": "markdown",
   "metadata": {},
   "source": [
    "Add Li atoms into the structure, e.g., by following the example in [this ASE tutorial](https://wiki.fysik.dtu.dk/ase/tutorials/manipulating_atoms.html?highlight=set_cell#manipulating-atoms)."
   ]
  },
  {
   "cell_type": "code",
   "execution_count": null,
   "metadata": {},
   "outputs": [],
   "source": [
    "from numpy import identity\n",
    "from ase import Atom\n",
    "\n",
    "cell = lifepo4_wo_li.get_cell()\n",
    "\n",
    "# ...\n",
    "\n",
    "# lifepo4 = lifepo4_wo_li.copy()\n",
    "\n",
    "# Teacher:\n",
    "from numpy import identity\n",
    "from ase import Atom\n",
    "\n",
    "lifepo4 = lifepo4_wo_li.copy()\n",
    "cell = lifepo4.get_cell()\n",
    "xyzcell = identity(3) \n",
    "lifepo4.set_cell(xyzcell, scale_atoms=True)  # Set the unit cell and rescale\n",
    "lifepo4.append(Atom('Li', (0, 0, 0)))\n",
    "lifepo4.append(Atom('Li', (0, 0.5, 0)))\n",
    "lifepo4.append(Atom('Li', (0.5, 0.5, 0.5)))\n",
    "lifepo4.append(Atom('Li', (0.5, 0, 0.5)))\n",
    "lifepo4.set_cell(cell, scale_atoms=True) "
   ]
  },
  {
   "cell_type": "markdown",
   "metadata": {
    "autoscroll": false,
    "ein.hycell": false,
    "ein.tags": "worksheet-0",
    "slideshow": {
     "slide_type": "-"
    }
   },
   "source": [
    "Visualize the structure with added Li."
   ]
  },
  {
   "cell_type": "code",
   "execution_count": null,
   "metadata": {},
   "outputs": [],
   "source": [
    "view(lifepo4)"
   ]
  },
  {
   "cell_type": "markdown",
   "metadata": {},
   "source": [
    "Ensure that the magnetic moments are as they should be, once again assuming ferromagnetism for simplicity."
   ]
  },
  {
   "cell_type": "code",
   "execution_count": null,
   "metadata": {},
   "outputs": [],
   "source": [
    "# ...\n",
    "\n",
    "# teacher\n",
    "print(lifepo4.get_initial_magnetic_moments())  "
   ]
  },
  {
   "cell_type": "markdown",
   "metadata": {},
   "source": [
    "At this point you should save your structure by writing it to a trajectory file."
   ]
  },
  {
   "cell_type": "code",
   "execution_count": null,
   "metadata": {},
   "outputs": [],
   "source": [
    "write('lifepo4.traj', lifepo4)"
   ]
  },
  {
   "cell_type": "markdown",
   "metadata": {},
   "source": [
    "You should now calculate the potential energy of this sytem using the method and same calculational parameters as for FePO$_4$ above. Make a full script in the cell below similar to what you did above for FePO$_4$ and make sure that it runs. "
   ]
  },
  {
   "cell_type": "code",
   "execution_count": null,
   "metadata": {},
   "outputs": [],
   "source": [
    "# %% writefile 'lifepo4.py'\n",
    "from ase.parallel import paropen\n",
    "from ase.io import read, write\n",
    "from ase.dft.bee import BEEFEnsemble\n",
    "from gpaw import GPAW, FermiDirac, Mixer, PW\n",
    "\n",
    "# Read in the structure you made and wrote to file above\n",
    "lifepo4 = read('lifepo4.traj')   \n",
    "\n",
    "params_GPAW = {...}\n",
    "\n",
    "# ...\n",
    "# ...\n",
    "# ...\n",
    "\n",
    "# write('lifepo4_out.traj', lifepo4)\n",
    "\n",
    "# teacher\n",
    "from ase.parallel import paropen\n",
    "from ase.io import read\n",
    "from ase.io.trajectory import Trajectory\n",
    "from ase.dft.bee import BEEFEnsemble\n",
    "from gpaw import GPAW, FermiDirac, Mixer, PW\n",
    "\n",
    "#Read in the structure you made and wrote to file above\n",
    "lifepo4 = read('lifepo4.traj')   \n",
    "\n",
    "params_GPAW = {}\n",
    "params_GPAW['mode']        = PW(500)                     #The used plane wave energy cutoff\n",
    "params_GPAW['nbands']      = -40                           #The number on empty bands had the system been spin-paired \n",
    "params_GPAW['kpts']        = {'size':  (2,4,5),            #The k-point mesh\n",
    "                              'gamma': True}\n",
    "params_GPAW['spinpol']     = True                          #Performing spin polarized calculations\n",
    "params_GPAW['xc']          = 'BEEF-vdW'                    #The used exchange-correlation functional\n",
    "params_GPAW['occupations'] = FermiDirac(width = 0.1,      #The smearing\n",
    "                                        fixmagmom = True)  #Total magnetic moment fixed to the initial value\n",
    "params_GPAW['convergence'] = {'eigenstates': 1.0e-4,       #eV^2 / electron\n",
    "                              'energy':      2.0e-4,       #eV / electron\n",
    "                              'density':     1.0e-3,}\n",
    "params_GPAW['mixer']       = Mixer(0.1, 5, weight=100.0)   #The mixer used during SCF optimization\n",
    "params_GPAW['setups']      = {'Fe': ':d,4.3'}              #U=4.3 applied to d orbitals\n",
    "\n",
    "calc = GPAW(**params_GPAW)\n",
    "lifepo4.set_calculator(calc)\n",
    "epot_lifepo4_cell=lifepo4.get_potential_energy()\n",
    "print('E_Pot=', epot_lifepo4_cell)\n",
    "\n",
    "traj=Trajectory('lifepo4_out.traj', mode='w', atoms=lifepo4)\n",
    "traj.write()\n",
    "\n",
    "ens = BEEFEnsemble(calc)   \n",
    "dE = ens.get_ensemble_energies(2000)\n",
    "result = paropen('ensemble_lifepo4.dat','a')\n",
    "for e in dE:\n",
    "    print(e, file=result)\n",
    "result.close()"
   ]
  },
  {
   "cell_type": "markdown",
   "metadata": {},
   "source": [
    "If the code runs, submit to the HPC cluster as you did above. The calculation takes approximately 10 minutes."
   ]
  },
  {
   "cell_type": "code",
   "execution_count": null,
   "metadata": {},
   "outputs": [],
   "source": [
    "!qsub.py -p 8 -t 1 lifepo4.py  # submits the calculation to 8 cores, 1 hour "
   ]
  },
  {
   "cell_type": "markdown",
   "metadata": {},
   "source": [
    "Run the below cell to examine the status of your calculation. If no output is returned, the calculation has either finished or failed."
   ]
  },
  {
   "cell_type": "code",
   "execution_count": null,
   "metadata": {},
   "outputs": [],
   "source": [
    "!qstat -u $USER"
   ]
  },
  {
   "cell_type": "markdown",
   "metadata": {},
   "source": [
    "Once the calculation begins, you can run the cells below to open the error log and output of the calculation in a new window."
   ]
  },
  {
   "cell_type": "code",
   "execution_count": null,
   "metadata": {},
   "outputs": [],
   "source": [
    "# Error log\n",
    "!gedit \"$(ls -t lifepo4.py.e* | head -1)\""
   ]
  },
  {
   "cell_type": "code",
   "execution_count": null,
   "metadata": {},
   "outputs": [],
   "source": [
    "# Output\n",
    "!gedit \"$(ls -t lifepo4.py.o* | head -1)\""
   ]
  },
  {
   "cell_type": "markdown",
   "metadata": {},
   "source": [
    "When calculation has finished, load in the result. You can skip past this cell and return later."
   ]
  },
  {
   "cell_type": "code",
   "execution_count": null,
   "metadata": {},
   "outputs": [],
   "source": [
    "try:\n",
    "    lifepo4=read('lifepo4_out.traj')\n",
    "    print('Calculation finished')\n",
    "except FileNotFoundError:\n",
    "    print('Calculation has not yet finished')"
   ]
  },
  {
   "cell_type": "markdown",
   "metadata": {
    "ein.tags": "worksheet-0",
    "slideshow": {
     "slide_type": "-"
    }
   },
   "source": [
    "### Li metal\n",
    "\n",
    "We use a Li metal reference to calculate the equilibrium potential. On exercise day 2 you used a Li metal reference to calculate the intercalation energy in the graphite anode. The approach is similar here. You should be able to keep these calculations in the notebook. Although you already did something very similar on day 2, the fastest will be to run the cell below rather than attempting to reuse your prior result. If you get a warning - ignore it."
   ]
  },
  {
   "cell_type": "code",
   "execution_count": null,
   "metadata": {},
   "outputs": [],
   "source": [
    "from ase import Atoms\n",
    "from gpaw import GPAW, FermiDirac, PW\n",
    "from ase.optimize import BFGS\n",
    "from ase.build import bulk\n",
    "from ase.constraints import StrainFilter\n",
    "\n",
    "li_metal = bulk('Li', 'bcc', a=3.3)\n",
    "\n",
    "calc = GPAW(mode=PW(500),\n",
    "            kpts=(8, 8, 8),\n",
    "            occupations=FermiDirac(0.15),\n",
    "            nbands=-10,\n",
    "            txt=None,\n",
    "            xc='BEEF-vdW')\n",
    "\n",
    "li_metal.set_calculator(calc)\n",
    "\n",
    "sf = StrainFilter(li_metal, mask=[1, 1, 1, 0, 0, 0])\n",
    "opt = BFGS(sf, trajectory='li_metal.traj')\n",
    "opt.run(fmax=0.01)"
   ]
  },
  {
   "cell_type": "markdown",
   "metadata": {},
   "source": [
    "Now calculate the ensemble in the same way as for FePO$_4$ and LiFePO$_4$."
   ]
  },
  {
   "cell_type": "code",
   "execution_count": null,
   "metadata": {},
   "outputs": [],
   "source": [
    "ens = BEEFEnsemble(calc)\n",
    "li_metal_ens_cell= ens.get_ensemble_energies(2000)  \n",
    "with paropen('ensemble_li_metal.dat', 'a') as result:\n",
    "    for e in li_metal_ens_cell:\n",
    "        print(e, file=result)"
   ]
  },
  {
   "cell_type": "markdown",
   "metadata": {},
   "source": [
    "## Calculate equilibrium potential and uncertainty"
   ]
  },
  {
   "cell_type": "markdown",
   "metadata": {},
   "source": [
    "You can now calculate the equilibrium potential for the case of a FePO$_4$/Li metal battery from the intercallation energy of Li in FePO$_4$. For simplicity, use that assumption that all vibrational energies and entropic terms cancel each other. You should now have completed all submitted calculations before you proceed."
   ]
  },
  {
   "cell_type": "markdown",
   "metadata": {},
   "source": [
    "The calculated energies are for the full cells. Convert them to the energy per formula unit. The [len(...)](https://docs.python.org/3.6/library/functions.html#len) function can be quite helpful for this."
   ]
  },
  {
   "cell_type": "code",
   "execution_count": null,
   "metadata": {},
   "outputs": [],
   "source": [
    "epot_fepo4_cell=fepo4.get_potential_energy()\n",
    "epot_lifepo4_cell=lifepo4.get_potential_energy()\n",
    "epot_li_metal_cell=li_metal.get_potential_energy()\n",
    "print('epot_fepo4_cell =', epot_fepo4_cell)\n",
    "print('epot_lifepo4_cell =', epot_lifepo4_cell)\n",
    "print('epot_li_metal_cell =', epot_li_metal_cell)"
   ]
  },
  {
   "cell_type": "code",
   "execution_count": null,
   "metadata": {},
   "outputs": [],
   "source": [
    "epot_fepo4 = epot_fepo4_cell / len(fepo4) * 6  # student: epot_fepo4 = ...\n",
    "epot_lifepo4 = epot_lifepo4_cell / len(lifepo4) * 7  # student: epot_lifepo4 = ...\n",
    "epot_li_metal = epot_li_metal_cell / len(li_metal)  # student: epot_li_metal = ...\n",
    "# print(epot_fepo4, ...)"
   ]
  },
  {
   "cell_type": "markdown",
   "metadata": {},
   "source": [
    "No calculate the equilibrium potential under the assumption that it is given by $V_{eq} = \\Delta U /e $, where $U$ is the electronic potential energy of the system and $e$ is the number of electrons transfered."
   ]
  },
  {
   "cell_type": "code",
   "execution_count": null,
   "metadata": {},
   "outputs": [],
   "source": [
    "# V_eq = ...\n",
    "\n",
    "# teacher\n",
    "V_eq = epot_lifepo4 - epot_fepo4 - epot_li_metal\n",
    "print(V_eq)"
   ]
  },
  {
   "cell_type": "markdown",
   "metadata": {},
   "source": [
    "You will now calculate the error estimate for the Li intercallation energy in FePO$_4$ using the BEEF ensemble results. Start by loading in the files. Wait a few minutes and rerun the cell if the number is not 2000 for all of them. "
   ]
  },
  {
   "cell_type": "code",
   "execution_count": null,
   "metadata": {},
   "outputs": [],
   "source": [
    "fepo4_ens_cell = np.genfromtxt('ensemble_fepo4.dat')\n",
    "lifepo4_ens_cell = np.genfromtxt('ensemble_lifepo4.dat')\n",
    "\n",
    "print('number of functionals in ensemble=', len(fepo4_ens_cell))\n",
    "print('number of functionals in ensemble=', len(lifepo4_ens_cell))\n",
    "print('number of functionals in ensemble=', len(li_metal_ens_cell))"
   ]
  },
  {
   "cell_type": "markdown",
   "metadata": {},
   "source": [
    "Note that these are energies per cell and not per formula unit. Convert them as you did the potential energies above. Note that you are now performing the operation on a list of length 2000 and not a single float value as before."
   ]
  },
  {
   "cell_type": "code",
   "execution_count": null,
   "metadata": {},
   "outputs": [],
   "source": [
    "# fepo4_ens = fepo4_ens_cell / ...\n",
    "# ...\n",
    "# ...\n",
    "\n",
    "# teacher\n",
    "fepo4_ens = fepo4_ens_cell / len(fepo4) * 6\n",
    "lifepo4_ens = lifepo4_ens_cell / len(lifepo4) * 7\n",
    "li_metal_ens = li_metal_ens_cell / len(li_metal)"
   ]
  },
  {
   "cell_type": "markdown",
   "metadata": {},
   "source": [
    "Make a list of equilibrium potentials."
   ]
  },
  {
   "cell_type": "code",
   "execution_count": null,
   "metadata": {},
   "outputs": [],
   "source": [
    "# V_eq_ens = lifepo4_ens - ...\n",
    "\n",
    "# teacher\n",
    "V_eq_ens = lifepo4_ens - fepo4_ens - li_metal_ens"
   ]
  },
  {
   "cell_type": "markdown",
   "metadata": {},
   "source": [
    "Use the plot command below to visualize the distribution."
   ]
  },
  {
   "cell_type": "code",
   "execution_count": null,
   "metadata": {},
   "outputs": [],
   "source": [
    "plt.hist(V_eq_ens, 50)\n",
    "plt.grid(True)"
   ]
  },
  {
   "cell_type": "markdown",
   "metadata": {},
   "source": [
    "Use the [NumPy function standard deviation function](https://docs.scipy.org/doc/numpy/reference/generated/numpy.std.html#numpy-std) to obtain the standard deviation of the ensemble."
   ]
  },
  {
   "cell_type": "code",
   "execution_count": null,
   "metadata": {},
   "outputs": [],
   "source": [
    "# error = ...\n",
    "# print(error)\n",
    "\n",
    "# teacher\n",
    "error = np.std(V_eq_ens)\n",
    "print(error)"
   ]
  },
  {
   "cell_type": "markdown",
   "metadata": {},
   "source": [
    "The equilibrium potential for a FePO$_4$/Li battery is thus as a good estimate:"
   ]
  },
  {
   "cell_type": "code",
   "execution_count": null,
   "metadata": {},
   "outputs": [],
   "source": [
    "print('{:.2f} V +- {:.2f} V'.format(V_eq, error))"
   ]
  },
  {
   "cell_type": "markdown",
   "metadata": {},
   "source": [
    "You can get the equilibrium potential for the FePO$_4$/C battery using the intercallation energy of Li in graphite, that you calculated on Day 2. What equilibrium potential do you find? How does that compare to the cell voltage you can obtain from FePO$_4$/C batteries?"
   ]
  },
  {
   "cell_type": "code",
   "execution_count": null,
   "metadata": {},
   "outputs": [],
   "source": [
    "# You can use this cell for FePO4/C potential calculation"
   ]
  },
  {
   "cell_type": "markdown",
   "metadata": {},
   "source": [
    "Make sure you are able to discuss the bullet points at the top of this notebook. You can use the cell below for calculations."
   ]
  },
  {
   "cell_type": "code",
   "execution_count": null,
   "metadata": {},
   "outputs": [],
   "source": []
  },
  {
   "cell_type": "markdown",
   "metadata": {},
   "source": [
    "## Bonus"
   ]
  },
  {
   "cell_type": "markdown",
   "metadata": {},
   "source": [
    "How does the predicted error estimate change if you consider the full reaction from Li in graphite + FePO4  to empty graphite + LiFePO4."
   ]
  }
 ],
 "metadata": {
  "kernelspec": {
   "display_name": "Python 3",
   "language": "python",
   "name": "python3"
  },
  "language_info": {
   "codemirror_mode": {
    "name": "ipython",
    "version": 3
   },
   "file_extension": ".py",
   "mimetype": "text/x-python",
   "name": "python",
   "nbconvert_exporter": "python",
   "pygments_lexer": "ipython3",
   "version": "3.6.5"
  },
  "name": "battery-exercise.ipynb"
 },
 "nbformat": 4,
 "nbformat_minor": 2
}
